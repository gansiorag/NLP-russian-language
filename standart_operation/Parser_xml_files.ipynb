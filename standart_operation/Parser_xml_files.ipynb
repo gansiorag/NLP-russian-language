{
 "cells": [
  {
   "cell_type": "markdown",
   "id": "4d09aac9",
   "metadata": {},
   "source": [
    "# Parser XML files\n",
    "**sorce data** --->  http://opencorpora.org/files/export/annot/annot.opcorpora.xml.zip <br>\n",
    "**sorce data** on local desk ---> /home/al/Projects_My/NLP-russian-language/datasets/annot.opcorpora.xml"
   ]
  },
  {
   "cell_type": "code",
   "execution_count": 1,
   "id": "47b2e0d3",
   "metadata": {},
   "outputs": [],
   "source": [
    "import xml.etree.ElementTree as ET"
   ]
  },
  {
   "cell_type": "code",
   "execution_count": null,
   "id": "fb98f9e5",
   "metadata": {},
   "outputs": [],
   "source": [
    "root_node = ET.parse('/home/al/Projects_My/NLP-russian-language/datasets/annot.opcorpora.xml').getroot() \n",
    "print(root_node) "
   ]
  },
  {
   "cell_type": "code",
   "execution_count": null,
   "id": "eb28de99",
   "metadata": {},
   "outputs": [],
   "source": []
  }
 ],
 "metadata": {
  "kernelspec": {
   "display_name": "Python 3 (ipykernel)",
   "language": "python",
   "name": "python3"
  },
  "language_info": {
   "codemirror_mode": {
    "name": "ipython",
    "version": 3
   },
   "file_extension": ".py",
   "mimetype": "text/x-python",
   "name": "python",
   "nbconvert_exporter": "python",
   "pygments_lexer": "ipython3",
   "version": "3.8.10"
  }
 },
 "nbformat": 4,
 "nbformat_minor": 5
}
