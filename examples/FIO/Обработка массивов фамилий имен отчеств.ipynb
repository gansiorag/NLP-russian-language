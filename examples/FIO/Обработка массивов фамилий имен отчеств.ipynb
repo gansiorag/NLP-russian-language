{
 "cells": [
  {
   "cell_type": "markdown",
   "metadata": {},
   "source": [
    "# Создание набора имен отчесв и фамилий\n",
    "Из исходных файлов создаются следующие наборы данных\n",
    "Общие файлы без разделения по полу Фамилии - , Имена - , Отчества -"
   ]
  },
  {
   "cell_type": "code",
   "execution_count": 1,
   "metadata": {},
   "outputs": [],
   "source": [
    "name_file_1 = '/home/al/Projects_My/NLP-russian-language/datasets/datasets_with_name_peaple/справочники/telefonnyi_spravochnik_goroda_iaroslavl.txt'\n",
    "name_file_2 = '/home/al/Projects_My/NLP-russian-language/datasets/datasets_with_name_peaple/База данных имен и фамилий в формате CSV/russian_names.csv'\n",
    "name_file_3 = '/home/al/Projects_My/NLP-russian-language/datasets/datasets_with_name_peaple/База данных имен и фамилий в формате CSV/russian_surnames.csv'\n",
    "name_file_4 = '/home/al/Projects_My/NLP-russian-language/datasets/datasets_with_name_peaple/female_names_rus.txt'\n",
    "name_file_5 = '/home/al/Projects_My/NLP-russian-language/datasets/datasets_with_name_peaple/male_names_rus.txt'\n",
    "name_file_6 = '/home/al/Projects_My/NLP-russian-language/datasets/datasets_with_name_peaple/male_surnames_rus.txt'\n",
    "name_file_7 = '/home/al/Projects_My/NLP-russian-language/datasets/datasets_with_name_peaple/отчества.csv'\n",
    "name_file_8 = '/home/al/Projects_My/NLP-russian-language/datasets/datasets_with_name_peaple/Имена_с_отчествами.txt'\n",
    "name_file_9 = '/home/al/Projects_My/NLP-russian-language/datasets/datasets_with_name_peaple/name-surname-master/surnames-184624.txt'\n",
    "name_file_10 = '/home/al/Projects_My/NLP-russian-language/datasets/datasets_with_name_peaple/name-surname-master/female-names-v1-14376.txt'\n",
    "name_file_11 = '/home/al/Projects_My/NLP-russian-language/datasets/datasets_with_name_peaple/name-surname-master/female-names-v2-16673.txt'\n",
    "name_file_12 = '/home/al/Projects_My/NLP-russian-language/datasets/datasets_with_name_peaple/name-surname-master/male-names-v1-14999.txt'\n",
    "name_file_13 = '/home/al/Projects_My/NLP-russian-language/datasets/datasets_with_name_peaple/name-surname-master/male-names-v2-21904.txt'\n",
    "name_file_14 = '/home/al/Projects_My/NLP-russian-language/datasets/datasets_with_name_peaple/справочники/Телефоны_Углича.txt'"
   ]
  },
  {
   "cell_type": "code",
   "execution_count": 2,
   "metadata": {},
   "outputs": [
    {
     "name": "stdout",
     "output_type": "stream",
     "text": [
      "135060 24785 24738\n"
     ]
    }
   ],
   "source": [
    "fameli = []\n",
    "name = []\n",
    "name_dad = []\n",
    "with open(name_file_1) as is_file:\n",
    "    for line in is_file:\n",
    "        servis_list = line.split(';')\n",
    "        fameli.append(servis_list[3].split()[1].lower())\n",
    "        if len(servis_list[4])>1:\n",
    "            if len(servis_list[4].split()) ==2:\n",
    "                name.append(servis_list[4].split()[0].lower())\n",
    "                name_dad.append(servis_list[4].split()[1].lower())\n",
    "            else: name.append(servis_list[4].split()[0].lower())\n",
    "print(len(fameli), len(name), len(name_dad))"
   ]
  },
  {
   "cell_type": "code",
   "execution_count": 3,
   "metadata": {},
   "outputs": [
    {
     "name": "stdout",
     "output_type": "stream",
     "text": [
      "135060 51691 24738\n"
     ]
    }
   ],
   "source": [
    "k = 0\n",
    "with open(name_file_2) as is_file:\n",
    "    for line in is_file:\n",
    "        if k!=0:\n",
    "            servis_list = line.split(';')\n",
    "            #print(servis_list[1])\n",
    "            name.append(servis_list[1].lower())\n",
    "        k = 1\n",
    "print(len(fameli), len(set(name)), len(name_dad))"
   ]
  },
  {
   "cell_type": "code",
   "execution_count": 4,
   "metadata": {},
   "outputs": [
    {
     "name": "stdout",
     "output_type": "stream",
     "text": [
      "323720 51691 994\n"
     ]
    }
   ],
   "source": [
    "k = 0\n",
    "with open(name_file_3) as is_file:\n",
    "    for line in is_file:\n",
    "        if k!=0:\n",
    "            servis_list = line.split(';')\n",
    "            #print(servis_list[1])\n",
    "            fameli.append(servis_list[1].lower())\n",
    "        k = 1\n",
    "print(len(set(fameli)), len(set(name)), len(set(name_dad)))"
   ]
  },
  {
   "cell_type": "code",
   "execution_count": 5,
   "metadata": {},
   "outputs": [
    {
     "name": "stdout",
     "output_type": "stream",
     "text": [
      "323720 51761 994\n"
     ]
    }
   ],
   "source": [
    "with open(name_file_4) as is_file:\n",
    "    for line in is_file:\n",
    "        #print(line.strip().lower())\n",
    "        name.append(line.strip().lower())\n",
    "print(len(set(fameli)), len(set(name)), len(set(name_dad)))"
   ]
  },
  {
   "cell_type": "code",
   "execution_count": 6,
   "metadata": {},
   "outputs": [
    {
     "name": "stdout",
     "output_type": "stream",
     "text": [
      "323720 51870 994\n"
     ]
    }
   ],
   "source": [
    "with open(name_file_5) as is_file:\n",
    "    for line in is_file:\n",
    "        #print(line.strip().lower())\n",
    "        name.append(line.strip().lower())\n",
    "print(len(set(fameli)), len(set(name)), len(set(name_dad)))"
   ]
  },
  {
   "cell_type": "code",
   "execution_count": 7,
   "metadata": {},
   "outputs": [
    {
     "name": "stdout",
     "output_type": "stream",
     "text": [
      "323723 51870 994\n"
     ]
    }
   ],
   "source": [
    "with open(name_file_6) as is_file:\n",
    "    for line in is_file:\n",
    "        if k!=0:\n",
    "            fameli.append(line.strip().lower())\n",
    "        k = 1\n",
    "print(len(set(fameli)), len(set(name)), len(set(name_dad)))"
   ]
  },
  {
   "cell_type": "code",
   "execution_count": 8,
   "metadata": {},
   "outputs": [
    {
     "name": "stdout",
     "output_type": "stream",
     "text": [
      "323723 51870 1874\n"
     ]
    }
   ],
   "source": [
    "with open(name_file_7) as is_file:\n",
    "    for line in is_file:\n",
    "        servis_list = line.strip().split(',')\n",
    "        #print(servis_list)\n",
    "        name_dad.append(servis_list[0].lower())\n",
    "        name_dad.append(servis_list[1].lower())\n",
    "print(len(set(fameli)), len(set(name)), len(set(name_dad)))"
   ]
  },
  {
   "cell_type": "code",
   "execution_count": 9,
   "metadata": {},
   "outputs": [
    {
     "name": "stdout",
     "output_type": "stream",
     "text": [
      "323723 51872 2081\n"
     ]
    }
   ],
   "source": [
    "name_file_8 = '/home/al/Projects_My/NLP-russian-language/datasets/datasets_with_name_peaple/Имена_с_отчествами.txt'\n",
    "k=2\n",
    "with open(name_file_8) as is_file:\n",
    "    for line in is_file:\n",
    "        if k%2 == 0:\n",
    "            servis_list = line.strip().split('(')\n",
    "            #print(servis_list)\n",
    "            name.append(servis_list[0].strip().lower())\n",
    "            ott = servis_list[1].split(',')\n",
    "            name_dad.append(ott[0].strip().lower())\n",
    "            if len(ott) == 2:\n",
    "                name_dad.append(ott[1].strip().replace(')','').lower())\n",
    "            if len(ott) == 3:\n",
    "                dd = ott[1].split('и')\n",
    "                name_dad.append(dd[0].strip().lower())\n",
    "                name_dad.append(dd[1].strip().lower())\n",
    "                name_dad.append(ott[2].strip().replace(')','').lower())\n",
    "        k +=1\n",
    "print(len(set(fameli)), len(set(name)), len(set(name_dad)))"
   ]
  },
  {
   "cell_type": "code",
   "execution_count": 10,
   "metadata": {},
   "outputs": [
    {
     "name": "stdout",
     "output_type": "stream",
     "text": [
      "464978 51872 2081\n"
     ]
    }
   ],
   "source": [
    "name_file_9 = '/home/al/Projects_My/NLP-russian-language/datasets/datasets_with_name_peaple/name-surname-master/surnames-184624.txt'\n",
    "with open(name_file_9) as is_file:\n",
    "    for line in is_file:\n",
    "            #print(line.strip())\n",
    "            fameli.append(line.strip().lower())\n",
    "print(len(set(fameli)), len(set(name)), len(set(name_dad)))"
   ]
  },
  {
   "cell_type": "code",
   "execution_count": 11,
   "metadata": {},
   "outputs": [
    {
     "name": "stdout",
     "output_type": "stream",
     "text": [
      "464978 54670 2081\n"
     ]
    }
   ],
   "source": [
    "name_file_10 = '/home/al/Projects_My/NLP-russian-language/datasets/datasets_with_name_peaple/name-surname-master/female-names-v1-14376.txt'\n",
    "with open(name_file_10) as is_file:\n",
    "    for line in is_file:\n",
    "            #print(line.strip())\n",
    "            name.append(line.strip().lower())\n",
    "print(len(set(fameli)), len(set(name)), len(set(name_dad)))"
   ]
  },
  {
   "cell_type": "code",
   "execution_count": 12,
   "metadata": {},
   "outputs": [
    {
     "name": "stdout",
     "output_type": "stream",
     "text": [
      "464978 54670 2081\n"
     ]
    }
   ],
   "source": [
    "name_file_11 = '/home/al/Projects_My/NLP-russian-language/datasets/datasets_with_name_peaple/name-surname-master/female-names-v2-16673.txt'\n",
    "with open(name_file_11) as is_file:\n",
    "    for line in is_file:\n",
    "            #print(line.strip())\n",
    "            name.append(line.strip().lower())\n",
    "print(len(set(fameli)), len(set(name)), len(set(name_dad)))"
   ]
  },
  {
   "cell_type": "code",
   "execution_count": 13,
   "metadata": {},
   "outputs": [
    {
     "name": "stdout",
     "output_type": "stream",
     "text": [
      "464978 58223 2081\n"
     ]
    }
   ],
   "source": [
    "name_file_12 = '/home/al/Projects_My/NLP-russian-language/datasets/datasets_with_name_peaple/name-surname-master/male-names-v1-14999.txt'\n",
    "with open(name_file_12) as is_file:\n",
    "    for line in is_file:\n",
    "            #print(line.strip())\n",
    "            name.append(line.strip().lower())\n",
    "print(len(set(fameli)), len(set(name)), len(set(name_dad)))"
   ]
  },
  {
   "cell_type": "code",
   "execution_count": 14,
   "metadata": {},
   "outputs": [
    {
     "name": "stdout",
     "output_type": "stream",
     "text": [
      "464978 58223 2081\n"
     ]
    }
   ],
   "source": [
    "name_file_13 = '/home/al/Projects_My/NLP-russian-language/datasets/datasets_with_name_peaple/name-surname-master/male-names-v2-21904.txt'\n",
    "with open(name_file_13) as is_file:\n",
    "    for line in is_file:\n",
    "            #print(line.strip())\n",
    "            name.append(line.strip().lower())\n",
    "print(len(set(fameli)), len(set(name)), len(set(name_dad)))"
   ]
  },
  {
   "cell_type": "code",
   "execution_count": 17,
   "metadata": {},
   "outputs": [
    {
     "name": "stdout",
     "output_type": "stream",
     "text": [
      "472659 58223 2081\n"
     ]
    }
   ],
   "source": [
    "with open(name_file_14) as is_file:\n",
    "    for line in is_file:\n",
    "            #print(line.strip().split())\n",
    "            fameli.append(line.strip().lower())\n",
    "print(len(set(fameli)), len(set(name)), len(set(name_dad)))"
   ]
  },
  {
   "cell_type": "code",
   "execution_count": 18,
   "metadata": {},
   "outputs": [],
   "source": [
    "fameli_list = list(set(fameli))\n",
    "name_list = list(set(name).difference(set(fameli)))\n",
    "name_dad_list = list(set(name_dad))"
   ]
  },
  {
   "cell_type": "code",
   "execution_count": 19,
   "metadata": {},
   "outputs": [],
   "source": [
    "with open('/home/al/Projects_My/NLP-russian-language/datasets/datasets_with_name_peaple/name_com.txt','w') as rez_f:\n",
    "    for name_one in name_list:\n",
    "        name_one_w =name_one.strip().capitalize()\n",
    "        rez_f.write(name_one_w +'\\n')"
   ]
  },
  {
   "cell_type": "code",
   "execution_count": 20,
   "metadata": {},
   "outputs": [],
   "source": [
    "with open('/home/al/Projects_My/NLP-russian-language/datasets/datasets_with_name_peaple/fameli_com.txt','w') as rez_f:\n",
    "    for fameli_one in fameli_list:\n",
    "        fameli_one_w =fameli_one.strip().capitalize()\n",
    "        rez_f.write(fameli_one_w +'\\n')"
   ]
  },
  {
   "cell_type": "code",
   "execution_count": 23,
   "metadata": {},
   "outputs": [],
   "source": [
    "with open('/home/al/Projects_My/NLP-russian-language/datasets/datasets_with_name_peaple/name_dad_com.txt','w') as rez_f:\n",
    "    for name_dad_one in name_dad_list:\n",
    "        name_dad_one_w =name_dad_one.strip().capitalize()\n",
    "        rez_f.write(name_dad_one_w +'\\n')"
   ]
  },
  {
   "cell_type": "code",
   "execution_count": 24,
   "metadata": {},
   "outputs": [],
   "source": [
    "import os\n",
    "import zipfile"
   ]
  },
  {
   "cell_type": "code",
   "execution_count": 25,
   "metadata": {},
   "outputs": [],
   "source": [
    "# Загрузка лемматизатора\n",
    "def load_lemmatizator(namefile):\n",
    "    lemmatVoc = {}\n",
    "    namefiledubl=os.path.basename(namefile).split(\".\")[0]+\".lem\"\n",
    "    with zipfile.ZipFile(namefile) as myzip:\n",
    "        with myzip.open(namefiledubl) as myfile:\n",
    "            for line in myfile:\n",
    "                linetxt =line.decode('utf-8')\n",
    "                slovo = linetxt.split('@')\n",
    "                lemmatVoc[slovo[0].strip()] = slovo[1].strip()\n",
    "    return lemmatVoc"
   ]
  },
  {
   "cell_type": "code",
   "execution_count": 27,
   "metadata": {},
   "outputs": [],
   "source": [
    "lemm = load_lemmatizator('/home/al/Projects_My/NLP-russian-language/collection_all_ resurses_NLP/lemmatizator27022019.zip')"
   ]
  },
  {
   "cell_type": "code",
   "execution_count": 22,
   "metadata": {},
   "outputs": [
    {
     "name": "stdout",
     "output_type": "stream",
     "text": [
      "2580132\n"
     ]
    }
   ],
   "source": [
    "words_other = []\n",
    "for k in lemm:\n",
    "    words_other.append(k)\n",
    "words_other_set = set(words_other)\n",
    "print(len(words_other_set))"
   ]
  },
  {
   "cell_type": "code",
   "execution_count": 24,
   "metadata": {},
   "outputs": [
    {
     "name": "stdout",
     "output_type": "stream",
     "text": [
      "2560391\n"
     ]
    }
   ],
   "source": [
    "words_other_set = words_other_set.difference(set(fameli_list))\n",
    "print(len(words_other_set))"
   ]
  },
  {
   "cell_type": "code",
   "execution_count": 26,
   "metadata": {},
   "outputs": [
    {
     "name": "stdout",
     "output_type": "stream",
     "text": [
      "2556657\n"
     ]
    }
   ],
   "source": [
    "words_other_set = words_other_set.difference(set(name_list))\n",
    "print(len(words_other_set))"
   ]
  },
  {
   "cell_type": "code",
   "execution_count": 27,
   "metadata": {},
   "outputs": [
    {
     "name": "stdout",
     "output_type": "stream",
     "text": [
      "2556595\n"
     ]
    }
   ],
   "source": [
    "words_other_set = words_other_set.difference(set(name_dad_list))\n",
    "#words_other = list(words_other_set) + list(words_other_set)\n",
    "print(len(words_other_set))"
   ]
  },
  {
   "cell_type": "code",
   "execution_count": 28,
   "metadata": {},
   "outputs": [],
   "source": [
    "with open('/home/al/Projects_My/NLP-russian-language/datasets/datasets_with_name_peaple/words_withot_fameli_name_name_dad.txt','w') as rez_f:\n",
    "    for ww_one in words_other_set:\n",
    "        fameli_one_w =ww_one.strip().lower()\n",
    "        rez_f.write(fameli_one_w +'\\n')"
   ]
  },
  {
   "cell_type": "code",
   "execution_count": null,
   "metadata": {},
   "outputs": [],
   "source": []
  }
 ],
 "metadata": {
  "kernelspec": {
   "display_name": "Python 3",
   "language": "python",
   "name": "python3"
  },
  "language_info": {
   "codemirror_mode": {
    "name": "ipython",
    "version": 3
   },
   "file_extension": ".py",
   "mimetype": "text/x-python",
   "name": "python",
   "nbconvert_exporter": "python",
   "pygments_lexer": "ipython3",
   "version": "3.8.10"
  }
 },
 "nbformat": 4,
 "nbformat_minor": 4
}
