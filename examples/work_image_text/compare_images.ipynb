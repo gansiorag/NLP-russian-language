{
 "cells": [
  {
   "cell_type": "markdown",
   "id": "3d0a53c9",
   "metadata": {},
   "source": [
    "## This module show severl way compare files of images"
   ]
  },
  {
   "cell_type": "code",
   "execution_count": 1,
   "id": "6a8a7b7c",
   "metadata": {},
   "outputs": [],
   "source": [
    "name_files = [\n",
    "    '/home/al/Projects_My/recognition_text/dataset_dirty_document/1958п308н_1.jpg',\n",
    "    '/home/al/Projects_My/recognition_text/dataset_dirty_document/1965п91н_23.jpg',\n",
    "    '/home/al/Projects_My/recognition_text/dataset_dirty_document/1968п149н_4.jpg',\n",
    "    '/home/al/Projects_My/recognition_text/dataset_dirty_document/1968п420н_12.jpg'\n",
    "]"
   ]
  },
  {
   "cell_type": "code",
   "execution_count": 2,
   "id": "2af5de29",
   "metadata": {},
   "outputs": [],
   "source": [
    "import cv2"
   ]
  },
  {
   "cell_type": "code",
   "execution_count": 3,
   "id": "d6ff21b7",
   "metadata": {},
   "outputs": [
    {
     "name": "stdout",
     "output_type": "stream",
     "text": [
      "(3519, 2497)\n"
     ]
    }
   ],
   "source": [
    "imgi = cv2.imread(name_files[2], cv2.IMREAD_GRAYSCALE)\n",
    "print(imgi.shape)"
   ]
  },
  {
   "cell_type": "code",
   "execution_count": 4,
   "id": "3a2a5be1",
   "metadata": {},
   "outputs": [],
   "source": [
    "# cv2.imshow('img', imgi)\n",
    "# cv2.waitKey(0)"
   ]
  },
  {
   "cell_type": "markdown",
   "id": "a7faf045",
   "metadata": {},
   "source": [
    "### For a simpler implementation of Earth Mover's Distance (aka Wasserstein Distance) in Python, you could use Scipy."
   ]
  },
  {
   "cell_type": "code",
   "execution_count": 5,
   "id": "f7c0a405",
   "metadata": {},
   "outputs": [],
   "source": [
    "from keras.preprocessing.image import load_img, img_to_array\n",
    "from scipy.stats import wasserstein_distance\n",
    "import numpy as np"
   ]
  },
  {
   "cell_type": "code",
   "execution_count": 6,
   "id": "6259471a",
   "metadata": {},
   "outputs": [],
   "source": [
    "def get_histogram(img):\n",
    "  '''\n",
    "  Get the histogram of an image. For an 8-bit, grayscale image, the\n",
    "  histogram will be a 256 unit vector in which the nth value indicates\n",
    "  the percent of the pixels in the image with the given darkness level.\n",
    "  The histogram's values sum to 1.\n",
    "  '''\n",
    "  h, w = 1000, 1000 # i toke reactange of border, can take full img.shape[:2]\n",
    "  hist = [0.0] * 256\n",
    "  for i in range(h):\n",
    "    for j in range(w):\n",
    "      hist[int(img[i, j])] += 1\n",
    "  return np.array(hist) / (h * w)"
   ]
  },
  {
   "cell_type": "code",
   "execution_count": 10,
   "id": "b7b05626",
   "metadata": {},
   "outputs": [
    {
     "name": "stdout",
     "output_type": "stream",
     "text": [
      "0.0024535234375000006\n"
     ]
    }
   ],
   "source": [
    "a = img_to_array(load_img(name_files[2], grayscale=True))\n",
    "b = img_to_array(load_img(name_files[3], grayscale=True))\n",
    "c = img_to_array(load_img(name_files[0], grayscale=True))\n",
    "a_hist = get_histogram(a)\n",
    "b_hist = get_histogram(b)\n",
    "c_hist = get_histogram(c)\n",
    "dist = wasserstein_distance(a_hist, b_hist)\n",
    "print(dist)"
   ]
  },
  {
   "cell_type": "code",
   "execution_count": 11,
   "id": "d4d27995",
   "metadata": {},
   "outputs": [
    {
     "name": "stdout",
     "output_type": "stream",
     "text": [
      "0.0\n"
     ]
    }
   ],
   "source": [
    "dist = wasserstein_distance(a_hist, a_hist)\n",
    "print(dist)"
   ]
  },
  {
   "cell_type": "code",
   "execution_count": 12,
   "id": "fa71fb5e",
   "metadata": {},
   "outputs": [
    {
     "name": "stdout",
     "output_type": "stream",
     "text": [
      "0.0028766953125\n"
     ]
    }
   ],
   "source": [
    "dist = wasserstein_distance(b_hist, c_hist)\n",
    "print(dist)"
   ]
  },
  {
   "cell_type": "markdown",
   "id": "ac7cc151",
   "metadata": {},
   "source": [
    "## Using the Structural Similarity Index (SSIM)."
   ]
  },
  {
   "cell_type": "code",
   "execution_count": 18,
   "id": "0c8d07ba",
   "metadata": {},
   "outputs": [],
   "source": [
    "from skimage import io\n",
    "from skimage.color import rgb2gray\n",
    "from skimage.metrics import structural_similarity as ssim"
   ]
  },
  {
   "cell_type": "code",
   "execution_count": 23,
   "id": "3fc0c959",
   "metadata": {},
   "outputs": [
    {
     "name": "stdout",
     "output_type": "stream",
     "text": [
      "(3519, 2497, 3)\n",
      "0 255\n",
      "[253 253 253]\n",
      "(3507, 4960, 3)\n"
     ]
    }
   ],
   "source": [
    "moon = io.imread(name_files[2])\n",
    "print(moon.shape)\n",
    "print(moon.min(), moon.max())\n",
    "print(moon[1000,1000])\n",
    "pict_two = io.imread(name_files[0])\n",
    "print(pict_two.shape)"
   ]
  },
  {
   "cell_type": "code",
   "execution_count": 20,
   "id": "8d239fab",
   "metadata": {},
   "outputs": [
    {
     "name": "stdout",
     "output_type": "stream",
     "text": [
      "(3519, 2497)\n",
      "0.0 1.0\n",
      "0.9921568627450982\n"
     ]
    }
   ],
   "source": [
    "img_gray = rgb2gray(moon)\n",
    "print(img_gray.shape)\n",
    "print(img_gray.min(), img_gray.max())\n",
    "print(img_gray[1000,1000])"
   ]
  },
  {
   "cell_type": "code",
   "execution_count": 21,
   "id": "541c0808",
   "metadata": {},
   "outputs": [],
   "source": [
    "def mse(imageA, imageB):\n",
    "    # the 'Mean Squared Error' between the two images is the\n",
    "    # sum of the squared difference between the two images;\n",
    "    # NOTE: the two images must have the same dimension\n",
    "    err = np.sum((imageA.astype(\"float\") - imageB.astype(\"float\")) ** 2)\n",
    "    err /= float(imageA.shape[0] * imageA.shape[1])\n",
    "\n",
    "    # return the MSE, the lower the error, the more \"similar\"\n",
    "    # the two images are\n",
    "    return err"
   ]
  },
  {
   "cell_type": "code",
   "execution_count": 22,
   "id": "1e488200",
   "metadata": {},
   "outputs": [],
   "source": [
    "def compare_images(imageA, imageB, title):\n",
    "# compute the mean squared error and structural similarity\n",
    "# index for the images\n",
    "    m = mse(imageA, imageB)\n",
    "    s = ssim(imageA, imageB)"
   ]
  },
  {
   "cell_type": "code",
   "execution_count": null,
   "id": "48326f60",
   "metadata": {},
   "outputs": [],
   "source": []
  }
 ],
 "metadata": {
  "kernelspec": {
   "display_name": "Python 3 (ipykernel)",
   "language": "python",
   "name": "python3"
  },
  "language_info": {
   "codemirror_mode": {
    "name": "ipython",
    "version": 3
   },
   "file_extension": ".py",
   "mimetype": "text/x-python",
   "name": "python",
   "nbconvert_exporter": "python",
   "pygments_lexer": "ipython3",
   "version": "3.8.10"
  }
 },
 "nbformat": 4,
 "nbformat_minor": 5
}
