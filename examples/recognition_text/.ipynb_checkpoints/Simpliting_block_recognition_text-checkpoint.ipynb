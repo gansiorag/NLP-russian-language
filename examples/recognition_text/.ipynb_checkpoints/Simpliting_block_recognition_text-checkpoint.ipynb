{
 "cells": [
  {
   "cell_type": "markdown",
   "id": "bf13193d",
   "metadata": {},
   "source": [
    "# multiplate text from block"
   ]
  },
  {
   "cell_type": "code",
   "execution_count": 1,
   "id": "fa913a33",
   "metadata": {},
   "outputs": [],
   "source": [
    "def get_names_files(name_source:str):\n",
    "    names ={}\n",
    "    with open(name_source, 'r') as i_f:\n",
    "        for line in i_f:\n",
    "            s_l = line.strip().split('^')\n",
    "            names[s_l[0]] = s_l[1]\n",
    "    return names"
   ]
  },
  {
   "cell_type": "code",
   "execution_count": 2,
   "id": "92914a3a",
   "metadata": {},
   "outputs": [],
   "source": [
    "nam_f = get_names_files('/home/al/Projects_My/recognition_text/dataset_recognition_text/source_data_blocks.txt')"
   ]
  },
  {
   "cell_type": "code",
   "execution_count": 58,
   "id": "4d9c89fc",
   "metadata": {},
   "outputs": [
    {
     "name": "stdout",
     "output_type": "stream",
     "text": [
      "[['coord_block', 1774, 296, 477, 2179], ['ТАРАНУХУ', 22, 34, 265, 46], ['днатолия', 323, 41, 264, 42], ['За', 862, 21, 63, 44], ['добычу', 959, 25, 201, 50], ['в', 1199, 34, 28, 31], ['сезон', 1263, 33, 164, 32], ['19641965', 1474, 21, 284, 45], ['гг', 1802, 27, 117, 42], ['Яковлевича,', 19, 114, 368, 52], ['охотника', 430, 121, 261, 33], ['пуднины', 860, 119, 232, 43], ['высокого', 1132, 120, 258, 50], ['качества', 1428, 119, 263, 33], ['на', 1727, 120, 68, 32], ['3072', 1831, 106, 132, 50], ['рубля', 1997, 111, 162, 52], ['кооп-', 660, 188, 163, 40], ['или', 861, 194, 92, 33], ['768%', 994, 177, 132, 59], ['к', 1162, 193, 30, 32], ['норме', 1228, 187, 186, 50], ['зве', 26, 265, 89, 32], ['ропромхоза', 127, 266, 329, 43], ['Хабаров-', 495, 255, 260, 54], ['ского', 23, 340, 162, 33], ['крайрыболов-', 221, 332, 402, 52], ['потребсоюза', 19, 404, 394, 53]]\n"
     ]
    }
   ],
   "source": [
    "blocks = []\n",
    "with open(nam_f['2'], 'r') as i_d:\n",
    "    k = 0\n",
    "    for line in i_d:\n",
    "        if k == 0:\n",
    "            dd = []\n",
    "            s_l_1 = line.strip().split(' ')\n",
    "            dd.append(s_l_1[0])\n",
    "            s_l_2 = s_l_1[1].split(',')\n",
    "            dd.append(int(s_l_2[0]))\n",
    "            dd.append(int(s_l_2[1]))\n",
    "            dd.append(int(s_l_2[2]))\n",
    "            dd.append(int(s_l_2[3]))\n",
    "            blocks.append(dd)\n",
    "            k =1\n",
    "        else:\n",
    "            dd = []\n",
    "            s_l_1 = line.strip().split('|')\n",
    "            dd.append(s_l_1[0])\n",
    "            dd.append(int(s_l_1[1]))\n",
    "            dd.append(int(s_l_1[2]))\n",
    "            dd.append(int(s_l_1[3]))\n",
    "            dd.append(int(s_l_1[4]))\n",
    "            blocks.append(dd)\n",
    "print(blocks)"
   ]
  },
  {
   "cell_type": "code",
   "execution_count": 59,
   "id": "0bbd6b63",
   "metadata": {},
   "outputs": [
    {
     "name": "stdout",
     "output_type": "stream",
     "text": [
      "337\n",
      "[[22, 34, 637, 'ТАРАНУХУ', 'днатолия'], [862, 21, 1969, 'За', 'добычу', 'в', 'сезон', '19641965', 'гг'], [19, 114, 741, 'Яковлевича,', 'охотника'], [860, 119, 2209, 'пуднины', 'высокого', 'качества', 'на', '3072', 'рубля'], [660, 188, 1464, 'кооп-', 'или', '768%', 'к', 'норме'], [26, 265, 805, 'зве', 'ропромхоза', 'Хабаров-'], [23, 340, 673, 'ского', 'крайрыболов-'], [19, 404, 463, 'потребсоюза']]\n",
      "\n",
      "['ТАРАНУХУ днатолия', 'Яковлевича, охотника', 'зве ропромхоза Хабаров-', 'ского крайрыболов-', 'потребсоюза']\n",
      "\n",
      "['За', 'добычу', 'в', 'сезон', '19641965', 'гг', 'пуднины', 'высокого', 'качества', 'на', '3072', 'рубля', 'кооп-', 'или', '768%', 'к', 'норме']\n",
      "\n",
      "ТАРАНУХУ днатолия Яковлевича, охотника зве ропромхоза Хабаров- ского крайрыболов- потребсоюза\n",
      "\n",
      "За добычу в сезон 19641965 гг пуднины высокого качества на 3072 рубля кооп- или 768% к норме\n"
     ]
    }
   ],
   "source": [
    "fragments = []\n",
    "step = 50\n",
    "stepH = 10\n",
    "start = blocks[1][1] + blocks[1][3]+step\n",
    "startH = blocks[1][2]\n",
    "print(start)\n",
    "fr = [blocks[1][1],blocks[1][2], blocks[1][1]+blocks[1][3], blocks[1][0]]\n",
    "for ff in blocks[2:]:\n",
    "    #print(list(ff[0].strip())[-1])\n",
    "    if ff[1]<=start and abs(ff[1]- start) < step: #and list(ff[0].strip())[-1] != '-':\n",
    "        fr.append(ff[0])\n",
    "        start = ff[1] + ff[3] + step\n",
    "        if fr[2]<start : fr[2] = start\n",
    "    else:\n",
    "        fragments.append(fr)\n",
    "        fr = []\n",
    "        fr.append(ff[1])\n",
    "        fr.append(ff[2])\n",
    "        fr.append(ff[1]+ff[3]+ step)\n",
    "        fr.append(ff[0])\n",
    "        startH = ff[2]\n",
    "        start = ff[1] + ff[3] + step\n",
    "        if ff == blocks[-1]: fragments.append(fr)\n",
    "print(fragments)\n",
    "key_ff_1 = fragments[0][0]\n",
    "ff_1 =[]\n",
    "ff_2 = []\n",
    "aver = []\n",
    "for bb in fragments:\n",
    "    if abs(key_ff_1 - bb[0]) < step:\n",
    "        aver.append(bb[2])\n",
    "dd=[]\n",
    "for ik in sorted(aver):\n",
    "    for ii in aver[1:]:\n",
    "        if (ii - ik) >2*step: dd.append(ii)\n",
    "            \n",
    "dd = list(set(dd))\n",
    "for vv in dd:\n",
    "    aver =[x for x in aver if x!=vv]\n",
    "average = max(aver)\n",
    "fragments = []\n",
    "start = blocks[1][1] + blocks[1][3]+step\n",
    "startH = blocks[1][2]\n",
    "fr = [blocks[1][1],blocks[1][2], blocks[1][1]+blocks[1][3], blocks[1][0]]\n",
    "for ff in blocks[2:]:\n",
    "    if ff[1]<=start and abs(ff[1]- start) < step and (ff[1] + ff[3]) < average +3*step:\n",
    "        fr.append(ff[0])\n",
    "        start = ff[1] + ff[3] + step\n",
    "        if fr[2]<start : fr[2] = start\n",
    "    else:\n",
    "        fragments.append(fr)\n",
    "        fr = []\n",
    "        fr.append(ff[1])\n",
    "        fr.append(ff[2])\n",
    "        fr.append(ff[1]+ff[3]+ step)\n",
    "        fr.append(ff[0])\n",
    "        startH = ff[2]\n",
    "        start = ff[1] + ff[3] + step\n",
    "        if ff == blocks[-1]: fragments.append(fr)\n",
    "\n",
    "\n",
    "for bb in fragments:\n",
    "    if abs(key_ff_1 - bb[0]) < step:\n",
    "        ff_1.append(' '.join(bb[3:]))\n",
    "    else:\n",
    "        ff_2.append(' '.join(bb[3:]))\n",
    "print()\n",
    "print(ff_1)\n",
    "print()\n",
    "print(ff_2)\n",
    "print()\n",
    "print(' '.join(ff_1))\n",
    "print()\n",
    "print(' '.join(ff_2))"
   ]
  },
  {
   "cell_type": "code",
   "execution_count": null,
   "id": "af00d8c0",
   "metadata": {},
   "outputs": [],
   "source": []
  },
  {
   "cell_type": "code",
   "execution_count": null,
   "id": "f30a22fe",
   "metadata": {},
   "outputs": [],
   "source": []
  }
 ],
 "metadata": {
  "kernelspec": {
   "display_name": "Python 3 (ipykernel)",
   "language": "python",
   "name": "python3"
  },
  "language_info": {
   "codemirror_mode": {
    "name": "ipython",
    "version": 3
   },
   "file_extension": ".py",
   "mimetype": "text/x-python",
   "name": "python",
   "nbconvert_exporter": "python",
   "pygments_lexer": "ipython3",
   "version": "3.8.10"
  }
 },
 "nbformat": 4,
 "nbformat_minor": 5
}
