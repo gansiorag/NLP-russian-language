{
 "cells": [
  {
   "cell_type": "markdown",
   "id": "c8612fe9",
   "metadata": {},
   "source": [
    "# Recognition tables with text\n"
   ]
  },
  {
   "cell_type": "code",
   "execution_count": null,
   "id": "ba8c26b8",
   "metadata": {},
   "outputs": [],
   "source": [
    "name_jpg = '/home/al/MyProjects/NLP-russian-language/examples/recognition_text/sampel_1.jpg'"
   ]
  }
 ],
 "metadata": {
  "kernelspec": {
   "display_name": "Python 3",
   "language": "python",
   "name": "python3"
  },
  "language_info": {
   "codemirror_mode": {
    "name": "ipython",
    "version": 3
   },
   "file_extension": ".py",
   "mimetype": "text/x-python",
   "name": "python",
   "nbconvert_exporter": "python",
   "pygments_lexer": "ipython3",
   "version": "3.8.10"
  }
 },
 "nbformat": 4,
 "nbformat_minor": 5
}
