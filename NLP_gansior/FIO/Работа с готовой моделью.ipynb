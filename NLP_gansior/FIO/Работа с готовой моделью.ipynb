{
 "cells": [
  {
   "cell_type": "markdown",
   "metadata": {},
   "source": [
    "# Использование готовой модели"
   ]
  },
  {
   "cell_type": "code",
   "execution_count": 1,
   "metadata": {},
   "outputs": [],
   "source": [
    "import pickle\n",
    "import zipfile\n",
    "from nltk.util import ngrams\n",
    "from sklearn.feature_extraction.text import CountVectorizer\n",
    "from sklearn.naive_bayes import MultinomialNB\n",
    "from sklearn.feature_extraction.text import TfidfTransformer"
   ]
  },
  {
   "cell_type": "code",
   "execution_count": 2,
   "metadata": {},
   "outputs": [],
   "source": [
    "def from_word_list_to_sentenses(dd:list):\n",
    "    servis_list =[]\n",
    "    servis_list.append(''.join(dd))\n",
    "    ngg = list(ngrams(dd, 4))\n",
    "    for nn in ngg:\n",
    "        word = ''.join(nn)\n",
    "        servis_list.append(word)\n",
    "    return [' '.join(servis_list)]"
   ]
  },
  {
   "cell_type": "code",
   "execution_count": 13,
   "metadata": {},
   "outputs": [],
   "source": [
    "class FIO():\n",
    "    def __init__(self):\n",
    "        # source file names\n",
    "        namefile_FIO = '/home/al/PycharmProjects/NLP-russian-language/examples/FIO/model_FIO.zip'\n",
    "        namefile_vect = '/home/al/PycharmProjects/NLP-russian-language/examples/FIO/model_transform_FIO.zip'\n",
    "        namefile_tfitf = '/home/al/PycharmProjects/NLP-russian-language/examples/FIO/model_tfidf_FIO.zip'\n",
    "        self.clf = pickle.load(open('model_FIO.pkl', 'rb'))\n",
    "        self.vectorizer = pickle.load(open('model_transform_FIO.pkl', 'rb'))\n",
    "        self.tfidf_transformer = pickle.load(open('model_tfidf_FIO.pkl', 'rb'))\n",
    "\n",
    "    def predict(self, fio:str) -> list:\n",
    "        ff = fio.lower()\n",
    "        array_sens = []\n",
    "        fio_sentence = from_word_list_to_sentenses(ff)\n",
    "        X_train_new = self.vectorizer.transform(fio_sentence)\n",
    "        X_new_tfidf = self.tfidf_transformer.transform(X_train_new)\n",
    "        predicted = self.clf.predict(X_new_tfidf)\n",
    "        return predicted"
   ]
  },
  {
   "cell_type": "code",
   "execution_count": 14,
   "metadata": {},
   "outputs": [
    {
     "name": "stdout",
     "output_type": "stream",
     "text": [
      "корнеев\n",
      "['фамилия']\n"
     ]
    }
   ],
   "source": [
    "fio = FIO()\n",
    "print(fio.predict('Корнеев'))"
   ]
  },
  {
   "cell_type": "code",
   "execution_count": null,
   "metadata": {},
   "outputs": [],
   "source": []
  }
 ],
 "metadata": {
  "kernelspec": {
   "display_name": "Python 3",
   "language": "python",
   "name": "python3"
  },
  "language_info": {
   "codemirror_mode": {
    "name": "ipython",
    "version": 3
   },
   "file_extension": ".py",
   "mimetype": "text/x-python",
   "name": "python",
   "nbconvert_exporter": "python",
   "pygments_lexer": "ipython3",
   "version": "3.8.10"
  }
 },
 "nbformat": 4,
 "nbformat_minor": 4
}
