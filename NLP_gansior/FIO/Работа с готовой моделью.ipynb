{
 "cells": [
  {
   "cell_type": "markdown",
   "metadata": {},
   "source": [
    "# Использование готовой модели"
   ]
  },
  {
   "cell_type": "code",
   "execution_count": 1,
   "metadata": {},
   "outputs": [],
   "source": [
    "import pickle\n",
    "import zipfile\n",
    "from nltk.util import ngrams\n",
    "from sklearn.feature_extraction.text import CountVectorizer\n",
    "from sklearn.naive_bayes import MultinomialNB\n",
    "from sklearn.feature_extraction.text import TfidfTransformer"
   ]
  },
  {
   "cell_type": "code",
   "execution_count": 2,
   "metadata": {},
   "outputs": [],
   "source": [
    "def from_word_list_to_sentenses(dd:list):\n",
    "    servis_list = list(dd).copy()\n",
    "    servis_list.append(''.join(list(dd)[-4:]))\n",
    "    ngg = list(ngrams(list(dd), 2))\n",
    "    for nn in ngg:\n",
    "        word = ''.join(nn)\n",
    "        servis_list.append(word)\n",
    "    ngg = list(ngrams(dd, 3))\n",
    "    for nn in ngg:\n",
    "        word = ''.join(nn)\n",
    "        servis_list.append(word)\n",
    "    ngg = list(ngrams(dd, 4))\n",
    "    for nn in ngg:\n",
    "        word = ''.join(nn)\n",
    "        servis_list.append(word)\n",
    "    #print(' '.join(servis_list))\n",
    "    return ' '.join(servis_list)"
   ]
  },
  {
   "cell_type": "code",
   "execution_count": 3,
   "metadata": {},
   "outputs": [],
   "source": [
    "class FIO():\n",
    "    def __init__(self, name_file):\n",
    "        # source file names\n",
    "#         namefile_FIO = '/home/al/PycharmProjects/NLP-russian-language/examples/FIO/model_FIO.zip'\n",
    "#         namefile_vect = '/home/al/PycharmProjects/NLP-russian-language/examples/FIO/model_transform_FIO.zip'\n",
    "#         namefile_tfitf = '/home/al/PycharmProjects/NLP-russian-language/examples/FIO/model_tfidf_FIO.zip'\n",
    "        #model_famale_patromycs = '/home/al/Projects_My/NLP-russian-language/NLP_gansior/FIO/models_famale_patromycs.zip'\n",
    "#         extract_to = '/home/al/Projects_My/NLP-russian-language/NLP_gansior/FIO/'\n",
    "#         with zipfile.ZipFile(model_famale_patromycs, 'r') as zip_ref:\n",
    "#             zip_ref.extractall(extract_to)\n",
    "        self.data_model = pickle.load(open(name_file, 'rb'))\n",
    "#         self.clf = self.data_model[0]['clf']\n",
    "#         self.vectorizer = data_model[0]['vectorizer']\n",
    "#         self.tfidf_transformer = data_model[0]['tfidf_transformer']\n",
    "\n",
    "    def predict(self, fio:str) -> list:\n",
    "        ff = fio.lower()\n",
    "        arr_answer = []\n",
    "        fio_sentence = [from_word_list_to_sentenses(ff)]\n",
    "        for mm in self.data_model:\n",
    "            X_train_new = self.data_model[mm]['vectorizer'].transform(fio_sentence)\n",
    "            X_new_tfidf = self.data_model[mm]['tfidf_transformer'].transform(X_train_new)\n",
    "            predicted = self.data_model[mm]['clf'].predict(X_new_tfidf)\n",
    "            arr_answer.append(predicted[0])\n",
    "        #print(arr_answer)\n",
    "        if arr_answer[0] == 'жен_отч' or arr_answer[0] == 'муж_отч':\n",
    "            frag = ''.join(fio[-3:])\n",
    "            if frag in ['вна',  'вне', 'вну', 'ной']: \n",
    "                arr_answer = ['жен_отч','жен_отч']\n",
    "        return arr_answer"
   ]
  },
  {
   "cell_type": "code",
   "execution_count": 6,
   "metadata": {},
   "outputs": [
    {
     "name": "stdout",
     "output_type": "stream",
     "text": [
      "Александровна ['отч', 'отч', 'отч', 'отч']\n",
      "Александровна ['жен_отч', 'жен_отч']\n",
      "\n",
      "процкалиус ['слово', 'слово', 'слово', 'слово']\n",
      "тихоновну ['отч', 'отч', 'отч', 'отч']\n",
      "тихоновну ['жен_отч', 'жен_отч']\n",
      "\n",
      "сонгайлайте ['отч', 'отч', 'отч', 'отч']\n",
      "сонгайлайте ['муж_отч', 'муж_отч']\n",
      "\n",
      "степанович ['отч', 'отч', 'отч', 'отч']\n",
      "степанович ['муж_отч', 'муж_отч']\n",
      "\n",
      "анатолий ['слово', 'слово', 'слово', 'слово']\n",
      "антоновну ['отч', 'отч', 'отч', 'отч']\n",
      "антоновну ['жен_отч', 'жен_отч']\n",
      "\n",
      "страхование ['слово', 'слово', 'слово', 'слово']\n",
      "сергеевну ['отч', 'отч', 'отч', 'отч']\n",
      "сергеевну ['жен_отч', 'жен_отч']\n",
      "\n"
     ]
    }
   ],
   "source": [
    "otch = FIO('/home/al/Projects_My/NLP-russian-language/NLP_gansior/FIO/models_com_patromycs.pkl')\n",
    "otch_m_f = FIO('/home/al/Projects_My/NLP-russian-language/NLP_gansior/FIO/models_m_f_patromycs.pkl')\n",
    "test_list = ['Александровна', \n",
    "             'процкалиус', \n",
    "             'тихоновну', \n",
    "             'сонгайлайте', \n",
    "             'степанович', \n",
    "             'анатолий', \n",
    "             'антоновну',\n",
    "             'страхование', \n",
    "             'сергеевну']\n",
    "for word in test_list:\n",
    "    print(word, otch.predict(word))\n",
    "    if otch.predict(word)[0] in ['отч', 'отч', 'отч', 'отч']:\n",
    "        print(word, otch_m_f.predict(word))\n",
    "        print()"
   ]
  },
  {
   "cell_type": "code",
   "execution_count": null,
   "metadata": {},
   "outputs": [],
   "source": []
  }
 ],
 "metadata": {
  "kernelspec": {
   "display_name": "Python 3 (ipykernel)",
   "language": "python",
   "name": "python3"
  },
  "language_info": {
   "codemirror_mode": {
    "name": "ipython",
    "version": 3
   },
   "file_extension": ".py",
   "mimetype": "text/x-python",
   "name": "python",
   "nbconvert_exporter": "python",
   "pygments_lexer": "ipython3",
   "version": "3.8.10"
  }
 },
 "nbformat": 4,
 "nbformat_minor": 4
}
