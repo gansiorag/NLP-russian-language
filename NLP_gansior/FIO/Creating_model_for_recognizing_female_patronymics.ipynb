{
 "cells": [
  {
   "cell_type": "markdown",
   "id": "10a59501",
   "metadata": {},
   "source": [
    "# Creating a model for recognizing female patronymics"
   ]
  },
  {
   "cell_type": "code",
   "execution_count": 1,
   "id": "43be4de3",
   "metadata": {},
   "outputs": [],
   "source": [
    "# Our data sets\n",
    "name_files_sourses = ['/home/al/Projects_My/NLP-russian-language/datasets/datasets_with_name_peaple/midnames_table.json',\n",
    "             '/home/al/Projects_My/NLP-russian-language/datasets/datasets_with_name_peaple/male_names_rus.txt',\n",
    "             '/home/al/Projects_My/NLP-russian-language/datasets/datasets_with_name_peaple/Имена_с_отчествами.txt',\n",
    "             '/home/al/Projects_My/NLP-russian-language/datasets/datasets_with_name_peaple/отчества.csv',\n",
    "             '/home/al/Projects_My/NLP-russian-language/datasets/datasets_with_name_peaple/name_dad_com.txt',\n",
    "             '/home/al/Projects_My/NLP-russian-language/datasets/datasets_with_name_peaple/surnames_table.json',\n",
    "            '/home/al/Projects_My/NLP-russian-language/datasets/datasets_with_name_peaple/russian_surnames.txt']\n",
    "name_files_rezults = ['/home/al/Projects_My/NLP-russian-language/datasets/datasets_with_name_peaple/rezult_names/male_patromycs.txt',\n",
    "'/home/al/Projects_My/NLP-russian-language/datasets/datasets_with_name_peaple/rezult_names/famale_patromycs.txt',\n",
    "'/home/al/Projects_My/NLP-russian-language/datasets/datasets_with_name_peaple/rezult_names/male_names.txt',\n",
    "'/home/al/Projects_My/NLP-russian-language/datasets/datasets_with_name_peaple/rezult_names/male_surnames.txt',\n",
    "'/home/al/Projects_My/NLP-russian-language/datasets/datasets_with_name_peaple/rezult_names/famale_surnames.txt',\n",
    "                     ]"
   ]
  },
  {
   "cell_type": "code",
   "execution_count": 2,
   "id": "df102c4a",
   "metadata": {},
   "outputs": [
    {
     "name": "stdout",
     "output_type": "stream",
     "text": [
      "3519\n"
     ]
    }
   ],
   "source": [
    "i_f = open(name_files_sourses[0], 'r')\n",
    "list_text = i_f.read().split('{\"text\": ')\n",
    "names = []\n",
    "parentes = []\n",
    "genders = []\n",
    "male_patromycs =set()\n",
    "famale_patromycs = set()\n",
    "com_set_names = set()\n",
    "rez = []\n",
    "for nn in list_text[1:]:\n",
    "    \n",
    "    name = nn.split('\"fname\": ')[-1].split(',')[0].replace('\"','').strip()\n",
    "    names.append(name)\n",
    "    \n",
    "    parent = nn.split(',')[0].replace('\"','').strip()\n",
    "    parentes.append(parent)\n",
    "    \n",
    "    gender = nn.split('\"gender\": ')[-1].replace('\"','').replace('}','').strip()\n",
    "    genders.append(gender)\n",
    "    \n",
    "#     print(name, parent, gender)\n",
    "#     break\n",
    "    \n",
    "for nam, prnt, gen in zip(names, parentes, genders):\n",
    "    if nam[-3:] != 'вич' and nam[-3:] != 'вна':\n",
    "        com_set_names.add(nam.strip())\n",
    "    #print(gen)\n",
    "    if nam[-3:] != 'вич' and nam[-3:] != 'вна':\n",
    "        if gen==\"m\" and prnt.strip(): male_patromycs.add(prnt)\n",
    "        if gen==\"f\" and prnt.strip(): famale_patromycs.add(prnt)\n",
    "# del_nam =[]\n",
    "# for nam in com_dict_names:\n",
    "#     if (com_dict_names[nam]['m'] == '') or (com_dict_names[nam]['f'] == ''):\n",
    "#         del_nam.append(nam)\n",
    "# for nam in del_nam:\n",
    "#     del com_dict_names[nam]\n",
    "#print(com_set_names)\n",
    "#print(male_patromycs)\n",
    "#print(len(com_set_names))\n",
    "print(len(com_set_names))"
   ]
  },
  {
   "cell_type": "markdown",
   "id": "f6169c1a",
   "metadata": {},
   "source": [
    "## Образование мужских и женских отчеств в русском языке\n",
    "Источник  - http://zags.kurganobl.ru/obrazovanie_i_napisanie_otchestv.html\n",
    "Отчества от мужских имен (русских и нерусских) в русском языке образуются по следующим правилам:\n",
    "\n",
    "\t1. Если имя оканчивается на твёрдый согласный (кроме ж, ш, ч, щ, ц), добавляется -ович / овна: Александр + ович/овна, Иван + ович/овна, Гамзат + ович/овна.\n",
    "\n",
    "\t2. К именам, оканчивающимся на ж, ш, ч, щ, ц, добавляется -евич / евна : Жорж + евич/евна, Януш + евич/евна, Милич + евич/евна, Франц + евич/евна.\n",
    "\n",
    "\t3. Если имя оканчивается на неударный гласный а, у, ы, к нему добавляется -ович / овна, причём конечные гласные имени отбрасываются: Антипа - Антипович/Антиповна, Вавила - Вавилович/ Вавиловна.\n",
    "Исключение: от русских имён Аникита, Никита, Мина, Савва, Сила, Фока образуются традиционные формы отчеств на -ич / ична: Никита - Никитич/ Никитична, Мина - Минич/Минична, Савва — Саввич/Саввична.\n",
    "\n",
    "\t4. Если имя оканчивается на неударный гласный о, к нему добавляется -ович / овна, причём конечный гласный имени и начальный суффикса сливаются в один звук [о]: Василько + ович/овна, Михайло + ович/овна, Отто + ович/овна.\n",
    "\n",
    "\t5. Если неударному конечному гласному предшествует ж или ш, ч, щ, ц, то добавляется -евич / евна, а гласный отбрасывается: Важа - Важевич/Важевна, Гоча - Гочевич/Гочевна.\n",
    "\n",
    "\t6. Если имя оканчивается на мягкий согласный, т. е. на согласный + ь, к нему добавляется -евич / евна, а конечный ь отбрасывается: Игорь - Игоревич/Игоревна, Цезарь - Цезаревич/Цезаревна, Виль - Вилевич/Вилевна, Камиль — Камилевич/Камилевна.\n",
    "\n",
    "\t7. Если имя оканчивается на неударный гласный е, к нему добавляется -евич / евна, причём конечный гласный имени и начальный суффикса сливаются: Аарне - Аарневич/Аарневна, Григоре - Григоревич/Григоревна, Вилье — Вильевич/Вильевна.\n",
    "\n",
    "\t8. Если имя оканчивается на неударный гласный и, к нему добавляется -евич / евна, при этом конечный гласный сохраняется: Вилли - Виллиевич/Виллиевна, Илмари - Илмариевич/Илмариевна.\n",
    "\n",
    "\t9. Если имя оканчивается на неударное сочетание ий, к нему добавляется -евич / евна, причём конечный й отбрасывается, а предпоследний и либо переходит в ь, либо остаётся:\n",
    "\n",
    "\tа) переходит в ь после одного согласного или группы нт: Василий - Васильевич/Васильевна, Марий - Марьевич/Марьевна, Юлий — Юльевич/Юльевна.\n",
    "\n",
    "\tб) остаётся после к, х, ц, а также после двух согласных (кроме группы нт ): Никий - Никиевич/Никиевна, Люций - Люциевич/ Люциевна, Стахий — Стахиевич/Стахиевна.\n",
    "\n",
    "\t10. Старые русские имена, оканчивающиеся на сочетания ея и ия , образуют отчества прибавлением -евич / евна, при этом конечное я отбрасывается, а и или е сохраняется: Менея - Менеевич/ Менеевна, Захария — Захариевич/Захариевна.\n",
    "\n",
    "\t11. К именам, оканчивающимся на ударные гласные а, я, е, э, и, ы, ё, о, у, ю, добавляется -евич / евна, при этом конечный гласный сохраняется: Айбу - Айбуевич/Айбуевна, Бадма - Бадмаевич/Бадмаевна, Бату - Бутуевич/Батуевна, Вали - Валиевич/Валиевна, Дакко - Даккоевич/Даккоевна, Исе — Исеевич/Исеевна.\n",
    "\n",
    "\t12. Имена, оканчивающиеся на ударные сочетания ай, яй, ей, эй, ий, ый, ой, уй, юй, образуют отчества прибавлением -евич / евна, причём конечный й отбрасывается: Акбай - Акбаевич/Акбаевна, Кий - Киевич/Киевна, Матвей — Матвеевич/Матвеевна.\n",
    "\n",
    "\t13. Имена, оканчивающиеся на два гласных аа, ау, еу, ээ, ии, уу сохраняют их, образуя отчества прибавлением -евич / евна: Бимбии - Бимбииевич/Бимбииевна, Бобоо-Бобооевич/Бобооевна,Бурбээ—Бурбээевич/Бурбээевна."
   ]
  },
  {
   "cell_type": "code",
   "execution_count": 3,
   "id": "fbfdb893",
   "metadata": {},
   "outputs": [],
   "source": [
    "def creater_patromycs(rez:list, iname:str) -> list:\n",
    "    # Creater parentes names from male names\n",
    "    r1 = ['д', 'в', 'г','з','л','м','н','п','р','с','т','ф','х']\n",
    "    r2 = ['ж', 'ш', 'ч', 'щ', 'ц']\n",
    "    r3 = [ 'а', 'у', 'ы']\n",
    "    r4 =['о']\n",
    "    ng = ['а','е','ё','и','й','о','у','ы','э','ю','я']\n",
    "    r5 = []\n",
    "    for nnn in r2:\n",
    "        for nk in ng:\n",
    "            r5.append(nnn + nk)\n",
    "    r6_7 = ['е','ь']       \n",
    "    r8 = ['и']\n",
    "    r9 = ['ий']\n",
    "    r10 = ['ия','ея']\n",
    "    r11= ['а','е','ё','и','о','у','ы','э','ю','я']\n",
    "    r12 = ['ай', 'яй', 'ей', 'эй', 'ий', 'ый', 'ой', 'уй', 'юй']\n",
    "    r13 = ['аа', 'ау', 'еу', 'ээ', 'ии', 'уу']\n",
    "    n1 =['б','к'] \n",
    "    n2 =['ео']\n",
    "    #print(iname)\n",
    "    if len(iname)>0:\n",
    "        key = iname[-1]\n",
    "        if key in r1 :\n",
    "            rez.append([iname, iname + 'ович', iname + 'овна'])\n",
    "        if key in r2 :\n",
    "            rez.append([iname, iname + 'евич', iname + 'евна'])\n",
    "        if key in r3 :\n",
    "            rez.append([iname, iname[:-1] + 'ович', iname[:-1] + 'овна'])\n",
    "        if key in r4 :\n",
    "            rez.append([iname, iname + 'вич', iname + 'вна'])\n",
    "        if key in r5 :\n",
    "            rez.append([iname, iname[:-1] + 'евич', iname[:-1] + 'евна'])\n",
    "        if key in r6_7 :\n",
    "            rez.append([iname, iname[:-1] + 'евич', iname[:-1] + 'евна'])\n",
    "        if key in r8 or key in r11 :\n",
    "            rez.append([iname, iname + 'евич', iname + 'евна'])\n",
    "\n",
    "        if iname[-2:] in r9  or iname[-2:] in r10 or iname[-2:] in r12:\n",
    "            rez.append([iname, iname[:-1] + 'евич', iname[:-1] + 'евна'])         \n",
    "        if iname[-2:] in r13:\n",
    "            rez.append([iname, iname + 'евич', iname + 'евна'])\n",
    "\n",
    "\n",
    "        if key in n1 :\n",
    "            rez.append([iname, iname + 'ьевич', iname + 'ьевна'])\n",
    "        if iname[-2:] in n2 :\n",
    "            rez.append([iname, iname[:-1] + 'евич', iname[:-1] + 'евна']) \n",
    "    return rez\n",
    "            \n",
    "#print(stat)\n",
    "#print(rez)\n",
    "#print(len(rez))\n",
    "#print(rez)"
   ]
  },
  {
   "cell_type": "code",
   "execution_count": 4,
   "id": "ae33f9c7",
   "metadata": {},
   "outputs": [
    {
     "name": "stdout",
     "output_type": "stream",
     "text": [
      "3972\n"
     ]
    }
   ],
   "source": [
    "for nn in list(com_set_names):\n",
    "    #print(nn)\n",
    "    rez = creater_patromycs(rez, nn.strip())\n",
    "print(len(rez))"
   ]
  },
  {
   "cell_type": "code",
   "execution_count": 5,
   "id": "646a9fc5",
   "metadata": {},
   "outputs": [
    {
     "name": "stdout",
     "output_type": "stream",
     "text": [
      "4778\n",
      "3911\n"
     ]
    }
   ],
   "source": [
    "with open(name_files_sourses[1], 'r') as i_f:\n",
    "    for line in i_f:\n",
    "        rez = creater_patromycs(rez, line.strip())\n",
    "        com_set_names.add(line.strip())\n",
    "print(len(rez))\n",
    "print(len(com_set_names))"
   ]
  },
  {
   "cell_type": "code",
   "execution_count": 6,
   "id": "4b5dab04",
   "metadata": {},
   "outputs": [
    {
     "name": "stdout",
     "output_type": "stream",
     "text": [
      "5205\n",
      "4651\n"
     ]
    }
   ],
   "source": [
    "for nn in rez:\n",
    "    male_patromycs.add(nn[1])\n",
    "    famale_patromycs.add(nn[2])\n",
    "#         male_patromycs.add(nn[1])\n",
    "#         famale_patromycs.add(nn[2])\n",
    "#print(com_dict_names)\n",
    "print(len(male_patromycs))\n",
    "print(len(famale_patromycs))"
   ]
  },
  {
   "cell_type": "code",
   "execution_count": 7,
   "id": "988418c7",
   "metadata": {},
   "outputs": [],
   "source": [
    "with open(name_files_sourses[2], 'r') as i_f:\n",
    "    for line in i_f:\n",
    "        st_t = line.strip().split('(')[1]\n",
    "        #print(st_t)\n",
    "        if ' и ' in st_t:\n",
    "            s_l = st_t.replace(')','').split(' и ')\n",
    "            #print(s_l)\n",
    "            s_l_1 = s_l[0].split(', ')\n",
    "            male_patromycs.add(s_l_1[0].strip())\n",
    "            famale_patromycs.add(s_l_1[1].strip())\n",
    "            s_l_2 = s_l[1].split(', ')\n",
    "            male_patromycs.add(s_l_2[0].strip())\n",
    "            famale_patromycs.add(s_l_2[1].strip())\n",
    "        else:\n",
    "            s_l_1 = st_t.split(', ')\n",
    "            #print(s_l_1)\n",
    "            male_patromycs.add(s_l_1[0].strip())\n",
    "            famale_patromycs.add(s_l_1[1].replace(')','').strip())"
   ]
  },
  {
   "cell_type": "code",
   "execution_count": 8,
   "id": "d52f2a69",
   "metadata": {},
   "outputs": [
    {
     "name": "stdout",
     "output_type": "stream",
     "text": [
      "5358\n",
      "4808\n"
     ]
    }
   ],
   "source": [
    "print(len(male_patromycs))\n",
    "print(len(famale_patromycs))"
   ]
  },
  {
   "cell_type": "code",
   "execution_count": 9,
   "id": "7569c72e",
   "metadata": {},
   "outputs": [
    {
     "name": "stdout",
     "output_type": "stream",
     "text": [
      "5482\n",
      "4936\n"
     ]
    }
   ],
   "source": [
    "with open(name_files_sourses[3], 'r') as i_f:\n",
    "    for line in i_f:\n",
    "        st_t = line.strip().split(',')\n",
    "        male_patromycs.add(st_t[0].strip())\n",
    "        famale_patromycs.add(st_t[1].strip())\n",
    "print(len(male_patromycs))\n",
    "print(len(famale_patromycs))"
   ]
  },
  {
   "cell_type": "code",
   "execution_count": 10,
   "id": "04194966",
   "metadata": {},
   "outputs": [
    {
     "name": "stdout",
     "output_type": "stream",
     "text": [
      "5508\n",
      "4966\n"
     ]
    }
   ],
   "source": [
    "with open(name_files_sourses[4], 'r') as i_f:\n",
    "    for line in i_f:\n",
    "        st_t = line.strip()\n",
    "        if st_t[-2:] == 'ич':\n",
    "            male_patromycs.add(st_t[0].strip())\n",
    "        if st_t[-2:] == 'на':\n",
    "            famale_patromycs.add(st_t[1].strip())\n",
    "print(len(male_patromycs))\n",
    "print(len(famale_patromycs))"
   ]
  },
  {
   "cell_type": "code",
   "execution_count": 11,
   "id": "a8e97c5a",
   "metadata": {},
   "outputs": [],
   "source": [
    "f_m_r = open(name_files_rezults[0], 'w')\n",
    "for nn in list(male_patromycs):\n",
    "    f_m_r.write(nn +'\\n')\n",
    "    \n",
    "f_f_r = open(name_files_rezults[1], 'w')\n",
    "for nn in list(famale_patromycs):\n",
    "    f_f_r.write(nn +'\\n')\n",
    "\n",
    "f_mn_r = open(name_files_rezults[2], 'w')\n",
    "for nn in list(com_set_names):\n",
    "    f_mn_r.write(nn +'\\n')"
   ]
  },
  {
   "cell_type": "code",
   "execution_count": 12,
   "id": "62488233",
   "metadata": {},
   "outputs": [
    {
     "name": "stdout",
     "output_type": "stream",
     "text": [
      "34216\n",
      "19613\n"
     ]
    }
   ],
   "source": [
    "# get surnames\n",
    "male_surnames = set()\n",
    "famale_surnames = set()\n",
    "with open(name_files_sourses[5], 'r') as i_f:\n",
    "    line = i_f.read()\n",
    "    st_t = line.split('{\"text\": ')\n",
    "    for kk in st_t[1:]:\n",
    "        sern = kk.split(',')[0].replace('\"','')\n",
    "        if sern[-1:] != 'а'  and sern[-2:] != 'ая':\n",
    "            male_surnames.add(sern.strip())\n",
    "        if (sern[-1:] == 'а' or sern[-1:] == 'ч' or sern[-1:] == 'о' or sern[-1:] == 'с'  or sern[-2:] == 'зе' \n",
    "            or sern[-2:] == 'ян'  or sern[-2:] == 'ая' or sern[-2:] == 'ук' or sern[-2:] == 'ей') :\n",
    "            famale_surnames.add(sern.strip())\n",
    "print(len(male_surnames))\n",
    "print(len(famale_surnames))"
   ]
  },
  {
   "cell_type": "code",
   "execution_count": 13,
   "id": "00b33d87",
   "metadata": {},
   "outputs": [
    {
     "name": "stdout",
     "output_type": "stream",
     "text": [
      "157629\n",
      "127976\n"
     ]
    }
   ],
   "source": [
    "with open(name_files_sourses[6], 'r') as i_f:\n",
    "    for line in i_f:\n",
    "        sern = line.replace('\\n','').strip().lower().title()\n",
    "        if sern[-1:] != 'а' and sern[-2:] != 'ая' :\n",
    "            male_surnames.add(sern.strip())\n",
    "        if (sern[-1:] == 'а' or sern[-1:] == 'ч' or sern[-1:] == 'о' or sern[-1:] == 'с'  or sern[-2:] == 'зе' \n",
    "            or sern[-2:] == 'ян'  or sern[-2:] == 'ая' or sern[-2:] == 'ук' or sern[-2:] == 'ей' ):\n",
    "            famale_surnames.add(sern.strip())\n",
    "print(len(male_surnames))\n",
    "print(len(famale_surnames))"
   ]
  },
  {
   "cell_type": "code",
   "execution_count": 14,
   "id": "374c9238",
   "metadata": {},
   "outputs": [],
   "source": [
    "f_m_r = open(name_files_rezults[3], 'w')\n",
    "for nn in list(male_surnames):\n",
    "    f_m_r.write(nn +'\\n')\n",
    "\n",
    "f_f_r = open(name_files_rezults[4], 'w')\n",
    "for nn in list(famale_surnames):\n",
    "    f_f_r.write(nn +'\\n')"
   ]
  },
  {
   "cell_type": "code",
   "execution_count": null,
   "id": "85a497c9",
   "metadata": {},
   "outputs": [],
   "source": []
  }
 ],
 "metadata": {
  "kernelspec": {
   "display_name": "Python 3 (ipykernel)",
   "language": "python",
   "name": "python3"
  },
  "language_info": {
   "codemirror_mode": {
    "name": "ipython",
    "version": 3
   },
   "file_extension": ".py",
   "mimetype": "text/x-python",
   "name": "python",
   "nbconvert_exporter": "python",
   "pygments_lexer": "ipython3",
   "version": "3.8.10"
  }
 },
 "nbformat": 4,
 "nbformat_minor": 5
}
