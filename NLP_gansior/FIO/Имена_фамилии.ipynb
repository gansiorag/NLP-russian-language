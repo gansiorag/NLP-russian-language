{
 "cells": [
  {
   "cell_type": "markdown",
   "metadata": {},
   "source": [
    "# Обучение нейросети распознавать имена фамилии отчества\n",
    "Задача распознать к какому набору слов <br> \n",
    "[Фамилия, Имя, Отчество, Просто слово, Женская фамилия, Женское имя, женское отчество,<br>\n",
    "Мужское имя, Мужское отчество, Мужская фамилия, сочетания Имя отчество, Имя Фамилия,<br>\n",
    "Имя Отчество Фамилия, Фамилия Имя Отчество.] <br>\n",
    "принадлежит произвольно заданное <br>\n",
    "слово или сочетание двух слов и трех слов на русском языке.<br>\n",
    "    Для этого я применил придуманный мной метод.<br>\n",
    "    Для создания моделей использовались следующие наборы данных:  <br>\n",
    "    женские фамилии  - famale_surnames.txt <br>\n",
    "    мужские фамилии  - male_surnames.txt <br>\n",
    "    женские имена    - famale_names_rus.txt <br>\n",
    "    мужские имена    - male_names.txt <br>\n",
    "    женские отчества - famale_patromycs.txt <br>\n",
    "    мужские отчества - male_patromycs.txt <br> "
   ]
  },
  {
   "cell_type": "code",
   "execution_count": 1,
   "metadata": {},
   "outputs": [
    {
     "name": "stderr",
     "output_type": "stream",
     "text": [
      "Loading dictionaries from /usr/local/lib/python3.8/dist-packages/pymorphy2_dicts_ru/data\n",
      "format: 2.4, revision: 417127, updated: 2020-10-11T15:05:51.070345\n"
     ]
    }
   ],
   "source": [
    "import pymorphy2\n",
    "import pickle\n",
    "morph = pymorphy2.MorphAnalyzer()"
   ]
  },
  {
   "cell_type": "code",
   "execution_count": 2,
   "metadata": {},
   "outputs": [],
   "source": [
    "def get_new_forms_from_file(name_file):\n",
    "    # procedure read file with words and generate all words forms\n",
    "    new_forms = []\n",
    "    with open(name_file,'r') as ish_f:\n",
    "        for word_ish in ish_f:\n",
    "            word_ish = word_ish.replace('\\n','').strip().lower()\n",
    "            word = morph.parse(word_ish)[0].lexeme\n",
    "            for k in word:\n",
    "                new_forms.append(k.word)\n",
    "    name_set = set(new_forms)\n",
    "    print(len(name_set))\n",
    "    return name_set"
   ]
  },
  {
   "cell_type": "markdown",
   "metadata": {},
   "source": [
    "получаем все словоформы имен"
   ]
  },
  {
   "cell_type": "code",
   "execution_count": 3,
   "metadata": {},
   "outputs": [
    {
     "name": "stdout",
     "output_type": "stream",
     "text": [
      "252400\n"
     ]
    }
   ],
   "source": [
    "male_name_set = get_new_forms_from_file('/home/al/Projects_My/NLP-russian-language/NLP_gansior/FIO/datasets/rezult_names/male_names.txt')"
   ]
  },
  {
   "cell_type": "code",
   "execution_count": 4,
   "metadata": {},
   "outputs": [
    {
     "name": "stdout",
     "output_type": "stream",
     "text": [
      "170901\n"
     ]
    }
   ],
   "source": [
    "famale_name_set = get_new_forms_from_file('/home/al/Projects_My/NLP-russian-language/NLP_gansior/FIO/datasets/name-surname-master/female-names-v2-16673.txt')"
   ]
  },
  {
   "cell_type": "markdown",
   "metadata": {},
   "source": [
    "получаем все словоформы фамилий"
   ]
  },
  {
   "cell_type": "code",
   "execution_count": 5,
   "metadata": {},
   "outputs": [
    {
     "name": "stdout",
     "output_type": "stream",
     "text": [
      "1682258\n"
     ]
    }
   ],
   "source": [
    "male_surnames_set = get_new_forms_from_file('/home/al/Projects_My/NLP-russian-language/NLP_gansior/FIO/datasets/rezult_names/male_surnames.txt')"
   ]
  },
  {
   "cell_type": "code",
   "execution_count": 6,
   "metadata": {},
   "outputs": [
    {
     "name": "stdout",
     "output_type": "stream",
     "text": [
      "1419415\n"
     ]
    }
   ],
   "source": [
    "famale_surnames_set = get_new_forms_from_file('/home/al/Projects_My/NLP-russian-language/NLP_gansior/FIO/datasets/rezult_names/famale_surnames.txt')"
   ]
  },
  {
   "cell_type": "markdown",
   "metadata": {},
   "source": [
    "Все словоформы отчеств"
   ]
  },
  {
   "cell_type": "code",
   "execution_count": 7,
   "metadata": {},
   "outputs": [
    {
     "name": "stdout",
     "output_type": "stream",
     "text": [
      "494507\n"
     ]
    }
   ],
   "source": [
    "male_patromycs_set = get_new_forms_from_file('/home/al/Projects_My/NLP-russian-language/NLP_gansior/FIO/datasets/rezult_names/male_patromycs.txt')"
   ]
  },
  {
   "cell_type": "code",
   "execution_count": 8,
   "metadata": {},
   "outputs": [
    {
     "name": "stdout",
     "output_type": "stream",
     "text": [
      "558653\n"
     ]
    }
   ],
   "source": [
    "famale_patromycs_set = get_new_forms_from_file('/home/al/Projects_My/NLP-russian-language/NLP_gansior/FIO/datasets/rezult_names/famale_patromycs.txt')"
   ]
  },
  {
   "cell_type": "markdown",
   "metadata": {},
   "source": [
    "из словаря убраны все словоформы фамилий имен и отчеств"
   ]
  },
  {
   "cell_type": "code",
   "execution_count": 8,
   "metadata": {},
   "outputs": [],
   "source": [
    "words_other = []\n",
    "with open('/home/al/PycharmProjects/NLP-russian-language/datasets/datasets_with_name_peaple/words_withot_fameli_name_name_dad.txt','r') as ish_f:\n",
    "    for ww_one in ish_f:\n",
    "        words_other.append(ww_one.strip())"
   ]
  },
  {
   "cell_type": "code",
   "execution_count": 9,
   "metadata": {},
   "outputs": [
    {
     "name": "stdout",
     "output_type": "stream",
     "text": [
      "1901120\n"
     ]
    }
   ],
   "source": [
    "name_list_ish = list(name_set) + list(name_set) + list(name_set) + list(name_set) #+ list(name_set) + list(name_set) + list(name_set) + list(name_set)\n",
    "print(len(name_list_ish))"
   ]
  },
  {
   "cell_type": "code",
   "execution_count": 10,
   "metadata": {},
   "outputs": [
    {
     "name": "stdout",
     "output_type": "stream",
     "text": [
      "668775\n"
     ]
    }
   ],
   "source": [
    "name_dad_ish = list(name_dad_set) + list(name_dad_set) + list(name_dad_set) + list(name_dad_set) + list(name_dad_set)\n",
    "name_dad_ish = name_dad_ish + name_dad_ish + name_dad_ish + name_dad_ish + name_dad_ish\n",
    "#name_dad_ish = name_dad_ish + name_dad_ish + name_dad_ish + name_dad_ish + name_dad_ish + name_dad_ish\n",
    "print(len(name_dad_ish))"
   ]
  },
  {
   "cell_type": "code",
   "execution_count": 11,
   "metadata": {},
   "outputs": [],
   "source": [
    "def get_array_obj(fameli):\n",
    "    array_ish = []\n",
    "    for ww in fameli:\n",
    "       array_ish.append(list(ww))\n",
    "    print(len(array_ish))\n",
    "    return array_ish"
   ]
  },
  {
   "cell_type": "markdown",
   "metadata": {},
   "source": [
    "## делаем из каждого слова список символов"
   ]
  },
  {
   "cell_type": "code",
   "execution_count": 12,
   "metadata": {},
   "outputs": [
    {
     "name": "stdout",
     "output_type": "stream",
     "text": [
      "4102327\n",
      "2556595\n",
      "1901120\n",
      "668775\n"
     ]
    }
   ],
   "source": [
    "fameli_count = get_array_obj(fameli_set)\n",
    "words_count = get_array_obj(words_other)\n",
    "name_count = get_array_obj(name_list_ish)\n",
    "name_dad_count = get_array_obj(name_dad_ish)"
   ]
  },
  {
   "cell_type": "code",
   "execution_count": 13,
   "metadata": {},
   "outputs": [],
   "source": [
    "from nltk.util import ngrams"
   ]
  },
  {
   "cell_type": "markdown",
   "metadata": {},
   "source": [
    "## из разложения слова по символам создаем инграммы по 4 символа из инграмм делаем предложения "
   ]
  },
  {
   "cell_type": "code",
   "execution_count": 14,
   "metadata": {},
   "outputs": [],
   "source": [
    "def from_word_list_to_sentenses(dd:list):\n",
    "    servis_list =[]\n",
    "    servis_list.append(''.join(dd))\n",
    "    ngg = list(ngrams(dd, 4))\n",
    "    for nn in ngg:\n",
    "        word = ''.join(nn)\n",
    "        servis_list.append(word)\n",
    "    return ' '.join(servis_list)"
   ]
  },
  {
   "cell_type": "markdown",
   "metadata": {},
   "source": [
    "### создаем список предложений по каждому слову"
   ]
  },
  {
   "cell_type": "code",
   "execution_count": 15,
   "metadata": {},
   "outputs": [],
   "source": [
    "def get_sentenses(array_ish, y, label, sentenses):\n",
    "    k = 0\n",
    "    for dd in array_ish:\n",
    "        sentenses.append(from_word_list_to_sentenses(dd))\n",
    "        y.append(label)\n",
    "#         k +=1\n",
    "#         if k == 10: break\n",
    "    #print(sentenses)\n",
    "    return sentenses, y"
   ]
  },
  {
   "cell_type": "markdown",
   "metadata": {},
   "source": [
    "### создаем единый массив из слов и классов"
   ]
  },
  {
   "cell_type": "code",
   "execution_count": 16,
   "metadata": {},
   "outputs": [
    {
     "name": "stdout",
     "output_type": "stream",
     "text": [
      "1\n",
      "2\n",
      "3\n",
      "4\n"
     ]
    }
   ],
   "source": [
    "y =[]\n",
    "sentenses = []\n",
    "sentenses, y = get_sentenses(fameli_count, y, 'фамилия', sentenses)\n",
    "print(1)\n",
    "sentenses, y = get_sentenses(words_count, y, 'слово', sentenses)\n",
    "print(2)\n",
    "sentenses, y = get_sentenses(name_count, y, 'имя', sentenses)\n",
    "print(3)\n",
    "sentenses, y = get_sentenses(name_dad_count, y, 'отчество', sentenses)\n",
    "print(4)"
   ]
  },
  {
   "cell_type": "code",
   "execution_count": 26,
   "metadata": {},
   "outputs": [],
   "source": [
    "from sklearn.feature_extraction.text import CountVectorizer\n",
    "from sklearn.feature_extraction.text import TfidfTransformer\n",
    "from sklearn.naive_bayes import MultinomialNB\n",
    "from sklearn.pipeline import Pipeline\n",
    "from sklearn.model_selection import train_test_split"
   ]
  },
  {
   "cell_type": "markdown",
   "metadata": {},
   "source": [
    "### разделляем данные на обучающие и оценочные"
   ]
  },
  {
   "cell_type": "code",
   "execution_count": 18,
   "metadata": {},
   "outputs": [],
   "source": [
    "X_train, X_test, y_train, y_test = train_test_split(sentenses, y, test_size=0.33, random_state=42)"
   ]
  },
  {
   "cell_type": "code",
   "execution_count": 19,
   "metadata": {},
   "outputs": [
    {
     "name": "stdout",
     "output_type": "stream",
     "text": [
      "(6183307, 4916882)\n"
     ]
    }
   ],
   "source": [
    "vectorizer = CountVectorizer()\n",
    "X_train_counts = vectorizer.fit_transform(X_train)\n",
    "# сохраняем модель преобразования\n",
    "with open('model_transform_FIO.pkl', 'wb') as f:\n",
    "    pickle.dump(vectorizer, f )\n",
    "print(X_train_counts.shape)\n",
    "tfidf_transformer = TfidfTransformer()\n",
    "X_train_tfidf = tfidf_transformer.fit_transform(X_train_counts)\n",
    "# сохраняем модель расчета частоты\n",
    "with open('model_tfidf_FIO.pkl', 'wb') as f:\n",
    "    pickle.dump(tfidf_transformer, f )\n",
    "# Метод наивный Байес\n",
    "clf = MultinomialNB().fit(X_train_tfidf, y_train)"
   ]
  },
  {
   "cell_type": "code",
   "execution_count": 20,
   "metadata": {},
   "outputs": [
    {
     "name": "stdout",
     "output_type": "stream",
     "text": [
      "(3045510, 4916882)\n",
      "0.8743816306628447\n"
     ]
    }
   ],
   "source": [
    "X_test_new = vectorizer.transform(X_test)\n",
    "print(X_test_new.shape)\n",
    "X_new_tfidf = tfidf_transformer.transform(X_test_new)\n",
    "predicted = clf.predict(X_new_tfidf)\n",
    "k = 0\n",
    "for doc, category in zip(y_test, predicted):\n",
    "    #print('%r => %s' % (doc, category))\n",
    "    if doc == category: k +=1\n",
    "print(k/len(y_test))"
   ]
  },
  {
   "cell_type": "code",
   "execution_count": 21,
   "metadata": {},
   "outputs": [],
   "source": [
    "\n",
    "# сохраняем модель\n",
    "with open('model_FIO.pkl', 'wb') as f:\n",
    "    pickle.dump(clf, f )"
   ]
  },
  {
   "cell_type": "code",
   "execution_count": 22,
   "metadata": {},
   "outputs": [
    {
     "name": "stdout",
     "output_type": "stream",
     "text": [
      "0.8743816306628447\n"
     ]
    }
   ],
   "source": [
    "from sklearn.metrics import accuracy_score\n",
    "class_num = {'фамилия':1, 'имя':2, 'отчество':3, 'слово':4}\n",
    "y_ac = []\n",
    "x_ac = []\n",
    "for kk in y_test: y_ac.append(class_num[kk])\n",
    "for kk in predicted: x_ac.append(class_num[kk])\n",
    "print(accuracy_score(y_ac,x_ac))"
   ]
  },
  {
   "cell_type": "code",
   "execution_count": 23,
   "metadata": {},
   "outputs": [
    {
     "data": {
      "text/plain": [
       "Text(0.5, 1.0, 'Confusion matrix')"
      ]
     },
     "execution_count": 23,
     "metadata": {},
     "output_type": "execute_result"
    },
    {
     "data": {
      "image/png": "[encoded data removed]",
      "text/plain": [
       "<Figure size 432x288 with 2 Axes>"
      ]
     },
     "metadata": {
      "needs_background": "light"
     },
     "output_type": "display_data"
    }
   ],
   "source": [
    "# Построение ненормализованной матрицы неточностей\n",
    "%matplotlib inline\n",
    "import matplotlib.pyplot as plt\n",
    "from sklearn.metrics import plot_confusion_matrix\n",
    "title = \"Confusion matrix\"\n",
    "normalize = None\n",
    "\n",
    "disp = plot_confusion_matrix(clf, X_new_tfidf, y_test,\n",
    "                             cmap=plt.cm.Blues,\n",
    "                             normalize=normalize)\n",
    "disp.ax_.set_title(title)"
   ]
  },
  {
   "cell_type": "code",
   "execution_count": 24,
   "metadata": {},
   "outputs": [
    {
     "name": "stdout",
     "output_type": "stream",
     "text": [
      "['корнеев корн орне рнее неев']\n"
     ]
    }
   ],
   "source": [
    "train_array = []\n",
    "train_y = [] \n",
    "#train_array, train_y = get_sentenses([list('Гансиор'.lower())], train_y, 'фамилия', train_array)\n",
    "train_array, train_y = get_sentenses([list('Корнеев'.lower())], train_y, 'фамилия', train_array)\n",
    "print(train_array)\n",
    "# train_array, train_y = get_sentenses([list('Сергею'.lower())], train_y, 'имя', train_array)\n",
    "# train_array, train_y = get_sentenses([list('Александровичу'.lower())], train_y, 'отчество', train_array)\n",
    "# train_array, train_y = get_sentenses([list('виамин'.lower())], train_y, 'имя', train_array)"
   ]
  },
  {
   "cell_type": "code",
   "execution_count": 27,
   "metadata": {},
   "outputs": [
    {
     "name": "stdout",
     "output_type": "stream",
     "text": [
      "  (0, 1813512)\t1\n",
      "  (0, 1813860)\t1\n",
      "  (0, 2462438)\t1\n",
      "  (0, 2684004)\t1\n",
      "  (0, 3494391)\t1\n",
      "'фамилия' => фамилия\n",
      "True\n"
     ]
    }
   ],
   "source": [
    "X_train_new = vectorizer.transform(train_array)\n",
    "print(X_train_new)\n",
    "X_new_tfidf = tfidf_transformer.transform(X_train_new)\n",
    "predicted = clf.predict(X_new_tfidf)\n",
    "for doc, category in zip(train_y, predicted):\n",
    "    print('%r => %s' % (doc, category))\n",
    "    if doc == category: print('True')"
   ]
  },
  {
   "cell_type": "code",
   "execution_count": null,
   "metadata": {},
   "outputs": [],
   "source": []
  },
  {
   "cell_type": "code",
   "execution_count": null,
   "metadata": {},
   "outputs": [],
   "source": []
  }
 ],
 "metadata": {
  "kernelspec": {
   "display_name": "Python 3 (ipykernel)",
   "language": "python",
   "name": "python3"
  },
  "language_info": {
   "codemirror_mode": {
    "name": "ipython",
    "version": 3
   },
   "file_extension": ".py",
   "mimetype": "text/x-python",
   "name": "python",
   "nbconvert_exporter": "python",
   "pygments_lexer": "ipython3",
   "version": "3.8.10"
  }
 },
 "nbformat": 4,
 "nbformat_minor": 4
}
