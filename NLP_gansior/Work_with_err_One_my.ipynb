{
 "cells": [
  {
   "cell_type": "markdown",
   "id": "9bc2d7f3",
   "metadata": {},
   "source": [
    "# Работа с ошибками в словах.\n",
    "При распознавании текстов из формата jpeg сопровождается большим количеством ошибок в словах.\n",
    "Это связанно с тем что иногда изображения очень грязные и текст выделяется не очень четко.\n",
    "Я пытаюсь создать методы которые позволяют максимально автоматизировать процесс исправления ошибок.\n",
    "В этом варианте я рассматриваю словарь в котором созданный на основе распознанного текста с частотой встречаемости слов."
   ]
  },
  {
   "cell_type": "code",
   "execution_count": 1,
   "id": "ead64b79",
   "metadata": {},
   "outputs": [
    {
     "name": "stderr",
     "output_type": "stream",
     "text": [
      "Loading dictionaries from /usr/local/lib/python3.8/dist-packages/pymorphy2_dicts_ru/data\n",
      "format: 2.4, revision: 417127, updated: 2020-10-11T15:05:51.070345\n"
     ]
    }
   ],
   "source": [
    "# sources words \n",
    "name_source = ['/home/al/Projects_My/NLP-russian-language/NLP_gansior/FIO/datasets/subnames_base_com.csv',\n",
    "              '/home/al/Projects_My/recognition_text/file_name_org_11_01_2022.txt']\n",
    "name_result = ['/home/al/Projects_My/recognition_text/file_name_org_clear_12_01_2022.csv']\n",
    "import string\n",
    "import re\n",
    "import pymorphy2\n",
    "morph = pymorphy2.MorphAnalyzer()"
   ]
  },
  {
   "cell_type": "code",
   "execution_count": 2,
   "id": "af8d4f59",
   "metadata": {},
   "outputs": [],
   "source": [
    "def get_words_vocab(n_f:str)-> list:\n",
    "    answer = []\n",
    "    with open(n_f, 'r') as i_f:\n",
    "        for line in i_f:\n",
    "            s_l = line.strip().lower().split('^')\n",
    "            answer.append(s_l)\n",
    "    return answer"
   ]
  },
  {
   "cell_type": "code",
   "execution_count": 3,
   "id": "9f29ebdd",
   "metadata": {},
   "outputs": [],
   "source": [
    "def get_words_frag_beg(i_l:list, frag:str) ->list:\n",
    "    answer =[]\n",
    "    br = len(frag)\n",
    "    for kk in i_l:\n",
    "        if kk[0][:br] in [frag]:\n",
    "            answer.append(kk)\n",
    "    return answer"
   ]
  },
  {
   "cell_type": "code",
   "execution_count": 4,
   "id": "0f81f56b",
   "metadata": {},
   "outputs": [],
   "source": [
    "def get_new_forms_from_file(name_file):\n",
    "    # procedure read file with words and generate all words forms\n",
    "    new_forms = []\n",
    "    with open(name_file,'r') as ish_f:\n",
    "        for word_ish in ish_f:\n",
    "            word_ish = word_ish.replace('\\n','').strip().lower()\n",
    "            word = morph.parse(word_ish)[0].lexeme\n",
    "            for k in word:\n",
    "                new_forms.append(k.word)\n",
    "    name_set = set(new_forms)\n",
    "    print(len(name_set))\n",
    "    return name_set"
   ]
  },
  {
   "cell_type": "code",
   "execution_count": 5,
   "id": "0eacf594",
   "metadata": {},
   "outputs": [
    {
     "name": "stdout",
     "output_type": "stream",
     "text": [
      "252400\n"
     ]
    }
   ],
   "source": [
    "male_name_set = get_new_forms_from_file('/home/al/Projects_My/NLP-russian-language/NLP_gansior/FIO/datasets/rezult_names/male_names.txt')"
   ]
  },
  {
   "cell_type": "code",
   "execution_count": 6,
   "id": "fc6fe388",
   "metadata": {},
   "outputs": [
    {
     "name": "stdout",
     "output_type": "stream",
     "text": [
      "170901\n"
     ]
    }
   ],
   "source": [
    "famale_name_set = get_new_forms_from_file('/home/al/Projects_My/NLP-russian-language/NLP_gansior/FIO/datasets/name-surname-master/female-names-v2-16673.txt')"
   ]
  },
  {
   "cell_type": "code",
   "execution_count": 7,
   "id": "16a179ea",
   "metadata": {},
   "outputs": [],
   "source": [
    "name_set = male_name_set.union(famale_name_set)"
   ]
  },
  {
   "cell_type": "code",
   "execution_count": 8,
   "id": "6f710367",
   "metadata": {},
   "outputs": [],
   "source": [
    "beg_data = get_words_vocab(name_source[0])"
   ]
  },
  {
   "cell_type": "code",
   "execution_count": 9,
   "id": "a7478a60",
   "metadata": {},
   "outputs": [
    {
     "name": "stdout",
     "output_type": "stream",
     "text": [
      "[['уч', '1', 'u'], ['уча', '4', 'u'], ['учавтник', '1', 'u'], ['учадегося', '5', 'u'], ['учадуюсредней', '1', 'u'], ['учадуюся', '19', 'u'], ['учаещегося', '1', 'u'], ['учаёэёця', '1', 'u'], ['учалуюся', '2', 'u'], ['учамуюся', '1', 'u']]\n"
     ]
    }
   ],
   "source": [
    "l_frag = get_words_frag_beg(beg_data, 'уч')\n",
    "print(l_frag[:10])"
   ]
  },
  {
   "cell_type": "code",
   "execution_count": 10,
   "id": "b9c9e82d",
   "metadata": {},
   "outputs": [],
   "source": [
    "def stop_str(i_str:str):\n",
    "    key = True\n",
    "    exx = ['главный комитет', \"гл’вный комитет\", 'главные комитет', 'главного комитета ',\n",
    "           'главный метет', 'глдвнып комитет','внедрение ', 'главный выставки ', 'автор ',\n",
    "           'активное участие ', 'награждении участников', 'комитет совета выставки', \n",
    "           'номите совета', 'комитет совета','главный комитет, ', 'выставки', 'введены',\n",
    "           'заместитель председателя комитета', 'гпдвиый комитет', 'активную ', 'разработку', 'комитета совета вднх']\n",
    "    for er_w in exx:\n",
    "        if i_str.find(er_w) == 0:\n",
    "            key = False\n",
    "            break\n",
    "    return key"
   ]
  },
  {
   "cell_type": "code",
   "execution_count": 11,
   "id": "ca90d788",
   "metadata": {},
   "outputs": [],
   "source": [
    "def del_str(i_str:str):\n",
    "    exx = ['главный комитет', \"гл’вный комитет\", 'главные комитет', 'главного комитета ',' конструкции ',\n",
    "           'главный метет', 'глдвнып комитет','внедрение ', 'главный выставки ', 'автор ','изготовление',\n",
    "           'активное участие ', 'награждении участников', 'комитет совета выставки', 'сборку','наладку',\n",
    "           'номите совета', 'комитет совета','главный комитет, ', 'выставки', 'автоматы ', 'внедрено',\n",
    "           'заместитель председателя комитета', 'гпдвиый комитет', 'активную ', 'разработку', 'комитета совета вднх',\n",
    "          'комитета вднх', 'трудящихся', 'введены', 'приобретено' ,'разделу', 'обслуживание','доработку',\n",
    "          'директор вднх','процентов', 'документов', 'участие', ' вывки ', 'достижений', 'осеменению', 'павильона',\n",
    "          'центнеров', 'центнера', ' узлов ', ' приведено ', 'выполнение работ', ' вывка ', 'председатель', ' тонн ',\n",
    "          ' килограммов ', ' надоя ', ' направлений ','подготовку','кронштейна', 'позиций', 'вакууме',\n",
    "          'абхазки 148690']\n",
    "           \n",
    "    for er_w in exx:\n",
    "        if i_str.find(er_w) >= 0:\n",
    "            i_str = ''\n",
    "            break\n",
    "    return i_str"
   ]
  },
  {
   "cell_type": "code",
   "execution_count": 12,
   "id": "18a04bda",
   "metadata": {},
   "outputs": [],
   "source": [
    "def arr_words():\n",
    "    new_forms=[]\n",
    "    dirt_w = ['главный', 'агроном', \"бухгалтер\", 'ветврач', 'бригадир', 'закройщица',\n",
    "              'зоотехник', 'инженер', 'инспектор', 'фототехник', 'председатель', 'заместитель', \n",
    "             'охотовед', 'охотник', 'продавец', 'товаровед', 'заведующий', 'механик',\n",
    "             'сортировщица', 'зверовод', 'руководитель', 'член', 'чабан',\n",
    "             'пятьдесят', 'серебряный', 'денежный','размер', 'медаль','премия', 'бригадa',\n",
    "             'сто']\n",
    "    for word_ish in dirt_w:\n",
    "            word = morph.parse(word_ish)[0].lexeme\n",
    "            for k in word:\n",
    "                new_forms.append(k.word)\n",
    "    return new_forms\n",
    "err_word = arr_words()"
   ]
  },
  {
   "cell_type": "code",
   "execution_count": 13,
   "id": "94f562c3",
   "metadata": {},
   "outputs": [],
   "source": [
    "def clear_str(i_str:str,dirt_w):\n",
    "    for err_w in dirt_w:\n",
    "        i_str = i_str.replace(err_w,'')\n",
    "    dirt_w2 = ['активную работу', '300техник', 'чабан', 'медальюпремиейпятидесяти',\n",
    "             'пятидесяти', 'серебряной', 'денежной','размере', 'медалью','премией',\n",
    "             'ста']\n",
    "    for err_w in dirt_w2:\n",
    "        i_str = i_str.replace(err_w,'')\n",
    "    tt = i_str.split(' ')\n",
    "    i_str = ' '.join([x for x in tt if len(x)>3])\n",
    "    return i_str.strip()"
   ]
  },
  {
   "cell_type": "code",
   "execution_count": 14,
   "id": "8c6facd4",
   "metadata": {},
   "outputs": [],
   "source": [
    "def del_fio(i_str:str, name_set):\n",
    "    s_l = i_str.strip().split(',')\n",
    "    end_str = ['ича','вну']\n",
    "    if s_l[0][-3:] in end_str:\n",
    "        i_str = ', '.join(s_l[1:])\n",
    "    s_l = i_str.strip().split(' ')\n",
    "    if len(s_l)>=3:\n",
    "        if s_l[2][-3:] in end_str:\n",
    "            i_str = ' '.join(s_l[3:])\n",
    "    if len(i_str)>1: #'‚'\n",
    "        if list(i_str)[0] in string.punctuation:\n",
    "            i_str = i_str[1:]\n",
    "    end_str4 = ['вича ', 'овну ','евне ', 'евна ','ович ', 'евну ',  'евчу ','виче ',  'вичу ','ичну ','оглы ']\n",
    "    for ff in end_str4:\n",
    "        coord = i_str.find(ff)\n",
    "        if coord >=0:\n",
    "            i_str = i_str[coord+4:]\n",
    "    coord = i_str.find('стригаля')\n",
    "    if coord >=0:\n",
    "        i_str = i_str[coord+7:]\n",
    "    i_str = ' '.join([x for x in i_str.split(' ') if len(x.strip())>3])\n",
    "    tt = i_str.split(' ')\n",
    "    ind_n = -1\n",
    "    for nn in tt:\n",
    "        if nn in name_set:\n",
    "            ind_n = tt.index(nn)\n",
    "            break\n",
    "    if ind_n > 0:\n",
    "        tt.pop(ind_n)\n",
    "        tt.pop(ind_n-1)\n",
    "    i_str = ' '.join(tt)\n",
    "    return i_str.strip()\n"
   ]
  },
  {
   "cell_type": "code",
   "execution_count": 18,
   "id": "81188b81",
   "metadata": {},
   "outputs": [],
   "source": [
    "def del_prof(i_str:str):\n",
    "    tt = i_str\n",
    "    dirt_w = ['главного', 'агронома', 'инженера', 'старшего', 'бывшего', 'начальника', 'яко вода', \n",
    "              'автогрейдер йдериста', 'а льника', 'аач льнин', 'управляющего', 'конюха', 'аппаратчика',\n",
    "              ' тора', 'ветврача', 'доярку', 'заведующего','тракториста', 'поливальщика', 'старше',\n",
    "              'директора ', 'бригадира', 'брит адира', 'звеньевую', 'звеньевого', 'птичницу', 'повара',\n",
    "              ' рта ', ' бронзовой ', ' медалью ', ' денежной ', ' премией ', ' размере ', 'авиатехника',\n",
    "              ' пятидесяти ', 'рублей', 'ветеринарного врача', 'бронзовойденежнойразмере', ' начали ', ' ника '\n",
    "             'автокрановщика', 'аг онома', 'агро нома ', 'агадира ', 'агрономе ', 'академика', 'профессора',\n",
    "             'водителя', 'конструктора', 'замначельника','начальник', ' зам ', 'рабочую','рабочего',\n",
    "              'управляющ го','управляющего', 'управляющую', 'управляюще', 'электромонтажника','электромонтера',\n",
    "              'экскаваторщика','экономи ','электрика','свинарку','штукатуров','шофера', 'штукатура', 'штурмана',\n",
    "              '1 му ','10с ственному ', '18 0е','шлифовальщика', 'трактори', 'комбайнера', 'слесаря',\n",
    "              'мастера', 'заместитель', 'телятницу', 'технолога', 'токаря', 'скотника', ' зам ', 'пофера', 'секретаря',\n",
    "              'ответственного', 'учащуюся', 'инструктора', 'сотрудника','машини ', 'машиниста', 'ршего ',\n",
    "              'скотницу', 'прораба', 'литейщика', 'учащегося', 'механизатора', 'свинаря', 'учителя', 'помощника',\n",
    "              'экскаватора', 'золотой', 'слесарей', 'оригедира ', 'сборщиков', 'сварщиков', 'сварщика', 'успехи',\n",
    "              'младшего', 'научного сотрудник ', 'научного сотрудника', 'доярка', 'дояра', 'луговода',\n",
    "              'крупного рогатого скота птицы', 'заготовкам птицы','цыплящниц', 'тепличницу', 'доровн телят',\n",
    "              'диплом степени', 'кузнеца', 'доржи ', 'пастуха', 'чаесборщицу','научного сотрудники',\n",
    "              'обеспечение инкубаторного парка полу чения выхода молодняка птицы процента тысяч штук',\n",
    "             '0цтосопыепа толгата','100 соколова виктора евгеньевича', '115 петухова константина семеновича',\n",
    "              'вывка достчженч одчою хозяист ссср','председа теля', '1иколая конн зкой', '/ока', '2307',\n",
    "              '1езвщцвили мелею члловьъ', '1зпча юуцо', '1кэа', '/ парткоэла', '0630', '098евн', '48562',\n",
    "              'христина ивана ', 'кукарцева  касаткина  притулина', 'сааресто куйдо риховичеа', 'михайло',\n",
    "              'основу вкат спину', 'цоблпэ', 'ожсачдроггча нэчэаъбие', '3еро водч снуи', 'абдраманова жалгаса',\n",
    "                  'абдраманова', 'абдужабарова абдразака', 'абдуллаева', 'абдуллаеву рахбарой', 'абдулова хамдама',\n",
    "                  'абдуловведущего', 'абдулха', 'абдулхайрова', 'абдурахманова', 'абдуханова арысбека',\n",
    "                  'абдыгазиева тургунбая гянъ', 'абдыкадырова абдува', 'абдыкаликова турлыбая', 'абдыкалыкова',\n",
    "                  'абдылдабекова кочыо', 'абжалова', 'абиева арапбека', 'абирову', 'абочдпо',\n",
    "                  'аботку типового проекте рокоформатного', \n",
    "                  'аажланова', 'аахачсксщ зевоту', 'абакула', 'аббас отлы', 'аббасова аббаза кафар оглы',\n",
    "                 '12 микляева петра григорьевича', '122 посвянскую эсфирь айзиковну', '14 гусева владимира петровича',\n",
    "                 '1416дб 1 1 с кого о бориса александро вича веду никольского валерия серафимовича родущдего',\n",
    "                 '142 семина петра семеновича', '148 гончарука николая алексеевича', '149 сепожников валентин михайлович',\n",
    "                 '150 левнева владимира яковлевича', '153 янсона георгия васильевича', '154 манаенкова анатолия федоровича',\n",
    "                 '157 костина виктора михайловича', '159', '164 бровкина виктора александровича',\n",
    "                 '167 варзегова аркадия степановича 48562  168 субботина владимира александровича 57',\n",
    "                 '178 кузьменко леонида яковлевича', '186 щасливого владимира арсеньевича', '187 толченова анатолия сергеевича',\n",
    "                 '188 барышникова валентина ивановича', '196 горохова александра григорьевича е']\n",
    "        for er_w in dirt_w:\n",
    "            tt = tt.replace(er_w,'')\n",
    "        return tt.strip()"
   ]
  },
  {
   "cell_type": "code",
   "execution_count": 20,
   "id": "59080e9b",
   "metadata": {},
   "outputs": [],
   "source": [
    "def dell_err(i_str:str):\n",
    "    tt = i_str.split(' ')\n",
    "    dirt_w = {'00кома':'Обкома', '00ластного':'Областного', '0областного':'областного', '7':'','0бкома':'Обкома', \n",
    "              '06кома':'Обкома',\n",
    "             '0бластного':'Областного', 'управления':'управление', 'рс ср':' рсфср', 'фср':'рсфср', 'рсфор':'рсфср',\n",
    "             'ного':'',  'тре':'', 'нцию':'станцию', 'нции':'станции', 'е':'', 'ника':'', 'началь':'', 'ст':'',\n",
    "             'доярк': ' ','тимо':' ', 'тракто и ':' ', 'сварщика':'', 'петрови':'', 'гпдвный':'главный', 'алекс':'',\n",
    "             'научноинститу ':'научному институту ', 'нистерства': 'министерства', ' паучноинститу ':' научному институту ',\n",
    "             'миниерва':'министерства', 'научноисинститута':'научного института', 'терства':' министерства ', \n",
    "              'казахна':'казахстана', 'с0ср':'ссср', 'отдла':'отедла', 'щего':'', '1едре':'', \n",
    "             'бригады':'', 'коммунистического':'', 'труда':'','а':'', 'ства':'','ирии':'','зам':'', \n",
    "              'ъчвдстерсгьа':'министерства', '1ьныш':'', 'трного':'', '23институту':'институту',\n",
    "             '3еро водч снуи':'', '800техника':'', 'авляющего':'', 'аводу':'заводу', '1ием':''}\n",
    "    for er_w in tt:\n",
    "        if er_w in dirt_w:\n",
    "            i_str = i_str.replace(er_w, dirt_w[er_w])\n",
    "    return i_str.strip()"
   ]
  },
  {
   "cell_type": "code",
   "execution_count": 21,
   "id": "6d144368",
   "metadata": {},
   "outputs": [
    {
     "name": "stdout",
     "output_type": "stream",
     "text": [
      "19593\n"
     ]
    }
   ],
   "source": [
    "ar_str = []\n",
    "with open(name_source[1], 'r') as i_f:\n",
    "    for line in i_f:\n",
    "        line = ' '.join(re.findall(r'[а-я0-9/]+', line.lower()))\n",
    "        if stop_str(line.strip()):\n",
    "            line = dell_err(line)\n",
    "            line = del_fio(line, name_set)\n",
    "            line = clear_str(line, err_word)\n",
    "            line = del_prof(line)\n",
    "            line = del_str(line)\n",
    "            line = dell_err(line)\n",
    "            if len(line)>0:\n",
    "                ar_str.append(line)\n",
    "            \n",
    "print(len(ar_str))\n",
    "with open(name_result[0], 'w') as r_f:\n",
    "    for ss in ar_str:\n",
    "        r_f.write(ss + '\\n')"
   ]
  },
  {
   "cell_type": "code",
   "execution_count": null,
   "id": "328e1fdb",
   "metadata": {},
   "outputs": [],
   "source": []
  },
  {
   "cell_type": "code",
   "execution_count": null,
   "id": "3fb4853f",
   "metadata": {},
   "outputs": [],
   "source": []
  }
 ],
 "metadata": {
  "kernelspec": {
   "display_name": "Python 3 (ipykernel)",
   "language": "python",
   "name": "python3"
  },
  "language_info": {
   "codemirror_mode": {
    "name": "ipython",
    "version": 3
   },
   "file_extension": ".py",
   "mimetype": "text/x-python",
   "name": "python",
   "nbconvert_exporter": "python",
   "pygments_lexer": "ipython3",
   "version": "3.8.10"
  }
 },
 "nbformat": 4,
 "nbformat_minor": 5
}
