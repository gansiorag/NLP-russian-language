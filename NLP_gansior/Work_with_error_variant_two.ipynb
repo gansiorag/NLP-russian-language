{
 "cells": [
  {
   "cell_type": "markdown",
   "id": "aa857240",
   "metadata": {},
   "source": [
    "# Работа с ошибками в словах.\n",
    "При распознавании текстов из формата jpeg сопровождается большим количеством ошибок в словах.\n",
    "Это связанно с тем что иногда изображения очень грязные и текст выделяется не очень четко.\n",
    "Я пытаюсь создать методы которые позволяют максимально автоматизировать процесс исправления ошибок.\n",
    "В этом варианте я рассматриваю словарь в котором созданный на основе распознанного текста с частотой встречаемости слов."
   ]
  },
  {
   "cell_type": "code",
   "execution_count": 1,
   "id": "dba44e77",
   "metadata": {},
   "outputs": [
    {
     "name": "stderr",
     "output_type": "stream",
     "text": [
      "Loading dictionaries from /usr/local/lib/python3.8/dist-packages/pymorphy2_dicts_ru/data\n",
      "format: 2.4, revision: 417127, updated: 2020-10-11T15:05:51.070345\n"
     ]
    }
   ],
   "source": [
    "# sources words \n",
    "name_source = ['/home/al/Projects_My/NLP-russian-language/NLP_gansior/FIO/datasets/subnames_base_com.csv',\n",
    "              '/home/al/Projects_My/recognition_text/file_name_org_11_01_2022.txt']\n",
    "name_result = ['/home/al/Projects_My/NLP-russian-language/NLP_gansior/file_corrected_errors_16_01_2022.csv']\n",
    "import string\n",
    "import re\n",
    "import pymorphy2\n",
    "morph = pymorphy2.MorphAnalyzer()"
   ]
  },
  {
   "cell_type": "code",
   "execution_count": 2,
   "id": "20963bba",
   "metadata": {},
   "outputs": [],
   "source": [
    "def get_words_vocab(n_f:str)-> list:\n",
    "    answer = []\n",
    "\n",
    "    with open(n_f, 'r') as i_f:\n",
    "        for line in i_f:\n",
    "            s_l = line.strip().lower().split('^')\n",
    "            answer.append(s_l)\n",
    "    return answer"
   ]
  },
  {
   "cell_type": "code",
   "execution_count": 3,
   "id": "0232e8f7",
   "metadata": {},
   "outputs": [],
   "source": [
    "def get_words_frag_beg(i_l:list, frag:str) ->list:\n",
    "    answer =[]\n",
    "    br = len(frag)\n",
    "    for kk in i_l:\n",
    "        if kk[0][:br] in [frag]:\n",
    "            answer.append(kk)\n",
    "    return answer"
   ]
  },
  {
   "cell_type": "code",
   "execution_count": 4,
   "id": "6ddd73ef",
   "metadata": {},
   "outputs": [],
   "source": [
    "beg_data = get_words_vocab(name_source[0])"
   ]
  },
  {
   "cell_type": "code",
   "execution_count": 9,
   "id": "c1d5ee7f",
   "metadata": {},
   "outputs": [],
   "source": [
    "def vocab_word(word:str)-> dict:\n",
    "    vv={}\n",
    "    rual = ''.join([chr(ord('а')+ kk) for kk in range(32)])+'ё'\n",
    "    for k in range(2,len(word)-1):\n",
    "        if word[:k]:\n",
    "            vv[word[:k]] = word\n",
    "        if word[k:]:\n",
    "            vv[word[k:]] = word\n",
    "    return vv"
   ]
  },
  {
   "cell_type": "code",
   "execution_count": 10,
   "id": "67672d13",
   "metadata": {},
   "outputs": [
    {
     "name": "stdout",
     "output_type": "stream",
     "text": [
      "['учанегося', '7', 'u']\n",
      "[41, 457, 'учащегося']\n"
     ]
    }
   ],
   "source": [
    "l_frag = get_words_frag_beg(beg_data, 'уч')\n",
    "dd =[0,0,'']\n",
    "print(l_frag[10])\n",
    "for kk in range(len(l_frag)):\n",
    "    if int(l_frag[kk][1])>dd[1]:\n",
    "        dd = [kk,int(l_frag[kk][1]), l_frag[kk][0]]\n",
    "print(dd)"
   ]
  },
  {
   "cell_type": "code",
   "execution_count": 11,
   "id": "89920557",
   "metadata": {},
   "outputs": [
    {
     "name": "stdout",
     "output_type": "stream",
     "text": [
      "12\n"
     ]
    }
   ],
   "source": [
    "dd_dict = vocab_word(dd[2])\n",
    "print(len(dd_dict))"
   ]
  },
  {
   "cell_type": "code",
   "execution_count": 12,
   "id": "81480cba",
   "metadata": {},
   "outputs": [
    {
     "name": "stdout",
     "output_type": "stream",
     "text": [
      "{'уч': 'учащегося', 'ащегося': 'учащегося', 'уча': 'учащегося', 'щегося': 'учащегося', 'учащ': 'учащегося', 'егося': 'учащегося', 'учаще': 'учащегося', 'гося': 'учащегося', 'учащег': 'учащегося', 'ося': 'учащегося', 'учащего': 'учащегося', 'ся': 'учащегося'}\n"
     ]
    }
   ],
   "source": [
    "print(dd_dict)"
   ]
  },
  {
   "cell_type": "code",
   "execution_count": 13,
   "id": "ef0a410c",
   "metadata": {},
   "outputs": [
    {
     "name": "stdout",
     "output_type": "stream",
     "text": [
      "уч\n",
      "уча\n",
      "учаще\n",
      "учащего\n"
     ]
    }
   ],
   "source": [
    "for kk in range(len(beg_data)):\n",
    "    if beg_data[kk][0] in dd_dict:\n",
    "        print(beg_data[kk][0])"
   ]
  },
  {
   "cell_type": "code",
   "execution_count": null,
   "id": "0383b491",
   "metadata": {},
   "outputs": [],
   "source": []
  }
 ],
 "metadata": {
  "kernelspec": {
   "display_name": "Python 3 (ipykernel)",
   "language": "python",
   "name": "python3"
  },
  "language_info": {
   "codemirror_mode": {
    "name": "ipython",
    "version": 3
   },
   "file_extension": ".py",
   "mimetype": "text/x-python",
   "name": "python",
   "nbconvert_exporter": "python",
   "pygments_lexer": "ipython3",
   "version": "3.8.10"
  }
 },
 "nbformat": 4,
 "nbformat_minor": 5
}
