{
 "cells": [
  {
   "cell_type": "markdown",
   "id": "c75204dc",
   "metadata": {},
   "source": [
    "# Работа с ошибками \n",
    "Работа с один из обязательных шагов в работе с текстами. В любом массиве текстов всегда присутствуют ошибки.\n",
    "Т.к. в гастоящее время все книги переводятся в цифровые форматы, корректность их конвертации может происходить с большим количеством ошибок. \n",
    "Если вы работаете с текстом в виде сканированных страниц, то перевод его в посимвольный формат порождает ошибки.\n",
    "Ошибки связанные с некорректным распознаванием символов и в словах появляются артефакты. \n",
    "Появляются слитые слова из нескольких слов. При распознавании блочного текста может перекрываться содержание блоков.\n",
    "В текстах с самого начала введенных с помощью редакторов, встречаются опечатки. Иногда в очень больших количествах. При этом если текст набивался с переносом частей слов, можно встретить обрывки слов."
   ]
  },
  {
   "cell_type": "markdown",
   "id": "7a436835",
   "metadata": {},
   "source": [
    "\n",
    "Автокорректор ошибок на Python\n",
    "нужно было как-то формально назвать это :)\n",
    "\n",
    "На основе блокнота Питера Норвига, Google\n",
    "\n",
    "Перевод и дополнения: Ян Пиле, НИУ ВШЭ\n",
    "DISCLAIMER\n",
    "\n",
    "Сразу предупрежу, что это мой скромный кавер на материал - https://norvig.com/spell-correct.html  директора по исследованиям Google - Питера Норвига. Русскоязычной версии такого крутого рассказа еще не было, так что here we are!\n",
    "Статистическая обработка естественного языка в Python.\n",
    "или\n",
    "Как делать всякое со словами. И Counter'ами (aka Счетчиками).\n",
    "или "
   ]
  },
  {
   "cell_type": "code",
   "execution_count": 1,
   "id": "f70fbe27",
   "metadata": {},
   "outputs": [
    {
     "name": "stdout",
     "output_type": "stream",
     "text": [
      "Populating the interactive namespace from numpy and matplotlib\n"
     ]
    }
   ],
   "source": [
    "# Импортируй и властвуй\n",
    "%pylab inline\n",
    "import re\n",
    "import math\n",
    "import string\n",
    "from collections import Counter\n",
    "import requests"
   ]
  },
  {
   "cell_type": "markdown",
   "id": "439fdf37",
   "metadata": {},
   "source": [
    "\n",
    "(1) Данные: Текст и Слова\n",
    "\n",
    "Прежде чем что-то делать со словами(править опечатки, например), надо эти слова откуда-то взять. Придется найти некий текст, возможно - из файла, а возможно - лежащий где-то на просторах интернета. Затем нужно этот текст разбить на слова. Мы позаимствуем текст у Питера Норвига - автора одного из очень популярных алгоритмов проверки правописания (и директора по исследованиям Google) :) вот текст. Считаем его из интернета и посмотрим, насколько фрагмент текста велик (в количестве символов):\n"
   ]
  },
  {
   "cell_type": "code",
   "execution_count": 2,
   "id": "33177775",
   "metadata": {},
   "outputs": [
    {
     "data": {
      "text/plain": [
       "6488666"
      ]
     },
     "execution_count": 2,
     "metadata": {},
     "output_type": "execute_result"
    }
   ],
   "source": [
    "TEXT = requests.get('https://norvig.com/big.txt').text\n",
    "len(TEXT)"
   ]
  },
  {
   "cell_type": "markdown",
   "id": "954ab9ad",
   "metadata": {},
   "source": [
    "\n",
    "\n",
    "Текст огромен - более 6 млн. символов.\n",
    "\n",
    "Теперь нужно разбить текст на слова (Ну, или если быть чуть более формальным, токены). Пока что мы не будем сильно задумываться о том, что в тексте есть пунктуация, цифры и прочие символы - сосредоточимся только на словах, состоящих из букв.\n"
   ]
  },
  {
   "cell_type": "code",
   "execution_count": 3,
   "id": "e09f9d21",
   "metadata": {},
   "outputs": [],
   "source": [
    "def tokens(text):\n",
    "    \"\"\"Возвращает список токенов (подряд идущих буквенных последовательностей) в тексте. \n",
    "       Текст при этом приводится к нижнему регистру.\"\"\"\n",
    "    return re.findall(r'[a-z]+', text.lower()) "
   ]
  },
  {
   "cell_type": "code",
   "execution_count": 4,
   "id": "94c52ff9",
   "metadata": {},
   "outputs": [
    {
     "data": {
      "text/plain": [
       "['this', 'is', 'a', 'test', 'this', 'is']"
      ]
     },
     "execution_count": 4,
     "metadata": {},
     "output_type": "execute_result"
    }
   ],
   "source": [
    "tokens('This is: A test, 1, 2, 3, this is.')"
   ]
  },
  {
   "cell_type": "code",
   "execution_count": 5,
   "id": "093d80cf",
   "metadata": {},
   "outputs": [
    {
     "data": {
      "text/plain": [
       "1105285"
      ]
     },
     "execution_count": 5,
     "metadata": {},
     "output_type": "execute_result"
    }
   ],
   "source": [
    "WORDS = tokens(TEXT)\n",
    "len(WORDS)"
   ]
  },
  {
   "cell_type": "markdown",
   "id": "6c76dbfe",
   "metadata": {},
   "source": [
    "Остался миллион различных слов. Вот первые 10:"
   ]
  },
  {
   "cell_type": "code",
   "execution_count": 6,
   "id": "af33f7bc",
   "metadata": {},
   "outputs": [
    {
     "name": "stdout",
     "output_type": "stream",
     "text": [
      "['the', 'project', 'gutenberg', 'ebook', 'of', 'the', 'adventures', 'of', 'sherlock', 'holmes']\n"
     ]
    }
   ],
   "source": [
    "print(WORDS[:10])"
   ]
  },
  {
   "cell_type": "markdown",
   "id": "27628326",
   "metadata": {},
   "source": [
    "\n",
    "\n",
    "Хочу заметить, что сейчас слова появляются в нашем списке в том порядке, как они располагались в тексте\n",
    "(2) Модель: Мешок слов (aka Bag of Words)\n",
    "\n",
    "Мы создали список WORDS - список слов в том порядке, как они следуют в TEXT. Мы можем использовать этот список в качестве порождающей модели (generative model) текста. Язык - очень сложная штука и мы создаем крайне упрощенную модель языка, которая может ухватить часть этой сложной структуры. В модели мешка слов , мы полностью игнорируем порядок слов, зато соблюдаем их частоту. Представить это можно себе так: вы берете все слова текста и забрасываете их в мешок. Теперь, если вы хотите сгенерировать предложение с помощью этого мешка, вы просто трясете его(слова там перемешиваются) и достаете указанное количество слов по одному (мешок непрозрачный, так что слоа вы достаете наугад). Почти наверное полученное предложение будет грамматически некорректным, но слова в этом предложении будут в +- правильной пропорции (более частые будут встречаться чаще, более редкие - реже). Вот функция, которая сэмплирует(от англ. sample) предложение из n слов с помощью нашего мешка:\n"
   ]
  },
  {
   "cell_type": "code",
   "execution_count": 7,
   "id": "5e465c83",
   "metadata": {},
   "outputs": [],
   "source": [
    "def sample(bag, n=10):\n",
    "    \"Sample a random n-word sentence from the model described by the bag of words.\"\n",
    "    return ' '.join(random.choice(bag) for _ in range(n))"
   ]
  },
  {
   "cell_type": "code",
   "execution_count": 8,
   "id": "996938bf",
   "metadata": {},
   "outputs": [
    {
     "data": {
      "text/plain": [
       "'to the the go fitting of in of did down'"
      ]
     },
     "execution_count": 8,
     "metadata": {},
     "output_type": "execute_result"
    }
   ],
   "source": [
    "sample(WORDS)"
   ]
  },
  {
   "cell_type": "markdown",
   "id": "b9e4f7e3",
   "metadata": {},
   "source": [
    "Другое представление мешка слов - Counter. Это словарь, состоящий из пар {'слово': кол-во вхождений слова в текст}. Например,"
   ]
  },
  {
   "cell_type": "code",
   "execution_count": 9,
   "id": "09b42e4e",
   "metadata": {},
   "outputs": [
    {
     "data": {
      "text/plain": [
       "Counter({'is': 2, 'this': 1, 'a': 2, 'test': 2, 'it': 1})"
      ]
     },
     "execution_count": 9,
     "metadata": {},
     "output_type": "execute_result"
    }
   ],
   "source": [
    "Counter(tokens('Is this a test? It is a test!'))"
   ]
  },
  {
   "cell_type": "markdown",
   "id": "0581df5e",
   "metadata": {},
   "source": [
    "Counter очень похож на словарь из Python - тип dict , но у него есть ряд дополнительных методов. Давайте завернем в Counter наш список слов WORDS и посмотрим, что получится:"
   ]
  },
  {
   "cell_type": "code",
   "execution_count": 10,
   "id": "470c501e",
   "metadata": {},
   "outputs": [
    {
     "name": "stdout",
     "output_type": "stream",
     "text": [
      "[('the', 80030), ('of', 40025), ('and', 38313), ('to', 28766), ('in', 22050), ('a', 21155), ('that', 12512), ('he', 12401), ('was', 11410), ('it', 10681)]\n"
     ]
    }
   ],
   "source": [
    "COUNTS = Counter(WORDS)\n",
    "print(COUNTS.most_common(10))"
   ]
  },
  {
   "cell_type": "code",
   "execution_count": 11,
   "id": "5982d6e1",
   "metadata": {},
   "outputs": [
    {
     "name": "stdout",
     "output_type": "stream",
     "text": [
      "80030 the\n",
      "83 rare\n",
      "38313 and\n",
      "0 neverbeforeseen\n",
      "460 words\n"
     ]
    }
   ],
   "source": [
    "for w in tokens('the rare and neverbeforeseen words'):\n",
    "    print(COUNTS[w], w)"
   ]
  },
  {
   "cell_type": "markdown",
   "id": "fc32f10e",
   "metadata": {},
   "source": [
    "В 1935, лингвист Джордж Ципф отметил, что в любом большом тексте n-тое наиболее часто встречающееся слово появляется с частотой ~ 1/n от частоты наиболее часто встречающегося слова. Это наблюдение получило название Закона Ципфа, несмотря на то, что Феликс Ауэрбах заметил это еще в 1913 году. Если нарисовать частоты слов, начиная от самого часто встречающегося, на log-log-графике, они должны приблизительно следовать прямой линии, если закон Ципфа верен. Для нашего случая все, вроде бы, +- совпадает:"
   ]
  },
  {
   "cell_type": "code",
   "execution_count": 12,
   "id": "9879fc2d",
   "metadata": {},
   "outputs": [
    {
     "data": {
      "image/png": "[encoded data removed]",
      "text/plain": [
       "<Figure size 432x288 with 1 Axes>"
      ]
     },
     "metadata": {
      "needs_background": "light"
     },
     "output_type": "display_data"
    }
   ],
   "source": [
    "M = COUNTS['the']\n",
    "yscale('log'); \n",
    "xscale('log'); \n",
    "title('Частота n-того наиболее частого слова и линия 1/n.')\n",
    "plot([c for (w, c) in COUNTS.most_common()])\n",
    "plot([M/i for i in range(1, len(COUNTS)+1)]);"
   ]
  },
  {
   "cell_type": "code",
   "execution_count": 13,
   "id": "ad4a6c50",
   "metadata": {},
   "outputs": [],
   "source": [
    "# 'abcd' -> 'abcd'"
   ]
  },
  {
   "cell_type": "markdown",
   "id": "cda89f63",
   "metadata": {},
   "source": [
    "3) Задача: Проверка Правописания\n",
    "\n",
    "Для данного слова w нужно найти наиболее вероятную правку c = correct(w).\n",
    "\n",
    "Подход: Найти все кандидаты c, достаточно близкие к w. Выбрать наиболее вероятный из них.\n",
    "\n",
    "Осталось понять, что такое близкие и наиболее вероятный.\n",
    "\n",
    "Применим наивный подход: всегда будем брать более близкое слово, если проверки на близость недостаточно, берем слово с максимальной частотой из WORDS. Сейчас мы будем измерять близость с помощью расстояния Левенштейна: минимального необходимого количества удалений, перестановок, вставок, и замен символов, необходимых чтобы одно слово превратить в другое. Конечно же это не единственный возможный подход. Методом проб и ошибок можно понять, что поиск слов в пределах расстояния 2 уже даст пристойные результаты (или можно почитать в литературе). Тогда остается определить функциюcorrect(w):"
   ]
  },
  {
   "cell_type": "markdown",
   "id": "a0e31224",
   "metadata": {},
   "source": [
    "\n",
    "\n",
    "Функции known и edits0 простые; функция edits2 iлегко получается из функции edits1:\n"
   ]
  },
  {
   "cell_type": "code",
   "execution_count": 14,
   "id": "21ff9dbe",
   "metadata": {},
   "outputs": [],
   "source": [
    "def known(words):\n",
    "    \"Вернуть подмножество слов, которое есть в нашем словаре.\"\n",
    "    return {w for w in words if w in COUNTS}\n",
    "\n",
    "def edits0(word): \n",
    "    \"Вернуть все строки, которые находятся на edit_distance == 0 от word (т.е., просто само слово).\"\n",
    "    return {word}\n",
    "\n",
    "def edits2(word):\n",
    "    \"Вернуть все строки, которые находятся на edit_distance == 2 от word.\"\n",
    "    return {e2 for e1 in edits1(word) for e2 in edits1(e1)}\n"
   ]
  },
  {
   "cell_type": "code",
   "execution_count": 15,
   "id": "f423081a",
   "metadata": {},
   "outputs": [],
   "source": [
    "def correct(word):\n",
    "    \"Поиск лучшего исправления ошибки для данного слова.\"\n",
    "    # предрассчитать edit_distance==0, затем 1, затем 2; в противном случае оставить слово \"как есть\".\n",
    "    candidates = (known(edits0(word)) or \n",
    "                  known(edits1(word)) or \n",
    "                  known(edits2(word)) or \n",
    "                  [word])\n",
    "    return max(candidates, key=COUNTS.get)"
   ]
  },
  {
   "cell_type": "markdown",
   "id": "f080567d",
   "metadata": {},
   "source": [
    "Функция edits1(word)должна возвращать множество слов, находящихся на расстоянии edit_distance == 1. Например для слова \"wird\" это множество будет включать слова \"weird\" (вставка буквы e) и слово \"word\" (замена i на o), , а также \"iwrd\" (перемена w и i местами); после чего может быть применена функция known для фильтрации и выбора подходящих кандидатов). Как же нам получить их? Например можно разбить исходное слово на пару всеми возможными способами (каждое разбиение даст нам пару \"слов\"), (a, b), первая часть - до места разбиения, а вторая - после, и в каждом месте разбиения можно: удалить, поменять местами, заменить или вставить букву:\n",
    "пары: \tØ+wird \tw+ird \twi+rd \twir+d\twird+Ø\tNotes: (a, b) пара\n",
    "удаления: \tØ+ird\tw+rd\twi+d\twir+Ø\t\tУдаление первой буквы в b\n",
    "перемена мест: \tØ+iwrd\tw+rid\twi+dr\t\t\tПеремена мест двух первых букв b\n",
    "замена: \tØ+?ird\tw+?rd\twi+?d\twir+?\t\tзамена буквы в начале b\n",
    "вставка: \tØ+?+wird\tw+?+ird\twi+?+rd\twir+?+d\twird+?+Ø\tВставка буквы между a и b "
   ]
  },
  {
   "cell_type": "code",
   "execution_count": 16,
   "id": "35f75667",
   "metadata": {},
   "outputs": [],
   "source": [
    "def edits1(word):\n",
    "    \"Возвращает список всех строк на расстоянии edit_distance == 1 от word.\"\n",
    "    pairs      = splits(word)\n",
    "    deletes    = [a+b[1:]           for (a, b) in pairs if b]\n",
    "    transposes = [a+b[1]+b[0]+b[2:] for (a, b) in pairs if len(b) > 1]\n",
    "    replaces   = [a+c+b[1:]         for (a, b) in pairs for c in alphabet if b]\n",
    "    inserts    = [a+c+b             for (a, b) in pairs for c in alphabet]\n",
    "    return set(deletes + transposes + replaces + inserts)\n",
    "\n",
    "def splits(word):\n",
    "    \"Возвращает список всех возможных разбиений слова на пару (a, b).\"\n",
    "    return [(word[:i], word[i:]) \n",
    "            for i in range(len(word)+1)]\n",
    "\n",
    "alphabet = 'abcdefghijklmnopqrstuvwxyz'"
   ]
  },
  {
   "cell_type": "code",
   "execution_count": 17,
   "id": "b253d1bf",
   "metadata": {},
   "outputs": [
    {
     "data": {
      "text/plain": [
       "[('', 'wird'), ('w', 'ird'), ('wi', 'rd'), ('wir', 'd'), ('wird', '')]"
      ]
     },
     "execution_count": 17,
     "metadata": {},
     "output_type": "execute_result"
    }
   ],
   "source": [
    "splits('wird')"
   ]
  },
  {
   "cell_type": "code",
   "execution_count": 18,
   "id": "62535688",
   "metadata": {},
   "outputs": [
    {
     "name": "stdout",
     "output_type": "stream",
     "text": [
      "{'wird'}\n"
     ]
    }
   ],
   "source": [
    "print(edits0('wird'))"
   ]
  },
  {
   "cell_type": "code",
   "execution_count": 19,
   "id": "c18e15b4",
   "metadata": {},
   "outputs": [
    {
     "name": "stdout",
     "output_type": "stream",
     "text": [
      "{'wizrd', 'wiad', 'mwird', 'wirdd', 'wuird', 'wqrd', 'wcrd', 'wrd', 'wirx', 'dird', 'wjird', 'wiyd', 'wiard', 'widr', 'wzrd', 'wiro', 'ewird', 'awird', 'wisd', 'uwird', 'wirb', 'wirdo', 'wirpd', 'oird', 'widrd', 'wirdt', 'wiurd', 'wimd', 'wirdb', 'wjrd', 'wirw', 'wzird', 'kwird', 'wfird', 'wiryd', 'pird', 'wiord', 'wirv', 'aird', 'wirz', 'winrd', 'wild', 'wirl', 'wirvd', 'wicrd', 'wirdf', 'vwird', 'wiru', 'wvird', 'wiod', 'wimrd', 'wirdk', 'waird', 'yird', 'wijrd', 'wirdu', 'hwird', 'wirdz', 'rwird', 'wurd', 'ywird', 'wirod', 'wibd', 'wirp', 'wifrd', 'iwrd', 'twird', 'woird', 'wiwd', 'wiprd', 'wirf', 'wirxd', 'wrrd', 'wsrd', 'wiri', 'wirdr', 'wirt', 'wilrd', 'wira', 'wirnd', 'mird', 'wkird', 'wirs', 'wibrd', 'wirdx', 'wirm', 'gwird', 'wirr', 'wirrd', 'wirgd', 'wiry', 'wpird', 'wfrd', 'wire', 'wigrd', 'wiud', 'eird', 'zird', 'lird', 'sird', 'wipd', 'witd', 'wdird', 'weird', 'wirdm', 'wmird', 'wiird', 'wwrd', 'wird', 'xwird', 'ird', 'widd', 'ward', 'fwird', 'wxrd', 'lwird', 'wyird', 'wirg', 'wirwd', 'wkrd', 'tird', 'wirdj', 'wid', 'wiqd', 'wirk', 'jwird', 'iwird', 'wind', 'wirdl', 'nwird', 'wirbd', 'pwird', 'wgrd', 'wqird', 'wivd', 'wirqd', 'fird', 'wprd', 'wirkd', 'iird', 'zwird', 'wirdw', 'kird', 'wbird', 'wirud', 'wizd', 'wsird', 'hird', 'wwird', 'wyrd', 'wirdg', 'wirid', 'nird', 'vird', 'wirc', 'wihd', 'qwird', 'wirjd', 'wcird', 'wrid', 'bird', 'wtrd', 'wbrd', 'wvrd', 'dwird', 'wirtd', 'wiyrd', 'word', 'wgird', 'qird', 'wifd', 'cwird', 'wigd', 'wirdi', 'wrird', 'wirdn', 'swird', 'wirq', 'wirdq', 'wlrd', 'wihrd', 'jird', 'rird', 'wmrd', 'wircd', 'wtird', 'wivrd', 'wixrd', 'wirad', 'wikrd', 'wicd', 'wikd', 'gird', 'wdrd', 'owird', 'xird', 'wiwrd', 'wirh', 'cird', 'wirj', 'wirn', 'wirld', 'wnrd', 'uird', 'wisrd', 'whrd', 'witrd', 'wied', 'wirzd', 'wixd', 'wirdy', 'wir', 'wierd', 'wired', 'wirhd', 'wnird', 'wlird', 'wiid', 'wiqrd', 'wirda', 'wirmd', 'wirdv', 'wxird', 'wirfd', 'whird', 'wirds', 'werd', 'wijd', 'wirdc', 'wirde', 'wirsd', 'wirdh', 'wirdp', 'bwird'}\n"
     ]
    }
   ],
   "source": [
    "print(edits1('wird'))"
   ]
  },
  {
   "cell_type": "code",
   "execution_count": 20,
   "id": "a5a263a4",
   "metadata": {},
   "outputs": [
    {
     "name": "stdout",
     "output_type": "stream",
     "text": [
      "24254\n"
     ]
    }
   ],
   "source": [
    "print(len(edits2('wird')))"
   ]
  },
  {
   "cell_type": "code",
   "execution_count": 21,
   "id": "00813c66",
   "metadata": {},
   "outputs": [
    {
     "data": {
      "text/plain": [
       "['speling',\n",
       " 'errurs',\n",
       " 'in',\n",
       " 'somethink',\n",
       " 'whutever',\n",
       " 'unusuel',\n",
       " 'misteakes',\n",
       " 'everyware']"
      ]
     },
     "execution_count": 21,
     "metadata": {},
     "output_type": "execute_result"
    }
   ],
   "source": [
    "tokens('Speling errurs in somethink. Whutever; unusuel misteakes everyware?')"
   ]
  },
  {
   "cell_type": "code",
   "execution_count": 22,
   "id": "7a3be0b4",
   "metadata": {},
   "outputs": [
    {
     "data": {
      "text/plain": [
       "['spelling',\n",
       " 'errors',\n",
       " 'in',\n",
       " 'something',\n",
       " 'whatever',\n",
       " 'unusual',\n",
       " 'mistakes',\n",
       " 'everywhere']"
      ]
     },
     "execution_count": 22,
     "metadata": {},
     "output_type": "execute_result"
    }
   ],
   "source": [
    "list(map(correct, tokens('Speling errurs in somethink. Whutever; unusuel misteakes everyware?')))"
   ]
  },
  {
   "cell_type": "markdown",
   "id": "4f4109b8",
   "metadata": {},
   "source": [
    "\n",
    "\n",
    "Можно ли сделать выходные данные покрасивее?\n"
   ]
  },
  {
   "cell_type": "code",
   "execution_count": 23,
   "id": "29e0e1d0",
   "metadata": {},
   "outputs": [],
   "source": [
    "def correct_text(text):\n",
    "    \"Исправить все слова с опечатками в тексте.\"\n",
    "    return re.sub('[a-zA-Z]+', correct_match, text)\n",
    "\n",
    "def correct_match(match):\n",
    "    \"Исправить слово word в match-группе, сохранив регистр: upper/lower/title.\"\n",
    "    word = match.group()\n",
    "    return case_of(word)(correct(word.lower()))\n",
    "\n",
    "def case_of(text):\n",
    "    \"Возвращает функцию регистра по тексту: upper, lower, title, или str.\"\n",
    "    return (str.upper if text.isupper() else\n",
    "            str.lower if text.islower() else\n",
    "            str.title if text.istitle() else\n",
    "            str)"
   ]
  },
  {
   "cell_type": "code",
   "execution_count": 24,
   "id": "3b9be2ce",
   "metadata": {},
   "outputs": [
    {
     "data": {
      "text/plain": [
       "'fhgwdjksa'"
      ]
     },
     "execution_count": 24,
     "metadata": {},
     "output_type": "execute_result"
    }
   ],
   "source": [
    "str('fhgwdjksa')"
   ]
  },
  {
   "cell_type": "code",
   "execution_count": 25,
   "id": "38b87e76",
   "metadata": {},
   "outputs": [
    {
     "data": {
      "text/plain": [
       "[<method 'upper' of 'str' objects>,\n",
       " <method 'lower' of 'str' objects>,\n",
       " <method 'title' of 'str' objects>,\n",
       " str]"
      ]
     },
     "execution_count": 25,
     "metadata": {},
     "output_type": "execute_result"
    }
   ],
   "source": [
    "list(map(case_of, ['UPPER', 'lower', 'Title', 'CamelCase']))"
   ]
  },
  {
   "cell_type": "code",
   "execution_count": 26,
   "id": "1d2a0855",
   "metadata": {},
   "outputs": [
    {
     "data": {
      "text/plain": [
       "'Spelling Errors IN something. Whatever; unusual mistakes?'"
      ]
     },
     "execution_count": 26,
     "metadata": {},
     "output_type": "execute_result"
    }
   ],
   "source": [
    "correct_text('Speling Errurs IN somethink. Whutever; unusuel misteakes?')"
   ]
  },
  {
   "cell_type": "code",
   "execution_count": 27,
   "id": "a8e51a28",
   "metadata": {},
   "outputs": [
    {
     "data": {
      "text/plain": [
       "'Audience says: tumbler ...'"
      ]
     },
     "execution_count": 27,
     "metadata": {},
     "output_type": "execute_result"
    }
   ],
   "source": [
    "correct_text('Audiance sayzs: tumblr ...')"
   ]
  },
  {
   "cell_type": "markdown",
   "id": "17b1b4ed",
   "metadata": {},
   "source": [
    "Уже неплохо. Возможно вы уже придумали десяток способов сделать все это получше. Я предложу один: например в тексте \"three, too, one, blastoff!\" вместо \"too\" явно нужно подставить \"two\", несмотря на то что слово \"too\" имеется в нашем словаре. Мы могли бы улучшить результат, приняв во внимание последовательность слов, а не только отдельные слова. Ну и как же мы будем выбирать скорректированные слова тогда, спросите вы? Ad-hoc подход неплохо сработал для отдельных слов, давайте поддадим немного теории.\n",
    "\n",
    "# (4) Теория: От счетчика слов к вероятностям последовательностей слов\n",
    "\n",
    "Нам нужно научиться подсчитывать вероятности слов,\n",
    ". Делать мы это будем с помощью функции pdist, которая на вход принимает Counter (наш мешок слов) и возвращает функцию, выполняющую роль вероятностного распределения на множестве всех возможных слов. В вероятностном распределении вероятность каждого слова лежит между 0 и 1, и сложение вероятностей всех слов дает 1."
   ]
  },
  {
   "cell_type": "code",
   "execution_count": 28,
   "id": "7284c8e5",
   "metadata": {},
   "outputs": [],
   "source": [
    "def pdist(counter):\n",
    "    \"Превращает частоты из Counter в вероятностное распределение.\"\n",
    "    N = sum(list(counter.values()))\n",
    "    return lambda x: counter[x]/N\n",
    "\n",
    "P = pdist(COUNTS)"
   ]
  },
  {
   "cell_type": "code",
   "execution_count": 29,
   "id": "1592ad82",
   "metadata": {},
   "outputs": [
    {
     "name": "stdout",
     "output_type": "stream",
     "text": [
      "0.07240666434449033 the\n",
      "0.008842968103249388 is\n",
      "0.07240666434449033 the\n",
      "0.0008215075749693518 most\n",
      "0.0002596615352601365 common\n",
      "0.0002696137195383996 word\n",
      "0.019949605757790978 in\n",
      "0.00019090098933759167 english\n"
     ]
    }
   ],
   "source": [
    "for w in tokens('\"The\" is the most common word in English'):\n",
    "    print(P(w), w)"
   ]
  },
  {
   "cell_type": "markdown",
   "id": "d35a2858",
   "metadata": {},
   "source": [
    "Итак, что же такое вероятность последовательности слов? Используем определение совместной вероятности:\n",
    "\n",
    "Модель мешка слов подразумевает, что каждое слово из мешка достается независимо от других. Это дает нам неправильную упрощенную аппроксимацию:\n",
    "\n",
    "Известный статистик Джордж Бокс сказал Все модели неверны, но некоторые полезны.\n",
    "\n",
    "Как же нам посчитать\n",
    "\n",
    "? Мы будем использовать другое название, чтобы не обманывать себя, Pwords вместо P, и посчитаем ее как произведение индивидуальных вероятностей:\n",
    "\n"
   ]
  },
  {
   "cell_type": "code",
   "execution_count": 30,
   "id": "59ee1e4c",
   "metadata": {},
   "outputs": [],
   "source": [
    "def Pwords(words):\n",
    "    \"Вероятности слов, при условии, что они независимы.\"\n",
    "    return product(P(w) for w in words)\n",
    "\n",
    "def product(nums):\n",
    "    \"Перемножим числа.  (Это как `sum`, только с умножением.)\"\n",
    "    result = 1\n",
    "    for x in nums:\n",
    "        result *= x\n",
    "    return result"
   ]
  },
  {
   "cell_type": "code",
   "execution_count": 31,
   "id": "75593b8f",
   "metadata": {},
   "outputs": [
    {
     "name": "stdout",
     "output_type": "stream",
     "text": [
      "2.983396332800731e-11 this is a test\n",
      "8.637472023018802e-16 this is a unusual test\n",
      "0.0 this is a neverbeforeseen test\n"
     ]
    }
   ],
   "source": [
    "tests = ['this is a test', \n",
    "         'this is a unusual test',\n",
    "         'this is a neverbeforeseen test']\n",
    "\n",
    "for test in tests:\n",
    "    print(Pwords(tokens(test)), test)"
   ]
  },
  {
   "cell_type": "markdown",
   "id": "00abcbc2",
   "metadata": {},
   "source": [
    "\n",
    "\n",
    "ВОУ—кажется, присвоить последнюю вероятность 0, неправильно; Она просто должна быть маленькой. К этому вернемся попозже. Ну а другие вероятности кажутся +- адекватными.\n",
    "(5) Задача: Разбиение слов на сегменты\n",
    "\n",
    "Задача: *Разбить полученную последовательность символов без пробелов на последовательность слов\n",
    "\n",
    "Зачем? Есть языки, в которых пробелов нет: 不带空格的词\n",
    "\n",
    "В английском тоже есть ситуации, когда слова пишутся слитно (по ошибке или нет) (spelling errors https://www.google.com/search?q=wordstogether, URLs http://speedofart.com/).\n",
    "\n",
    "Подход 1: Перенумеруем все возможные разбиения и выберем то, у которого максимальная Pwords\n",
    "\n",
    "Вопрос: Как выбрать количество сегментов для строки длины n?\n",
    "\n",
    "Подход 2: Делаем одно разбиение - на первое слово и все остальное. Если предположить, что слова независимы, можно максимизировать вероятность первого слова + лучшего разбиения оставшихся букв.\n",
    "\n",
    "assert segment('choosespain') == ['choose', 'spain']\n",
    "\n",
    "segment('choosespain') ==\n",
    "   max(Pwords(['c'] + segment('hoosespain')),\n",
    "       Pwords(['ch'] + segment('oosespain')),\n",
    "       Pwords(['cho'] + segment('osespain')),\n",
    "       Pwords(['choo'] + segment('sespain')),\n",
    "       ...\n",
    "       Pwords(['choosespain'] + segment('')))\n",
    "\n",
    "\n",
    "\n",
    "Чтобы сделать это хоть сколько-нибудь эффективным, нужно избежать слишком большого числа пересчетов оставшейся части слова. Это можно сделать или с помощью динамического программирования - https://habr.com/ru/post/113108/ или с помощью мемоизации https://ru.wikipedia.org/wiki/%D0%9C%D0%B5%D0%BC%D0%BE%D0%B8%D0%B7%D0%B0%D1%86%D0%B8%D1%8F aka кэширования. Кроме того, для первого слова не обязательно брать все возможные варианты разбиений - мы можем установить максимальную длину. Какой она должна быть? Чуть большей, чем длина самого длинного слова, которое мы видели.\n"
   ]
  },
  {
   "cell_type": "code",
   "execution_count": 32,
   "id": "4ee34066",
   "metadata": {},
   "outputs": [],
   "source": [
    "def memo(f):\n",
    "    \"Запомнить результаты исполнения функции f, чьи аргументы args должны быть хешируемыми.\"\n",
    "    cache = {}\n",
    "    def fmemo(*args):\n",
    "        if args not in cache:\n",
    "            cache[args] = f(*args)\n",
    "        return cache[args]\n",
    "    fmemo.cache = cache\n",
    "    return fmemo"
   ]
  },
  {
   "cell_type": "markdown",
   "id": "40bfd9ec",
   "metadata": {},
   "source": [
    "Переиспользование предыдущих результатов - очень интересная штука, рекомендую заглянуть сюда\n",
    "https://habr.com/ru/post/335866/"
   ]
  },
  {
   "cell_type": "code",
   "execution_count": 33,
   "id": "56a591e5",
   "metadata": {},
   "outputs": [
    {
     "data": {
      "text/plain": [
       "18"
      ]
     },
     "execution_count": 33,
     "metadata": {},
     "output_type": "execute_result"
    }
   ],
   "source": [
    "\n",
    "\n",
    "max(len(w) for w in COUNTS)\n",
    "\n"
   ]
  },
  {
   "cell_type": "code",
   "execution_count": 34,
   "id": "b47f4b4b",
   "metadata": {},
   "outputs": [],
   "source": [
    "def splits(text, start=0, L=20):\n",
    "    \"Вернуть список всех пар (a, b); start <= len(a) <= L.\"\n",
    "    return [(text[:i], text[i:]) \n",
    "            for i in range(start, min(len(text), L)+1)]"
   ]
  },
  {
   "cell_type": "code",
   "execution_count": 35,
   "id": "b4916e6a",
   "metadata": {},
   "outputs": [
    {
     "name": "stdout",
     "output_type": "stream",
     "text": [
      "[('', 'word'), ('w', 'ord'), ('wo', 'rd'), ('wor', 'd'), ('word', '')]\n",
      "[('r', 'eallylongtext'), ('re', 'allylongtext'), ('rea', 'llylongtext'), ('real', 'lylongtext')]\n"
     ]
    }
   ],
   "source": [
    "print(splits('word'))\n",
    "print(splits('reallylongtext', 1, 4))"
   ]
  },
  {
   "cell_type": "code",
   "execution_count": 36,
   "id": "0c1cac34",
   "metadata": {},
   "outputs": [],
   "source": [
    "@memo\n",
    "def segment(text):\n",
    "    \"Вернуть список слов, который является наиболее вероятной сегментацией нашего текста.\"\n",
    "    if not text: \n",
    "        return []\n",
    "    else:\n",
    "        candidates = ([first] + segment(rest) \n",
    "                      for (first, rest) in splits(text, 1))\n",
    "        return max(candidates, key=Pwords)\n"
   ]
  },
  {
   "cell_type": "markdown",
   "id": "b7187984",
   "metadata": {},
   "source": [
    "Иллюстрацию того, что мемоизация - суперполезная штука, можно произвести на примере расчета чисел Фибоначчи. Если вы программист, они вам, наверняка, уже оскомину набили, но мы все равно на них посмотрим."
   ]
  },
  {
   "cell_type": "code",
   "execution_count": 37,
   "id": "aee6e5eb",
   "metadata": {},
   "outputs": [
    {
     "name": "stdout",
     "output_type": "stream",
     "text": [
      "fib(40) = 102334155\n",
      "0.0010135690099559724\n"
     ]
    }
   ],
   "source": [
    "import time\n",
    "@memo\n",
    "def fib(n):\n",
    "    if n < 2:\n",
    "        return n\n",
    "    return fib(n-2) + fib(n-1)\n",
    "\n",
    "# Какое число мы хотим посчитать\n",
    "x = 40\n",
    "\n",
    "t1 = time.perf_counter()\n",
    "print(f'fib({x}) =', fib(x))\n",
    "print(time.perf_counter() - t1)"
   ]
  },
  {
   "cell_type": "code",
   "execution_count": 38,
   "id": "11759a1c",
   "metadata": {},
   "outputs": [
    {
     "data": {
      "text/plain": [
       "['choose', 'spain']"
      ]
     },
     "execution_count": 38,
     "metadata": {},
     "output_type": "execute_result"
    }
   ],
   "source": [
    "segment('choosespain')"
   ]
  },
  {
   "cell_type": "code",
   "execution_count": 39,
   "id": "6162b9d2",
   "metadata": {},
   "outputs": [],
   "source": [
    "decl = ('wheninthecourseofhumaneventsitbecomesnecessaryforpeople' +\n",
    "        'todissolvethepoliticalbandswhichhaveconnectedthemwithoneanother' +\n",
    "        'andtoassumeamongthepowersoftheearththeseparateandequalstation' +\n",
    "        'towhichthelawsofnatureandofnaturesgodentitlethem')"
   ]
  },
  {
   "cell_type": "code",
   "execution_count": 40,
   "id": "27b514ed",
   "metadata": {},
   "outputs": [
    {
     "data": {
      "text/plain": [
       "3.6043381425711275e-141"
      ]
     },
     "execution_count": 40,
     "metadata": {},
     "output_type": "execute_result"
    }
   ],
   "source": [
    "Pwords(segment(decl))"
   ]
  },
  {
   "cell_type": "code",
   "execution_count": 41,
   "id": "144a529c",
   "metadata": {},
   "outputs": [
    {
     "data": {
      "text/plain": [
       "1.2991253445993085e-281"
      ]
     },
     "execution_count": 41,
     "metadata": {},
     "output_type": "execute_result"
    }
   ],
   "source": [
    "Pwords(segment(decl * 2))\n"
   ]
  },
  {
   "cell_type": "code",
   "execution_count": 42,
   "id": "0d62b4ac",
   "metadata": {},
   "outputs": [
    {
     "data": {
      "text/plain": [
       "0.0"
      ]
     },
     "execution_count": 42,
     "metadata": {},
     "output_type": "execute_result"
    }
   ],
   "source": [
    "\n",
    "\n",
    "Pwords(segment(decl * 3))\n",
    "\n"
   ]
  },
  {
   "cell_type": "markdown",
   "id": "7e3a02fc",
   "metadata": {},
   "source": [
    "Возникла проблема переполнения разрядности числа. Но вернемся мы к ней чуть попозже."
   ]
  },
  {
   "cell_type": "code",
   "execution_count": 44,
   "id": "21072bf3",
   "metadata": {},
   "outputs": [
    {
     "name": "stdout",
     "output_type": "stream",
     "text": [
      "4.111418791681202e-10\n",
      "1.0662753919897733e-11\n"
     ]
    }
   ],
   "source": [
    "print(Pwords(['large', 'and', 'insignificant']))\n",
    "print(Pwords(['large', 'and', 'in', 'significant']))"
   ]
  },
  {
   "cell_type": "markdown",
   "id": "8f78502c",
   "metadata": {},
   "source": [
    "\n",
    "\n",
    "Итого:\n",
    "\n",
    "    Выглядит недурно!\n",
    "    Предположение о мешке слов имеет ряд ограничений.\n",
    "    Пересчет Pwords на каждом вызове выглядит неэффективным.\n",
    "    Переполнение чисел возникает для текстов длинее +- 100 слов; придется использовать логарифмы или еще какие-то хитрости.\n",
    "\n",
    "(6) Теория и практика: Еще немного о динамическом программировании.\n",
    "Насколько дорого превращать одно слово в другое?\n",
    "\n",
    "Динамическое программирование позволяет разбить задачу на подзадачи, решив которые можно скомпоновать финальное решение. Мы будем пытаться превратить строку source[0..i] в строку target[0..j], мы сосчитаем все возможные комбинации подстрок substrings[i, j] и рассчитаем их edit_distance до нашей исходной. Мы будем сохранять результаты в таблицу и переиспользовать их для расчета дальнейших изменений.\n",
    "\n",
    "Необходимо создать матрицу такого вида:\n",
    "Инициализация\n",
    "Операциивкаждойячейке\n",
    "\n",
    "Таким образом, превратить слово play в слово stay при стоимости вставки 1, стоимости удаления 1, и стоимости замены 2 даст такую таблицу:\n",
    "\t# \ts \tt \ta \ty\n",
    "# \t0 \t1 \t2 \t3 \t4\n",
    "p \t1 \t2 \t3 \t4 \t5\n",
    "l \t2 \t3 \t4 \t5 \t6\n",
    "a \t3 \t4 \t5 \t4 \t5\n",
    "y \t4 \t5 \t6 \t5 \t4"
   ]
  },
  {
   "cell_type": "code",
   "execution_count": 45,
   "id": "bab7ba4a",
   "metadata": {},
   "outputs": [],
   "source": [
    "def min_edit_distance(source, target, ins_cost = 1, del_cost = 1, rep_cost = 2):\n",
    "    '''\n",
    "    Input: \n",
    "        source: строка-исходник\n",
    "        target: строка, в которую мы должны исходник превратить\n",
    "        ins_cost: цена вставки\n",
    "        del_cost: цена удаления\n",
    "        rep_cost: цена замены буквы\n",
    "    Output:\n",
    "        D: матрица размера len(source)+1 на len(target)+1 содержащая минимальные расстояния edit_distance\n",
    "        med: минимальное расстояние edit_distance (med), необходимое, \n",
    "        чтобы превратить строку source в строку target\n",
    "    '''\n",
    "    # стоимость удаления и вставки = 1\n",
    "    m = len(source)\n",
    "    n = len(target)\n",
    "\n",
    "    # Заткнем нашу матрицу нулями\n",
    "    D = np.zeros((m+1, n+1), dtype=int) \n",
    "    \n",
    "    # Заполним первую колонку\n",
    "    for row in range(1,m+1): \n",
    "        D[row,0] = D[row-1,0] + del_cost\n",
    "        \n",
    "    # Заполним первую строку\n",
    "    for col in range(1,n+1): \n",
    "        D[0,col] = D[0,col-1] + ins_cost\n",
    "        \n",
    "    # Теперь пойдем от 1 к m-той строке\n",
    "    for row in range(1,m+1): \n",
    "        \n",
    "        # итерируемся по колонкам от 1 до n\n",
    "        for col in range(1,n+1):\n",
    "            \n",
    "            # r_cost - стоимость замены\n",
    "            r_cost = rep_cost\n",
    "            \n",
    "            # Совпадает ли буква исходного слова из предыдущей строки\n",
    "            # с буквой целевого слова из предыдущей колонки, \n",
    "            if source[row-1] == target[col-1]:\n",
    "                # Если они не нужны, то замена не нужна -> стоимость = 0\n",
    "                r_cost = 0\n",
    "                \n",
    "            # Обновляем значение ячейки на базе предыдущих значений \n",
    "            # Считаем D[i,j] как минимум из трех возможных стоимостей (как в формуле выше)\n",
    "            D[row,col] = min([D[row-1,col]+del_cost, D[row,col-1]+ins_cost, D[row-1,col-1]+r_cost])\n",
    "          \n",
    "    # установить edit_distance в значение из правого нижнего угла\n",
    "    med = D[m,n]\n",
    "    \n",
    "\n",
    "    return D, med"
   ]
  },
  {
   "cell_type": "code",
   "execution_count": 46,
   "id": "f028d040",
   "metadata": {},
   "outputs": [
    {
     "name": "stdout",
     "output_type": "stream",
     "text": [
      "Расстояние:  4 \n",
      "\n",
      "   #  s  t  a  y\n",
      "#  0  1  2  3  4\n",
      "p  1  2  3  4  5\n",
      "l  2  3  4  5  6\n",
      "a  3  4  5  4  5\n",
      "y  4  5  6  5  4\n"
     ]
    }
   ],
   "source": [
    "import pandas as pd\n",
    "\n",
    "source =  'play'\n",
    "target = 'stay'\n",
    "matrix, min_edits = min_edit_distance(source, target)\n",
    "\n",
    "print(\"Расстояние: \",min_edits, \"\\n\")\n",
    "\n",
    "idx = list('#' + source)\n",
    "cols = list('#' + target)\n",
    "df = pd.DataFrame(matrix, index=idx, columns= cols)\n",
    "print(df)\n"
   ]
  },
  {
   "cell_type": "markdown",
   "id": "1af961a9",
   "metadata": {},
   "source": [
    "\n",
    "(7) Данные: Mo' Data, Mo' Better\n",
    "\n",
    "Нам мало миллионов слов в \"обучающей выборке\" давайте перейдем к МИЛЛИАРДАМ слов. Получив такой огромный объем информации, можно перейти к анализу пар последоваительных слов, не ожидая, что вероятности слишком часто будут обнуляться (представьте себе, сколько в языке может быть грамматически корректных сочетаний из двух слов). Мы вновь позаимствуем уже собранные данные у мистера Норвига. Лежат они на его сайте в формате \"word \\t count\" для отдельных слов и в формате \"word1 word2 \\t count\" для биграмм. Считаем их и упакуем в наши словари с вероятностями:\n"
   ]
  },
  {
   "cell_type": "code",
   "execution_count": 47,
   "id": "0ec9fa12",
   "metadata": {},
   "outputs": [],
   "source": [
    "\n",
    "\n",
    "def load_counts(text, sep='\\t'):\n",
    "    \"\"\"Возвращает Counter, полученный из пар ключ-значение,в каждой строке файла.\"\"\"\n",
    "    C = Counter()\n",
    "    for i in [l.split('\\t') for l in text.split('\\n')][:-1]:\n",
    "        key, count = i\n",
    "        C[key] = int(count)\n",
    "    return C\n",
    "\n"
   ]
  },
  {
   "cell_type": "code",
   "execution_count": 48,
   "id": "4245875e",
   "metadata": {},
   "outputs": [],
   "source": [
    "\n",
    "\n",
    "# для проверки кусков кода\n",
    "\n"
   ]
  },
  {
   "cell_type": "code",
   "execution_count": 49,
   "id": "b13026bc",
   "metadata": {},
   "outputs": [],
   "source": [
    "COUNTS1 = load_counts(requests.get('https://www.norvig.com/ngrams/count_1w.txt').text)\n",
    "COUNTS2 = load_counts(requests.get('https://www.norvig.com/ngrams/count_2w.txt').text)\n",
    "\n",
    "P1w = pdist(COUNTS1)\n",
    "P2w = pdist(COUNTS2)"
   ]
  },
  {
   "cell_type": "code",
   "execution_count": 50,
   "id": "5c2b4073",
   "metadata": {},
   "outputs": [
    {
     "name": "stdout",
     "output_type": "stream",
     "text": [
      "333333 588.124220187\n",
      "286358 225.955251755\n"
     ]
    }
   ],
   "source": [
    "print(len(COUNTS1), sum(list(COUNTS1.values()))/1e9)\n",
    "print(len(COUNTS2), sum(list(COUNTS2.values()))/1e9)"
   ]
  },
  {
   "cell_type": "markdown",
   "id": "587c0fd4",
   "metadata": {},
   "source": [
    "Ужас! Сотни миллиардов. Но мы справились."
   ]
  },
  {
   "cell_type": "code",
   "execution_count": 51,
   "id": "b7b5a85f",
   "metadata": {},
   "outputs": [
    {
     "data": {
      "text/plain": [
       "[('of the', 2766332391),\n",
       " ('in the', 1628795324),\n",
       " ('to the', 1139248999),\n",
       " ('on the', 800328815),\n",
       " ('for the', 692874802),\n",
       " ('and the', 629726893),\n",
       " ('to be', 505148997),\n",
       " ('is a', 476718990),\n",
       " ('with the', 461331348),\n",
       " ('from the', 428303219),\n",
       " ('by the', 417106045),\n",
       " ('at the', 416201497),\n",
       " ('of a', 387060526),\n",
       " ('in a', 364730082),\n",
       " ('will be', 356175009),\n",
       " ('that the', 333393891),\n",
       " ('do not', 326267941),\n",
       " ('is the', 306482559),\n",
       " ('to a', 279146624),\n",
       " ('is not', 276753375),\n",
       " ('for a', 274112498),\n",
       " ('with a', 271525283),\n",
       " ('as a', 270401798),\n",
       " ('<S> and', 261891475),\n",
       " ('of this', 258707741),\n",
       " ('<S> the', 258483382),\n",
       " ('it is', 245002494),\n",
       " ('can be', 230215143),\n",
       " ('If you', 210252670),\n",
       " ('has been', 196769958)]"
      ]
     },
     "execution_count": 51,
     "metadata": {},
     "output_type": "execute_result"
    }
   ],
   "source": [
    "COUNTS2.most_common(30)\n"
   ]
  },
  {
   "cell_type": "markdown",
   "id": "5147767f",
   "metadata": {},
   "source": [
    "(8) Теория и Практика: Сегментация с помощью биграмм\n",
    "\n",
    "Чуть менее неправильная аппроксимация:\n",
    "\n",
    "Эта штука называется биграммной моделью. Представьте, что вы взяли текст, достали из него все возможные пары подряд идущих слов и положили каждую пару в мешок, промаркированный ПЕРВЫМ словом из пары. После этого, чтобы сгенерировать кусок текста, мы берем первое слово из исходного мешка слов , а каждое следующее слово вынимаем из соответствующего мешка биграмм.\n",
    "\n",
    "Начнем с определения вероятности текущего слова при условии данного предыдущего слова из Counter:\n",
    "\n",
    "Отмечу, что для английского языка биграммная модель будет выглядеть так:\n",
    "\n",
    "условная вероятность слова при условии предыдущего слова определяется так:\n",
    "\n"
   ]
  },
  {
   "cell_type": "code",
   "execution_count": 52,
   "id": "811ea310",
   "metadata": {},
   "outputs": [],
   "source": [
    "def Pwords2(words, prev='<S>'):\n",
    "    \"Вероятность последовательности слов с помощью биграммной модели(при условии предыдущего слова).\"\n",
    "    return product(cPword(w, (prev if (i == 0) else words[i-1]) )\n",
    "                   for (i, w) in enumerate(words))\n",
    "\n",
    "# Перепишем Pwords на большой словарь P1w вместо Pword\n",
    "def Pwords(words):\n",
    "    \"Вероятности слов при условии их независимости.\"\n",
    "    return product(P1w(w) for w in words)\n",
    "\n",
    "def cPword(word, prev):\n",
    "    \"Условная вероятность слова при условии предыдущего.\"\n",
    "    bigram = prev + ' ' + word\n",
    "    if P2w(bigram) > 0 and P1w(prev) > 0:\n",
    "        return P2w(bigram) / P1w(prev)\n",
    "    else: # если что-то не встретилось, поставим среднее между P1w и 0\n",
    "        return P1w(word) / 2"
   ]
  },
  {
   "cell_type": "code",
   "execution_count": 53,
   "id": "a804d520",
   "metadata": {},
   "outputs": [
    {
     "name": "stdout",
     "output_type": "stream",
     "text": [
      "1.7873982000630825e-10\n",
      "6.413676294377262e-08\n",
      "1.1802860036709024e-11\n"
     ]
    }
   ],
   "source": [
    "\n",
    "\n",
    "print(Pwords(tokens('this is a test')))\n",
    "print(Pwords2(tokens('this is a test')))\n",
    "print(Pwords2(tokens('is test a this')))\n",
    "\n"
   ]
  },
  {
   "cell_type": "markdown",
   "id": "570cde28",
   "metadata": {},
   "source": [
    "Чтобы сделать segment2, скопируем segment, добавим в аргументы предыдущий токен, а вероятности будем считать с помощью Pwords2 вместо Pwords."
   ]
  },
  {
   "cell_type": "code",
   "execution_count": 54,
   "id": "c4eddb0e",
   "metadata": {},
   "outputs": [],
   "source": [
    "@memo \n",
    "def segment2(text, prev='<S>'): \n",
    "    \"Возвращает наилучшее разбиение текста, используя статистику биграмм.\" \n",
    "    if not text: \n",
    "        return []\n",
    "    else:\n",
    "        candidates = ([first] + segment2(rest, first) \n",
    "                      for (first, rest) in splits(text, 1))\n",
    "        return max(candidates, key=lambda words: Pwords2(words, prev))"
   ]
  },
  {
   "cell_type": "code",
   "execution_count": 55,
   "id": "d28be833",
   "metadata": {},
   "outputs": [
    {
     "name": "stdout",
     "output_type": "stream",
     "text": [
      "['choose', 'spain']\n",
      "['speed', 'of', 'art']\n",
      "['small', 'and', 'in', 'significant']\n",
      "['large', 'and', 'in', 'significant']\n"
     ]
    }
   ],
   "source": [
    "print(segment2('choosespain'))\n",
    "print(segment2('speedofart'))\n",
    "print(segment2('smallandinsignificant'))\n",
    "print(segment2('largeandinsignificant'))"
   ]
  },
  {
   "cell_type": "markdown",
   "id": "76d5bdbe",
   "metadata": {},
   "source": [
    "\n",
    "\n",
    "Кусочек из \"Автостопом по галактике\" Дугласа Адамса:\n"
   ]
  },
  {
   "cell_type": "code",
   "execution_count": 56,
   "id": "699f27cd",
   "metadata": {},
   "outputs": [
    {
     "name": "stdout",
     "output_type": "stream",
     "text": [
      "['far', 'out', 'in', 'the', 'uncharted', 'backwaters', 'of', 'the', 'unfashionable', 'end', 'of', 'the', 'western', 'spiral', 'arm', 'of', 'the', 'galaxy', 'lies', 'a', 'small', 'un', 'regarded', 'yellow', 'sun']\n",
      "['far', 'out', 'in', 'the', 'uncharted', 'backwaters', 'of', 'the', 'unfashionable', 'end', 'of', 'the', 'western', 'spiral', 'arm', 'of', 'the', 'galaxy', 'lies', 'a', 'small', 'un', 'regarded', 'yellow', 'sun']\n"
     ]
    }
   ],
   "source": [
    "adams = ('faroutintheunchartedbackwatersoftheunfashionableendofthewesternspiral' +\n",
    "         'armofthegalaxyliesasmallunregardedyellowsun')\n",
    "print(segment(adams))\n",
    "print(segment2(adams))"
   ]
  },
  {
   "cell_type": "code",
   "execution_count": 57,
   "id": "db44e83b",
   "metadata": {},
   "outputs": [
    {
     "data": {
      "text/plain": [
       "0.0"
      ]
     },
     "execution_count": 57,
     "metadata": {},
     "output_type": "execute_result"
    }
   ],
   "source": [
    "\n",
    "\n",
    "P1w('unregarded')\n",
    "\n"
   ]
  },
  {
   "cell_type": "code",
   "execution_count": 58,
   "id": "6c4bcbb9",
   "metadata": {},
   "outputs": [
    {
     "data": {
      "text/plain": [
       "'herecomeoldflattophecomegroovingupslowlyhegotjoojooeyeballheoneholyrollerhegothairdowntohiskneegottobeajokerhejustdowhatheplease'"
      ]
     },
     "execution_count": 58,
     "metadata": {},
     "output_type": "execute_result"
    }
   ],
   "source": [
    "beatles = \"\"\"Here come old flattop he come grooving up slowly \n",
    "          He got joo-joo eyeball he one holy roller \n",
    "          He got hair down to his knee \n",
    "          Got to be a joker he just do what he please\"\"\"\n",
    "beatles = ''.join(re.findall(r'[a-z]',beatles.lower()))\n",
    "beatles"
   ]
  },
  {
   "cell_type": "code",
   "execution_count": 59,
   "id": "29fec3a6",
   "metadata": {},
   "outputs": [
    {
     "name": "stdout",
     "output_type": "stream",
     "text": [
      "['a', 'dry', 'bare', 'sandy', 'hole', 'with', 'nothing', 'in', 'it', 'to', 'sitdown', 'on', 'or', 'to', 'eat']\n",
      "['a', 'dry', 'bare', 'sandy', 'hole', 'with', 'nothing', 'in', 'it', 'to', 'sit', 'down', 'on', 'or', 'to', 'eat']\n"
     ]
    }
   ],
   "source": [
    "tolkien = 'adrybaresandyholewithnothinginittositdownonortoeat'\n",
    "print(segment(tolkien))\n",
    "print(segment2(tolkien))"
   ]
  },
  {
   "cell_type": "code",
   "execution_count": 60,
   "id": "143ed09a",
   "metadata": {},
   "outputs": [
    {
     "name": "stdout",
     "output_type": "stream",
     "text": [
      "['here', 'come', 'old', 'flattop', 'he', 'come', 'grooving', 'up', 'slowly', 'he', 'got', 'joo', 'joo', 'eyeball', 'he', 'one', 'holy', 'roller', 'he', 'got', 'hair', 'down', 'to', 'his', 'knee', 'got', 'to', 'be', 'a', 'joker', 'he', 'just', 'do', 'what', 'he', 'please']\n",
      "['here', 'come', 'old', 'flattop', 'he', 'come', 'grooving', 'up', 'slowly', 'he', 'got', 'joo', 'joo', 'eyeball', 'he', 'one', 'holy', 'roller', 'he', 'got', 'hair', 'down', 'to', 'his', 'knee', 'got', 'to', 'be', 'a', 'joker', 'he', 'just', 'do', 'what', 'he', 'please']\n"
     ]
    }
   ],
   "source": [
    "print(segment(beatles))\n",
    "print(segment2(beatles))\n"
   ]
  },
  {
   "cell_type": "markdown",
   "id": "4407826d",
   "metadata": {},
   "source": [
    "\n",
    "\n",
    "Ну и что теперь? Биграммная модель вроде бы лучше, но не очень. Сотен миллиардов слов все равно может быть недостаточно. (Ну а почему бы не триллион слов?)\n",
    "(9) Теория: Валидация\n",
    "\n",
    "До настоящего момента мы пытались интуитивно оценить результаты нашей работы. Тем не менее, никаких численных оценок качества мы пока не получили. Важно понимать, что без четких метрик слова \"плохо\"/\"хорошо\" не имеют никакого смысла. Более того - мы даже не можем четко ответить, было ли наше обновление модели в лучшую сторону или худшую. Обычно при построении неких прогностических моделей данные разбиваются на три части:\n",
    "\n",
    "    Обучающая выборка: То, что мы использовали для создания модели исправления ошибок; У нас это был файл big.txt file.\n",
    "    Тестовая выборка: Набор данных, который можно использовать для оценки качества вашей модели по ходу разработки.\n",
    "    Валидационная выборка: Набор данных, который мы используем для оценки работы программы после того как программа готова. Тестовая выборка для этого быть использована не может—Стоит разработчику посмотреть на результаты на тестовой выборке, она уже \"испорчена\". В принципе, программист может изменить программу так, чтобы она \"подгонялась\" под тестовую выборку, а это будет \"переобучением\". Вот почему нам нужен отдельный набор тестов, который рассматривается только после завершения разработки.. \n",
    "\n",
    "Для нашей программы обучающая выборка - словарь с частотами слов, а тестовая выборка - набор примеров типа \"choosespain\", на которых мы отлаживались. Остается сделать валидационную выборку.\n"
   ]
  },
  {
   "cell_type": "code",
   "execution_count": 61,
   "id": "96e7c878",
   "metadata": {},
   "outputs": [],
   "source": [
    "def test_segmenter(segmenter, tests):\n",
    "    \"Оценка сегментатора на тестовых данных; вывести на печать ошибки; вернуть долю верно разбитого.\"\n",
    "    return sum([test_one_segment(segmenter, test) \n",
    "               for test in tests]), len(tests)\n",
    "\n",
    "def test_one_segment(segmenter, test):\n",
    "    words = tokens(test)\n",
    "    result = segmenter(''.join(words))\n",
    "    correct = (result == words)\n",
    "    if not correct:\n",
    "        print('expected', words)\n",
    "        print('got     ', result) \n",
    "    return correct\n",
    "\n",
    "proverbs = (\"\"\"A little knowledge is a dangerous thing\n",
    "  A man who is his own lawyer has a fool for his client\n",
    "  All work and no play makes Jack a dull boy\n",
    "  Better to remain silent and be thought a fool that to speak and remove all doubt;\n",
    "  Do unto others as you would have them do to you\n",
    "  Early to bed and early to rise, makes a man healthy, wealthy and wise\n",
    "  Fools rush in where angels fear to tread\n",
    "  Genius is one percent inspiration, ninety-nine percent perspiration\n",
    "  If you lie down with dogs, you will get up with fleas\n",
    "  Lightning never strikes twice in the same place\n",
    "  Power corrupts; absolute power corrupts absolutely\n",
    "  Here today, gone tomorrow\n",
    "  See no evil, hear no evil, speak no evil\n",
    "  Sticks and stones may break my bones, but words will never hurt me\n",
    "  Take care of the pence and the pounds will take care of themselves\n",
    "  Take care of the sense and the sounds will take care of themselves\n",
    "  The bigger they are, the harder they fall\n",
    "  The grass is always greener on the other side of the fence\n",
    "  The more things change, the more they stay the same\n",
    "  Those who do not learn from history are doomed to repeat it\"\"\"\n",
    "  .splitlines())"
   ]
  },
  {
   "cell_type": "code",
   "execution_count": 62,
   "id": "d5f74395",
   "metadata": {},
   "outputs": [
    {
     "name": "stdout",
     "output_type": "stream",
     "text": [
      "expected ['sticks', 'and', 'stones', 'may', 'break', 'my', 'bones', 'but', 'words', 'will', 'never', 'hurt', 'me']\n",
      "got      ['stick', 'sandstones', 'may', 'break', 'my', 'bones', 'but', 'words', 'will', 'never', 'hurt', 'me']\n"
     ]
    },
    {
     "data": {
      "text/plain": [
       "(19, 20)"
      ]
     },
     "execution_count": 62,
     "metadata": {},
     "output_type": "execute_result"
    }
   ],
   "source": [
    "test_segmenter(segment, proverbs)"
   ]
  },
  {
   "cell_type": "code",
   "execution_count": 63,
   "id": "2f161c5c",
   "metadata": {},
   "outputs": [
    {
     "data": {
      "text/plain": [
       "(20, 20)"
      ]
     },
     "execution_count": 63,
     "metadata": {},
     "output_type": "execute_result"
    }
   ],
   "source": [
    "test_segmenter(segment2, proverbs)"
   ]
  },
  {
   "cell_type": "markdown",
   "id": "4bfe5c88",
   "metadata": {},
   "source": [
    "\n",
    "\n",
    "Что ж, оба наших сегментатора неплохи, а segment2 показал себя лучше. Рекомендую сочинить еще тестов и подумать, как можно было бы оценить статистическую значимость.\n",
    "(10) Теория и Практика: Сглаживание\n",
    "\n",
    "Вернемся к нашему предыдущему тесту и добавим еще несколько случаев для проверки:\n"
   ]
  },
  {
   "cell_type": "code",
   "execution_count": 65,
   "id": "f5205927",
   "metadata": {},
   "outputs": [
    {
     "name": "stdout",
     "output_type": "stream",
     "text": [
      "1.7873982000630825e-10 this is a test\n",
      "3.7867542527781925e-15 this is a unusual test\n",
      "1.3117947423493677e-16 this is a nongovernmental test\n",
      "0.0 this is a neverbeforeseen test\n",
      "0.0 this is a zqbhjhsyefvvjqc test\n"
     ]
    }
   ],
   "source": [
    "tests = ['this is a test', \n",
    "         'this is a unusual test',\n",
    "         'this is a nongovernmental test',\n",
    "         'this is a neverbeforeseen test',\n",
    "         'this is a zqbhjhsyefvvjqc test']\n",
    "\n",
    "for test in tests:\n",
    "    print(Pwords(tokens(test)), test)"
   ]
  },
  {
   "cell_type": "markdown",
   "id": "b6081f1c",
   "metadata": {},
   "source": [
    "Проблема в том, что вероятность одного из слов - 0. Среди этих трех 15-букваенных слов, \"nongovernmental\" в нашем словаре есть, но если б его не было, вся вероятность бы обнулилась (мы же считаем произведение). Кажется, что это слишком строгое условие; Словарь не идеален и точно существуют реальные слова, которых мы не увидели. Давайте не будем все сразу обнулять. Например точно должна быть оценка вероятности того, что слово настоящее. Скажем, \"neverbeforeseen\" уж явно более английское чем \"zqbhjhsyefvvjqc\" и должно иметь бОльшую вероятность.\n",
    "\n",
    "Проблему можно побороть, присвоив таким \"не встретившимся\" словам ненулевую вероятность. Еще более важным этот пункт становится при переходе к токенам из нескольких слов (биграммам, например), потому что чем больше слов в токене, тем больше вероятность, что какой-то реальный токен в нашей обучающей выборке отсутствует.\n",
    "\n",
    "Нашу модель можно представить в виде забора вероятностей, где столбик равен вероятности слова/токена, которое/который в выборке было/был, и равен 0, если слова/токена в выборке не было; Мы хотим сгладить наше распределение вокруг этих пиков, чтобы модель давала какой-то ответ вне зависимости от наличия или отсутствия слова в корпусе. Этот процесс и называется сглаживанием.\n",
    "\n",
    "Место для анекдота про Лапласа\n",
    "\n",
    "Однажды французского математика Лапласа спросили: \"Какова вероятность того, что Солнце завтра взойдет?\". Из данных, что оно из\n",
    "ближайших дней взошло раз следует оценка максимального правдоподобия = 1. Но Лапласу хотелось чуть сбалансировать оценку на шанс того, что завтра Солнце может и не взойти, поэтому он дал оценку\n",
    "\n",
    ".\n",
    "\n",
    "Подробнее о задачке про Солнце тут https://en.wikipedia.org/wiki/Sunrise_problem\n",
    "\n",
    "о, что мы знаем, ограничено, а то, чего мы не знаем,-бесконечно\n",
    "— Пьер Симон Лаплас, 1749-1827"
   ]
  },
  {
   "cell_type": "code",
   "execution_count": 66,
   "id": "f4661154",
   "metadata": {},
   "outputs": [],
   "source": [
    "def pdist_additive_smoothed(counter, c=1):\n",
    "    \"\"\"Вероятность слова, при условии данных из Counter'a.\n",
    "    добавляем c к частоте каждого слова + слово 'unknown'.\"\"\"\n",
    "    N = sum(list(counter.values()))          # суммарное кол-во слов\n",
    "    Nplus = N + c * (len(counter) + 1) # кол-во слов + сглаживание\n",
    "    return lambda word: (counter[word] + c) / Nplus \n",
    "\n",
    "P1w = pdist_additive_smoothed(COUNTS1)"
   ]
  },
  {
   "cell_type": "markdown",
   "id": "2b73385d",
   "metadata": {},
   "source": [
    "\n",
    "\n",
    "Формулу Лапласовского сглаживания посмотреть можно тут https://en.wikipedia.org/wiki/Additive_smoothing\n"
   ]
  },
  {
   "cell_type": "code",
   "execution_count": 67,
   "id": "7d1889c9",
   "metadata": {},
   "outputs": [
    {
     "data": {
      "text/plain": [
       "1.7003201005861308e-12"
      ]
     },
     "execution_count": 67,
     "metadata": {},
     "output_type": "execute_result"
    }
   ],
   "source": [
    "P1w('neverbeforeseen')"
   ]
  },
  {
   "cell_type": "markdown",
   "id": "3c51bc40",
   "metadata": {},
   "source": [
    "\n",
    "\n",
    "Теперь еще одна проблема ... у нас появились незнакомые слова с ненулевой вероятностью. А что если 10-12 - приемлемая вероятность для слов нашего текста: то есть, если я читаю новый текст, вероятность того, что следующее слово мне незнакомо, может быть порядка 10-12. Но если я случайно генерирую 20-буквенный последовательности, вероятность того, что одна из них будет реальным словом намного меньше чем 10-12.\n",
    "\n",
    "Смотрите, что происходит:\n"
   ]
  },
  {
   "cell_type": "code",
   "execution_count": 68,
   "id": "79d349c7",
   "metadata": {},
   "outputs": [
    {
     "data": {
      "text/plain": [
       "['thisisatestofsegment', 'ationofalongsequence', 'of', 'words']"
      ]
     },
     "execution_count": 68,
     "metadata": {},
     "output_type": "execute_result"
    }
   ],
   "source": [
    "segment('thisisatestofsegmentationofalongsequenceofwords')"
   ]
  },
  {
   "cell_type": "markdown",
   "id": "01ed0063",
   "metadata": {},
   "source": [
    "У нас две проблемы:\n",
    "\n",
    "Во-первых, у нас нет четкой модели для неизвестных слов. Мы говорим \"неизвестное слово\", но не различаем более вероятные неизвестные слова и менее вероятные неизвестные слова. Ну, например, вероятнее ли 8-буквенное неизвестное слово чем 20-буквенное неизвестное слово?\n",
    "\n",
    "Во-вторых, мы не берем в расчет информацию из частей неизвестных слов. Например, \"unglobulate\" явно должно быть более вероятным чем \"zxfkogultae\".\n",
    "\n",
    "Для нашего следующего подхода мы используем идеи метода Гуда - Тьюринга.https://en.wikipedia.org/wiki/Good%E2%80%93Turing_frequency_estimation Он оценивает вероятности слов, не встретившихся в нашем Counter'е, на основании вероятностей слов, встретившихся единожды (Можно туда же подключить вероятности для встретившихся 2 раза и т.д.)."
   ]
  },
  {
   "cell_type": "markdown",
   "id": "b860e401",
   "metadata": {},
   "source": [
    "Ирвинг Джон Гуд (1916 - 2009)             Алан Тьюринг (1812 - 1954)\n",
    "\n",
    "Итак, сколько слов встретилось 1 раз в COUNTS? (В COUNTS1 ни одного такого слова нет.) И какие длины у этих слов? Давайте посмотрим:"
   ]
  },
  {
   "cell_type": "code",
   "execution_count": 69,
   "id": "2977d5fb",
   "metadata": {},
   "outputs": [
    {
     "data": {
      "text/plain": [
       "[(7, 1357),\n",
       " (8, 1356),\n",
       " (9, 1175),\n",
       " (6, 1113),\n",
       " (10, 938),\n",
       " (5, 747),\n",
       " (11, 627),\n",
       " (12, 398),\n",
       " (4, 368),\n",
       " (13, 215),\n",
       " (3, 159),\n",
       " (14, 112),\n",
       " (2, 51),\n",
       " (15, 37),\n",
       " (16, 10),\n",
       " (17, 7)]"
      ]
     },
     "execution_count": 69,
     "metadata": {},
     "output_type": "execute_result"
    }
   ],
   "source": [
    "singletons = (w for w in COUNTS if COUNTS[w] == 1)\n",
    "lengths = list(map(len, singletons))\n",
    "Counter(lengths).most_common()"
   ]
  },
  {
   "cell_type": "code",
   "execution_count": 70,
   "id": "8b792a67",
   "metadata": {},
   "outputs": [
    {
     "data": {
      "image/png": "[encoded data removed]",
      "text/plain": [
       "<Figure size 432x288 with 1 Axes>"
      ]
     },
     "metadata": {
      "needs_background": "light"
     },
     "output_type": "display_data"
    }
   ],
   "source": [
    "\n",
    "\n",
    "hist(lengths, bins=len(set(lengths)));\n",
    "\n"
   ]
  },
  {
   "cell_type": "markdown",
   "id": "a4edf55c",
   "metadata": {},
   "source": [
    "\n",
    "\n",
    "Длины таких слов распределены похоже на нормальное распределение :)\n"
   ]
  },
  {
   "cell_type": "code",
   "execution_count": 72,
   "id": "78e5c24c",
   "metadata": {},
   "outputs": [],
   "source": [
    "def pdist_good_turing_hack(counter, onecounter, base=1/26., prior=1e-8):\n",
    "    \"\"\"Вероятность слова при условии данных из счетчика.\n",
    "    Для неизвестных слов, смотрим на слова, встретившиеся единожды из onecounter, \n",
    "    вероятность выбираем, основываясь на длине.\n",
    "    Воспользуемся идеей метода Гуда-Тьюринга(полностью мы его здесь не реализуем).\n",
    "    prior -добавочный фактор, который сделает неизвестные слова менее вероятными.\n",
    "    base -то, насколько мы уменьшаем вероятность за длину слова больше максимального.\"\"\"\n",
    "    N = sum(list(counter.values()))\n",
    "    N2 = sum(list(onecounter.values()))\n",
    "    lengths = list(map(len, [w for w in onecounter if onecounter[w] == 1]))\n",
    "    ones = Counter(lengths)\n",
    "    longest = max(ones)\n",
    "    return (lambda word: \n",
    "            counter[word] / N if (word in counter) \n",
    "            else prior * (ones[len(word)] / N2 or \n",
    "                          ones[longest] / N2 * base ** (len(word)-longest)))\n",
    "#Переопределим P1w\n",
    "P1w = pdist_good_turing_hack(COUNTS1, COUNTS)"
   ]
  },
  {
   "cell_type": "code",
   "execution_count": 73,
   "id": "fc319722",
   "metadata": {},
   "outputs": [
    {
     "data": {
      "text/plain": [
       "['this',\n",
       " 'is',\n",
       " 'a',\n",
       " 'test',\n",
       " 'of',\n",
       " 'segmentation',\n",
       " 'of',\n",
       " 'a',\n",
       " 'very',\n",
       " 'long',\n",
       " 'sequence',\n",
       " 'of',\n",
       " 'words']"
      ]
     },
     "execution_count": 73,
     "metadata": {},
     "output_type": "execute_result"
    }
   ],
   "source": [
    "segment.cache.clear()\n",
    "segment('thisisatestofsegmentationofaverylongsequenceofwords')\n"
   ]
  },
  {
   "cell_type": "markdown",
   "id": "f658c290",
   "metadata": {},
   "source": [
    "\n",
    "(11) Задача: Что если слово находится очень далеко по edit_distance, но звучит точно так же?\n",
    "\n",
    "Часто можно встретить ошибки в текстах, вызванные неграмотным написанием слов. Особенно часто это происходит в случае иностранных фамилий или транслитерированной терминологии. Обычно в таких случаях в пример приводят написание фамилии\n",
    "\n",
    "Schwartzenegger\n",
    "\n",
    "в виде:\n",
    "\n",
    "Shwarzenegger, Shwortsinneger, schwartzineger ... und so weiter\n",
    "\n",
    "Для такого случая можно использовать следующую методологию. Давайте привлечем лингвистов и составим правила, которые одинаково звучащим словам будут ставить в соответствие один и тот же код. Допустим, с помощью лингвистов мы такой алгоритм придумали. Тогда дальнейшие наши действия таковы:\n",
    "\n",
    "1) Сделать словарь с вероятностями слов (как мы делали из мешка слов)\n",
    "\n",
    "2) Сделать словарь соответствий код слова -> слово (с помощью того самого алгоритма от лингвистов). \n",
    "    Если есть в списке есть слова с одинаковым кодом, выбирать будем наиболее частое слово.\n",
    "\n",
    "3) Сделаем аналогичный edit_distance алгоритм на множестве кодов слов\n",
    "\n",
    "4) Найдя соответствующую замену для слова в виде его кода, восстановим слово с помощью словаря из пункта 2\n",
    "\n",
    "Алгоритм, про который мы поговорим, называется Double Metaphone. Примеры есть тут. Перейдем к делу, посмотрим, как это работает.\n",
    "\n"
   ]
  },
  {
   "cell_type": "code",
   "execution_count": 75,
   "id": "1d0e3ca3",
   "metadata": {},
   "outputs": [],
   "source": [
    "from metaphone import doublemetaphone"
   ]
  },
  {
   "cell_type": "markdown",
   "id": "fb5309b1",
   "metadata": {},
   "source": [
    "\n",
    "\n",
    "Алгоритм возвращает кортеж из двух возможных фонетических кодов слова. Правило такое:\n",
    "\n",
    "# (Primary Key = Primary Key) = Идеальное совпадение\n",
    "# (Secondary Key = Primary Key) = Совпадение\n",
    "# (Primary Key = Secondary Key) = Совпадение\n",
    "# (Alternate Key = Alternate Key) = Совпадение +-\n",
    "\n",
    "Идельное совпадение\n"
   ]
  },
  {
   "cell_type": "code",
   "execution_count": 76,
   "id": "cc012e4e",
   "metadata": {},
   "outputs": [
    {
     "name": "stdout",
     "output_type": "stream",
     "text": [
      "('KN0RKRS', 'KNTRKRS')\n",
      "('KN0RKRS', 'KNTRKRS')\n"
     ]
    }
   ],
   "source": [
    "print(doublemetaphone(\"Günther Graß\"))\n",
    "print(doublemetaphone(\"Günther Grass\"))"
   ]
  },
  {
   "cell_type": "code",
   "execution_count": 77,
   "id": "c9ac005d",
   "metadata": {},
   "outputs": [
    {
     "name": "stdout",
     "output_type": "stream",
     "text": [
      "('XRTSNKR', 'XFRTSNKR')\n",
      "('XRTSNJR', 'XRTSNKR')\n"
     ]
    }
   ],
   "source": [
    "print(doublemetaphone(\"schwartzenegger\"))\n",
    "print(doublemetaphone(\"shwortsineger\"))"
   ]
  },
  {
   "cell_type": "code",
   "execution_count": 78,
   "id": "ed344e7c",
   "metadata": {},
   "outputs": [
    {
     "name": "stdout",
     "output_type": "stream",
     "text": [
      "('SRKS', '')\n",
      "('SRKS', '')\n"
     ]
    }
   ],
   "source": [
    "\n",
    "\n",
    "print(doublemetaphone(\"xerox\"))\n",
    "print(doublemetaphone(\"zeeerux\"))\n",
    "\n"
   ]
  },
  {
   "cell_type": "markdown",
   "id": "30738e47",
   "metadata": {},
   "source": [
    "Полезные ссылки"
   ]
  },
  {
   "cell_type": "code",
   "execution_count": null,
   "id": "489aabc3",
   "metadata": {},
   "outputs": [],
   "source": []
  }
 ],
 "metadata": {
  "kernelspec": {
   "display_name": "Python 3.10.6 64-bit",
   "language": "python",
   "name": "python3"
  },
  "language_info": {
   "codemirror_mode": {
    "name": "ipython",
    "version": 3
   },
   "file_extension": ".py",
   "mimetype": "text/x-python",
   "name": "python",
   "nbconvert_exporter": "python",
   "pygments_lexer": "ipython3",
   "version": "3.10.6"
  },
  "vscode": {
   "interpreter": {
    "hash": "916dbcbb3f70747c44a77c7bcd40155683ae19c65e1c03b4aa3499c5328201f1"
   }
  }
 },
 "nbformat": 4,
 "nbformat_minor": 5
}
