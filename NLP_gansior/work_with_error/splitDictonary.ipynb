{
 "cells": [
  {
   "cell_type": "code",
   "execution_count": 1,
   "metadata": {},
   "outputs": [],
   "source": [
    "import re"
   ]
  },
  {
   "cell_type": "code",
   "execution_count": 9,
   "metadata": {},
   "outputs": [],
   "source": [
    "rulOne = re.compile(r\".\\n[А-Я]\")\n",
    "rulTwo = re.compile(r\"[А-Я]\")"
   ]
  },
  {
   "cell_type": "code",
   "execution_count": 8,
   "metadata": {},
   "outputs": [
    {
     "name": "stdout",
     "output_type": "stream",
     "text": [
      "БОЛИЦИОНИЗМ (от лат. abolitio - уничтожение, отмена) - в конце XVIII- XIX в. в США движение за отмену рабства негров; в Великобритании, Франции и ряде других стран - движение за отмену рабства в колониях\n"
     ]
    }
   ],
   "source": [
    "with open('/media/al/BigData/Projects_My/NLP-russian-language/NLP_gansior/work_with_error/datasets/big_ur_dic.txt', 'r') as i_f:\n",
    "    textDic = i_f.read()\n",
    "    listText = rulOne.split(textDic)\n",
    "    print(listText[4])"
   ]
  },
  {
   "cell_type": "code",
   "execution_count": 12,
   "metadata": {},
   "outputs": [
    {
     "ename": "TypeError",
     "evalue": "'NoneType' object is not subscriptable",
     "output_type": "error",
     "traceback": [
      "\u001b[0;31m---------------------------------------------------------------------------\u001b[0m",
      "\u001b[0;31mTypeError\u001b[0m                                 Traceback (most recent call last)",
      "\u001b[1;32m/media/al/BigData/Projects_My/NLP-russian-language/NLP_gansior/work_with_error/splitDictonary.ipynb Ячейка 4\u001b[0m in \u001b[0;36m<cell line: 2>\u001b[0;34m()\u001b[0m\n\u001b[1;32m      <a href='vscode-notebook-cell:/media/al/BigData/Projects_My/NLP-russian-language/NLP_gansior/work_with_error/splitDictonary.ipynb#W4sZmlsZQ%3D%3D?line=0'>1</a>\u001b[0m listText \u001b[39m=\u001b[39m re\u001b[39m.\u001b[39mmatch(\u001b[39mr\u001b[39m\u001b[39m\"\u001b[39m\u001b[39m[А-Я]\u001b[39m\u001b[39m\"\u001b[39m,textDic)\n\u001b[0;32m----> <a href='vscode-notebook-cell:/media/al/BigData/Projects_My/NLP-russian-language/NLP_gansior/work_with_error/splitDictonary.ipynb#W4sZmlsZQ%3D%3D?line=1'>2</a>\u001b[0m \u001b[39mprint\u001b[39m(listText[\u001b[39m4\u001b[39;49m])\n",
      "\u001b[0;31mTypeError\u001b[0m: 'NoneType' object is not subscriptable"
     ]
    }
   ],
   "source": [
    "listText = re.match(r\"[А-Я]\",textDic)\n",
    "print(listText[4])"
   ]
  }
 ],
 "metadata": {
  "kernelspec": {
   "display_name": "Python 3.10.6 64-bit",
   "language": "python",
   "name": "python3"
  },
  "language_info": {
   "codemirror_mode": {
    "name": "ipython",
    "version": 3
   },
   "file_extension": ".py",
   "mimetype": "text/x-python",
   "name": "python",
   "nbconvert_exporter": "python",
   "pygments_lexer": "ipython3",
   "version": "3.10.6"
  },
  "orig_nbformat": 4,
  "vscode": {
   "interpreter": {
    "hash": "916dbcbb3f70747c44a77c7bcd40155683ae19c65e1c03b4aa3499c5328201f1"
   }
  }
 },
 "nbformat": 4,
 "nbformat_minor": 2
}
