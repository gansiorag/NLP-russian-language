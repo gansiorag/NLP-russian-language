{
 "cells": [
  {
   "cell_type": "markdown",
   "id": "ebe1558d",
   "metadata": {},
   "source": [
    "# Auto spell checker with autocorrect, spellchecker"
   ]
  },
  {
   "cell_type": "code",
   "execution_count": 1,
   "id": "7ef3de6d",
   "metadata": {},
   "outputs": [],
   "source": [
    "names =['/home/al/Projects_My/recognition_text/work_with_text/new_word_clea_name_15_12_2021.csv',\n",
    "       '/home/al/Projects_My/recognition_text/new_word_3_01_2022.csv',\n",
    "       '/home/al/Projects_My/recognition_text/new_male_3_01_2022.csv',\n",
    "       '/home/al/Projects_My/recognition_text/new_famale_3_01_2022.csv']"
   ]
  },
  {
   "cell_type": "code",
   "execution_count": 3,
   "id": "fc783567",
   "metadata": {},
   "outputs": [],
   "source": [
    "# with librare autocorrect\n",
    "# pip3 install autocorrect\n",
    "from autocorrect import Speller\n",
    "spell = Speller(lang='ru')"
   ]
  },
  {
   "cell_type": "code",
   "execution_count": 4,
   "id": "6c24df2e",
   "metadata": {},
   "outputs": [
    {
     "name": "stdout",
     "output_type": "stream",
     "text": [
      "сложжно   ---->  сложно\n",
      "равработку   ---->  разработку\n",
      "потребсою   ---->  потребою\n",
      "прибыля   ---->  прибыль\n",
      "силоренко   ---->  силоренко\n",
      "облпотребсоюукраинской   ---->  облпотребсоюукраинской\n",
      "поголовьи   ---->  поголовье\n",
      "сонгайлайте   ---->  сонгайлайте\n",
      "кретингского   ---->  кретингского\n",
      "зверохозяйства   ---->  зверохозяйства\n"
     ]
    }
   ],
   "source": [
    "with open(names[0], 'r') as i_f:\n",
    "    k = 0\n",
    "    for line in i_f:\n",
    "        s_l = line.split('^')\n",
    "        print(s_l[0], '  ----> ', spell(s_l[0]))\n",
    "        k += 1\n",
    "        if k == 10: break"
   ]
  },
  {
   "cell_type": "code",
   "execution_count": 5,
   "id": "9efea792",
   "metadata": {},
   "outputs": [
    {
     "name": "stdout",
     "output_type": "stream",
     "text": [
      "сложжно   ---->  сложно\n",
      "равработку   ---->  разработка\n",
      "потребсою   ---->  потребсою\n",
      "прибыля   ---->  прибыл\n",
      "силоренко   ---->  силоренко\n",
      "облпотребсоюукраинской   ---->  облпотребсоюукраинской\n",
      "поголовьи   ---->  поголовьи\n",
      "сонгайлайте   ---->  сонгайлайте\n",
      "кретингского   ---->  кретингского\n",
      "зверохозяйства   ---->  зверохозяйства\n"
     ]
    }
   ],
   "source": [
    "# with librare spellchecker\n",
    "# pip3 install pyspellchecker\n",
    "\n",
    "from spellchecker import SpellChecker\n",
    "\n",
    "spell = SpellChecker(language='ru')\n",
    "\n",
    "# find those words that may be misspelled\n",
    "misspelled = spell.unknown(['something', 'is', 'hapenning', 'here'])\n",
    "with open(names[0], 'r') as i_f:\n",
    "    k = 0\n",
    "    for line in i_f:\n",
    "        s_l = line.split('^')\n",
    "        print(s_l[0], '  ----> ', spell.correction(s_l[0]))\n",
    "        k += 1\n",
    "        if k == 10: break"
   ]
  },
  {
   "cell_type": "code",
   "execution_count": 6,
   "id": "f863e776",
   "metadata": {},
   "outputs": [
    {
     "name": "stdout",
     "output_type": "stream",
     "text": [
      "сложжно   ---->  сложжно\n",
      "равработку   ---->  равработку\n",
      "потребсою   ---->  потребсою\n",
      "прибыля   ---->  прибыля\n",
      "силоренко   ---->  силоренко\n",
      "облпотребсоюукраинской   ---->  облпотребсоюукраинской\n",
      "поголовьи   ---->  поголовьи\n",
      "сонгайлайте   ---->  сонгайлайте\n",
      "кретингского   ---->  кретингского\n",
      "зверохозяйства   ---->  зверохозяйства\n"
     ]
    }
   ],
   "source": [
    "# with librare textblob\n",
    "# pip3 install textblob\n",
    "from textblob import TextBlob\n",
    "\n",
    "with open(names[0], 'r') as i_f:\n",
    "    k = 0\n",
    "    for line in i_f:\n",
    "        s_l = line.split('^')\n",
    "        print(s_l[0], '  ----> ', TextBlob(s_l[0]).correct())\n",
    "        k += 1\n",
    "        if k == 10: break"
   ]
  },
  {
   "cell_type": "code",
   "execution_count": 7,
   "id": "d7fe4c03",
   "metadata": {},
   "outputs": [
    {
     "name": "stdout",
     "output_type": "stream",
     "text": [
      "сложжно   ---->  сложно\n",
      "равработку   ---->  разработку\n",
      "потребсою   ---->  потребсоюз\n",
      "прибыля   ---->  прибылях\n",
      "силоренко   ---->  сидоренко\n",
      "облпотребсоюукраинской   ---->  облпотребсоюз украинской\n",
      "поголовьи   ---->  поголовье\n",
      "сонгайлайте   ---->  сонгайлайте\n",
      "кретингского   ---->  кретингского\n",
      "зверохозяйства   ---->  зверохозяйства\n"
     ]
    }
   ],
   "source": [
    "# with librare pyaspeller\n",
    "# pip3 install pyaspeller\n",
    "# this library make wish different library from Yandex, Word\n",
    "\n",
    "\n",
    "from pyaspeller import YandexSpeller\n",
    "speller = YandexSpeller()\n",
    "rez_file = open('yandex_err_word.csv', 'w')\n",
    "with open(names[0], 'r') as i_f:\n",
    "    k = 0\n",
    "    for line in i_f:\n",
    "        s_l = line.strip().split('^')\n",
    "        s_l.append(speller.spelled(s_l[0]))\n",
    "        rez_file.write('^'.join(s_l) + '\\n')\n",
    "        print(s_l[0], '  ----> ', speller.spelled(s_l[0]))\n",
    "        k += 1\n",
    "        if k == 10: break\n",
    "        "
   ]
  },
  {
   "cell_type": "code",
   "execution_count": 8,
   "id": "3a3ce2ed",
   "metadata": {},
   "outputs": [
    {
     "name": "stderr",
     "output_type": "stream",
     "text": [
      "/home/al/.local/lib/python3.8/site-packages/pyaspeller/word.py:17: UserWarning: Class Word is deprecated. Use Speller().spelled(text)\n",
      "  warnings.warn(\"Class Word is deprecated. Use Speller().spelled(text)\")\n"
     ]
    },
    {
     "name": "stdout",
     "output_type": "stream",
     "text": [
      "сложжно   ---->  сложно\n",
      "равработку   ---->  разработку\n",
      "потребсою   ---->  потребсоюз\n",
      "прибыля   ---->  прибылях\n",
      "силоренко   ---->  сидоренко\n",
      "облпотребсоюукраинской   ---->  облпотребсоюз украинской\n",
      "поголовьи   ---->  поголовье\n",
      "сонгайлайте   ---->  None\n",
      "кретингского   ---->  None\n",
      "зверохозяйства   ---->  None\n"
     ]
    }
   ],
   "source": [
    "from pyaspeller import Word\n",
    "with open(names[0], 'r') as i_f:\n",
    "    k = 0\n",
    "    for line in i_f:\n",
    "        s_l = line.split('^')\n",
    "        print(s_l[0], '  ----> ', Word(s_l[0]).spellsafe)\n",
    "        k += 1\n",
    "        if k == 10: break"
   ]
  },
  {
   "cell_type": "code",
   "execution_count": 9,
   "id": "25b8d7c5",
   "metadata": {},
   "outputs": [],
   "source": [
    "rez_file = open('yandex_err_male.csv', 'w')\n",
    "with open(names[2], 'r') as i_f:\n",
    "    k = 0\n",
    "    for line in i_f:\n",
    "        s_l = line.strip().split('^')\n",
    "        s_l.append(speller.spelled(s_l[0]))\n",
    "        rez_file.write('^'.join(s_l) + '\\n')\n",
    "#         print(s_l[0], '  ----> ', speller.spelled(s_l[0]))\n",
    "#         k += 1\n",
    "#         if k == 10: break\n",
    "rez_file.close()"
   ]
  },
  {
   "cell_type": "code",
   "execution_count": null,
   "id": "35549a86",
   "metadata": {},
   "outputs": [],
   "source": []
  }
 ],
 "metadata": {
  "kernelspec": {
   "display_name": "Python 3 (ipykernel)",
   "language": "python",
   "name": "python3"
  },
  "language_info": {
   "codemirror_mode": {
    "name": "ipython",
    "version": 3
   },
   "file_extension": ".py",
   "mimetype": "text/x-python",
   "name": "python",
   "nbconvert_exporter": "python",
   "pygments_lexer": "ipython3",
   "version": "3.8.10"
  }
 },
 "nbformat": 4,
 "nbformat_minor": 5
}
