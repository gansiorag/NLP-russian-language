{
 "cells": [
  {
   "cell_type": "markdown",
   "id": "06b348ff",
   "metadata": {
    "toc": true
   },
   "source": [
    "<h1>Table of Contents<span class=\"tocSkip\"></span></h1>\n",
    "<div class=\"toc\"><ul class=\"toc-item\"></ul></div>"
   ]
  },
  {
   "cell_type": "code",
   "execution_count": 1,
   "id": "0e0929ab",
   "metadata": {
    "ExecuteTime": {
     "end_time": "2022-02-01T08:28:06.058430Z",
     "start_time": "2022-02-01T08:28:06.040927Z"
    }
   },
   "outputs": [],
   "source": [
    "import csv\n",
    "import numpy as np"
   ]
  },
  {
   "cell_type": "markdown",
   "id": "e32f3dc2",
   "metadata": {},
   "source": [
    "1. Получение данных"
   ]
  },
  {
   "cell_type": "code",
   "execution_count": 2,
   "id": "43d7f51d",
   "metadata": {
    "ExecuteTime": {
     "end_time": "2022-02-01T08:28:08.959086Z",
     "start_time": "2022-02-01T08:28:08.953100Z"
    }
   },
   "outputs": [],
   "source": [
    "# Get the real data from https://www.kaggle.com/mlg-ulb/creditcardfraud/"
   ]
  },
  {
   "cell_type": "code",
   "execution_count": 3,
   "id": "472ba238",
   "metadata": {
    "ExecuteTime": {
     "end_time": "2022-02-01T08:28:12.794779Z",
     "start_time": "2022-02-01T08:28:12.792592Z"
    }
   },
   "outputs": [],
   "source": [
    "user_fname = '/home/al/Projects_My/NLP-russian-language/collection_all_resurses_NLP/BERT/classification_ model_for_imbalanced_classes/dataset/creditcard.csv'"
   ]
  },
  {
   "cell_type": "code",
   "execution_count": 9,
   "id": "7af9107e",
   "metadata": {
    "ExecuteTime": {
     "end_time": "2022-02-01T08:36:48.956024Z",
     "start_time": "2022-02-01T08:36:46.030649Z"
    }
   },
   "outputs": [
    {
     "name": "stdout",
     "output_type": "stream",
     "text": [
      "HEADER:  \"Time\",\"V1\",\"V2\",\"V3\",\"V4\",\"V5\",\"V6\",\"V7\",\"V8\",\"V9\",\"V10\",\"V11\",\"V12\",\"V13\",\"V14\",\"V15\",\"V16\",\"V17\",\"V18\",\"V19\",\"V20\",\"V21\",\"V22\",\"V23\",\"V24\",\"V25\",\"V26\",\"V27\",\"V28\",\"Amount\",\"Class\"\n",
      "EXAMPLE FEATURES:  [0.0, -1.3598071336738, -0.0727811733098497, 2.53634673796914, 1.37815522427443, -0.338320769942518, 0.462387777762292, 0.239598554061257, 0.0986979012610507, 0.363786969611213, 0.0907941719789316, -0.551599533260813, -0.617800855762348, -0.991389847235408, -0.311169353699879, 1.46817697209427, -0.470400525259478, 0.207971241929242, 0.0257905801985591, 0.403992960255733, 0.251412098239705, -0.018306777944153, 0.277837575558899, -0.110473910188767, 0.0669280749146731, 0.128539358273528, -0.189114843888824, 0.133558376740387, -0.0210530534538215, 149.62]\n"
     ]
    }
   ],
   "source": [
    "all_features = []\n",
    "all_targets = []\n",
    "with open(user_fname) as f:\n",
    "    for i, line in enumerate(f):\n",
    "        if i == 0:\n",
    "            print(\"HEADER: \", line.strip())\n",
    "            continue # Skip header\n",
    "        fields = line.strip().split(\",\")\n",
    "        all_features.append([float(v.replace('\"', \"\")) for v in fields[:-1]])\n",
    "        all_targets.append([int(fields[-1].replace('\"', \"\"))])\n",
    "        if i == 1:\n",
    "            print(\"EXAMPLE FEATURES: \", all_features[-1])\n",
    "features = np.array(all_features, dtype = \"float32\")\n",
    "targets = np.array(all_targets, dtype = \"uint8\")"
   ]
  },
  {
   "cell_type": "markdown",
   "id": "09d6db44",
   "metadata": {},
   "source": [
    "2. Разбиение данных на тренировочные и оценочные."
   ]
  },
  {
   "cell_type": "code",
   "execution_count": 10,
   "id": "7b28d864",
   "metadata": {
    "ExecuteTime": {
     "end_time": "2022-02-01T08:36:48.960548Z",
     "start_time": "2022-02-01T08:36:48.957158Z"
    }
   },
   "outputs": [
    {
     "name": "stdout",
     "output_type": "stream",
     "text": [
      "Number of training samples:  227846\n",
      "Number of validation samples:  56961\n"
     ]
    }
   ],
   "source": [
    "num_val_samples = int(len(features) * 0.2)\n",
    "train_features = features[:-num_val_samples]\n",
    "train_targets = targets[:-num_val_samples]\n",
    "val_features = features[-num_val_samples:]\n",
    "val_targes = targes[-num_val_samples:]\n",
    "print(\"Number of training samples: \", len(train_features))\n",
    "print(\"Number of validation samples: \", len(val_features))"
   ]
  },
  {
   "cell_type": "code",
   "execution_count": null,
   "id": "2bb07ff6",
   "metadata": {},
   "outputs": [],
   "source": []
  }
 ],
 "metadata": {
  "kernelspec": {
   "display_name": "Python 3 (ipykernel)",
   "language": "python",
   "name": "python3"
  },
  "language_info": {
   "codemirror_mode": {
    "name": "ipython",
    "version": 3
   },
   "file_extension": ".py",
   "mimetype": "text/x-python",
   "name": "python",
   "nbconvert_exporter": "python",
   "pygments_lexer": "ipython3",
   "version": "3.8.10"
  },
  "toc": {
   "base_numbering": 1,
   "nav_menu": {},
   "number_sections": true,
   "sideBar": true,
   "skip_h1_title": false,
   "title_cell": "Table of Contents",
   "title_sidebar": "Contents",
   "toc_cell": true,
   "toc_position": {},
   "toc_section_display": true,
   "toc_window_display": true
  }
 },
 "nbformat": 4,
 "nbformat_minor": 5
}
