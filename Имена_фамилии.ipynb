{
 "cells": [
  {
   "cell_type": "markdown",
   "metadata": {},
   "source": [
    "# Обучение нейросети распознавать имена фамилии отчества"
   ]
  },
  {
   "cell_type": "code",
   "execution_count": 1,
   "metadata": {},
   "outputs": [],
   "source": [
    "import pymorphy2\n",
    "morph = pymorphy2.MorphAnalyzer()"
   ]
  },
  {
   "cell_type": "code",
   "execution_count": 2,
   "metadata": {},
   "outputs": [],
   "source": [
    "def get_new_forms_from_file(name_file):\n",
    "    new_forms = []\n",
    "    with open(name_file,'r') as ish_f:\n",
    "        for word_ish in ish_f:\n",
    "            word_ish = word_ish.strip().lower()\n",
    "            word = morph.parse(word_ish)[0].lexeme\n",
    "            for k in word:\n",
    "                new_forms.append(k.word)\n",
    "    name_set = set(new_forms)\n",
    "    print(len(name_set))\n",
    "    return name_set"
   ]
  },
  {
   "cell_type": "markdown",
   "metadata": {},
   "source": [
    "получаем все словоформы имен"
   ]
  },
  {
   "cell_type": "code",
   "execution_count": 3,
   "metadata": {},
   "outputs": [
    {
     "name": "stdout",
     "output_type": "stream",
     "text": [
      "531944\n"
     ]
    }
   ],
   "source": [
    "\n",
    "name_set = get_new_forms_from_file('/home/al/PycharmProjects/NLP-russian-language/datasets/datasets_with_name_peaple/name_com.txt')"
   ]
  },
  {
   "cell_type": "markdown",
   "metadata": {},
   "source": [
    "получаем все словоформы фамилий"
   ]
  },
  {
   "cell_type": "code",
   "execution_count": 4,
   "metadata": {},
   "outputs": [
    {
     "name": "stdout",
     "output_type": "stream",
     "text": [
      "4102327\n"
     ]
    }
   ],
   "source": [
    "fameli_set = get_new_forms_from_file('/home/al/PycharmProjects/NLP-russian-language/datasets/datasets_with_name_peaple/fameli_com.txt')"
   ]
  },
  {
   "cell_type": "markdown",
   "metadata": {},
   "source": [
    "исключаем словоформы фамилий из словоформ имен"
   ]
  },
  {
   "cell_type": "code",
   "execution_count": 5,
   "metadata": {},
   "outputs": [
    {
     "name": "stdout",
     "output_type": "stream",
     "text": [
      "475280\n"
     ]
    }
   ],
   "source": [
    "name_set = name_set.difference(fameli_set)\n",
    "print(len(name_set))"
   ]
  },
  {
   "cell_type": "markdown",
   "metadata": {},
   "source": [
    "Все словоформы отчеств"
   ]
  },
  {
   "cell_type": "code",
   "execution_count": 6,
   "metadata": {},
   "outputs": [
    {
     "name": "stdout",
     "output_type": "stream",
     "text": [
      "26751\n"
     ]
    }
   ],
   "source": [
    "name_dad_set = get_new_forms_from_file('/home/al/PycharmProjects/NLP-russian-language/datasets/datasets_with_name_peaple/name_dad_com.txt')"
   ]
  },
  {
   "cell_type": "markdown",
   "metadata": {},
   "source": [
    "простые слова из словаря убраны все словоформы фамилий имен и отчеств"
   ]
  },
  {
   "cell_type": "code",
   "execution_count": 7,
   "metadata": {},
   "outputs": [],
   "source": [
    "words_other = []\n",
    "with open('/home/al/PycharmProjects/NLP-russian-language/datasets/datasets_with_name_peaple/words_withot_fameli_name_name_dad.txt','r') as ish_f:\n",
    "    for ww_one in ish_f:\n",
    "        words_other.append(ww_one.strip())"
   ]
  },
  {
   "cell_type": "code",
   "execution_count": 8,
   "metadata": {},
   "outputs": [
    {
     "name": "stdout",
     "output_type": "stream",
     "text": [
      "1901120\n"
     ]
    }
   ],
   "source": [
    "name_list_ish = list(name_set) + list(name_set) + list(name_set) + list(name_set) #+ list(name_set) + list(name_set) + list(name_set) + list(name_set)\n",
    "print(len(name_list_ish))"
   ]
  },
  {
   "cell_type": "code",
   "execution_count": 9,
   "metadata": {},
   "outputs": [
    {
     "name": "stdout",
     "output_type": "stream",
     "text": [
      "668775\n"
     ]
    }
   ],
   "source": [
    "name_dad_ish = list(name_dad_set) + list(name_dad_set) + list(name_dad_set) + list(name_dad_set) + list(name_dad_set)\n",
    "name_dad_ish = name_dad_ish + name_dad_ish + name_dad_ish + name_dad_ish + name_dad_ish\n",
    "#name_dad_ish = name_dad_ish + name_dad_ish + name_dad_ish + name_dad_ish + name_dad_ish + name_dad_ish\n",
    "print(len(name_dad_ish))"
   ]
  },
  {
   "cell_type": "code",
   "execution_count": 10,
   "metadata": {},
   "outputs": [],
   "source": [
    "def get_array_obj(fameli):\n",
    "    array_ish = []\n",
    "    for ww in fameli:\n",
    "       array_ish.append(list(ww))\n",
    "    print(len(array_ish))\n",
    "    return array_ish"
   ]
  },
  {
   "cell_type": "markdown",
   "metadata": {},
   "source": [
    "## делаем из каждого слова список символов"
   ]
  },
  {
   "cell_type": "code",
   "execution_count": 11,
   "metadata": {},
   "outputs": [
    {
     "name": "stdout",
     "output_type": "stream",
     "text": [
      "4102327\n",
      "2556595\n",
      "1901120\n",
      "668775\n"
     ]
    }
   ],
   "source": [
    "fameli_count = get_array_obj(fameli_set)\n",
    "words_count = get_array_obj(words_other)\n",
    "name_count = get_array_obj(name_list_ish)\n",
    "name_dad_count = get_array_obj(name_dad_ish)"
   ]
  },
  {
   "cell_type": "code",
   "execution_count": 12,
   "metadata": {},
   "outputs": [],
   "source": [
    "from nltk.util import ngrams"
   ]
  },
  {
   "cell_type": "markdown",
   "metadata": {},
   "source": [
    "## из разложения слова по символам создаем инграммы по 4 символа из инграмм делаем предложения "
   ]
  },
  {
   "cell_type": "code",
   "execution_count": 13,
   "metadata": {},
   "outputs": [],
   "source": [
    "def from_word_list_to_sentenses(dd:list):\n",
    "    servis_list =[]\n",
    "    servis_list.append(''.join(dd))\n",
    "    ngg = list(ngrams(dd, 4))\n",
    "    for nn in ngg:\n",
    "        word = ''.join(nn)\n",
    "        servis_list.append(word)\n",
    "    return ' '.join(servis_list)"
   ]
  },
  {
   "cell_type": "markdown",
   "metadata": {},
   "source": [
    "### создаем список предложений по каждому слову"
   ]
  },
  {
   "cell_type": "code",
   "execution_count": 14,
   "metadata": {},
   "outputs": [],
   "source": [
    "def get_sentenses(array_ish, y, label, sentenses):\n",
    "    k = 0\n",
    "    for dd in array_ish:\n",
    "        sentenses.append(from_word_list_to_sentenses(dd))\n",
    "        y.append(label)\n",
    "#         k +=1\n",
    "#         if k == 10: break\n",
    "    #print(sentenses)\n",
    "    return sentenses, y"
   ]
  },
  {
   "cell_type": "markdown",
   "metadata": {},
   "source": [
    "### создаем единый массив из слов и классов"
   ]
  },
  {
   "cell_type": "code",
   "execution_count": 15,
   "metadata": {},
   "outputs": [
    {
     "name": "stdout",
     "output_type": "stream",
     "text": [
      "1\n",
      "2\n",
      "3\n",
      "4\n"
     ]
    }
   ],
   "source": [
    "y =[]\n",
    "sentenses = []\n",
    "sentenses, y = get_sentenses(fameli_count, y, 'фамилия', sentenses)\n",
    "print(1)\n",
    "sentenses, y = get_sentenses(words_count, y, 'слово', sentenses)\n",
    "print(2)\n",
    "sentenses, y = get_sentenses(name_count, y, 'имя', sentenses)\n",
    "print(3)\n",
    "sentenses, y = get_sentenses(name_dad_count, y, 'отчество', sentenses)\n",
    "print(4)"
   ]
  },
  {
   "cell_type": "code",
   "execution_count": 16,
   "metadata": {},
   "outputs": [],
   "source": [
    "from sklearn.feature_extraction.text import CountVectorizer\n",
    "from sklearn.feature_extraction.text import TfidfTransformer\n",
    "from sklearn.naive_bayes import MultinomialNB\n",
    "from sklearn.pipeline import Pipeline\n",
    "from sklearn.model_selection import train_test_split"
   ]
  },
  {
   "cell_type": "markdown",
   "metadata": {},
   "source": [
    "### разделляем данные на обучающие и оценочные"
   ]
  },
  {
   "cell_type": "code",
   "execution_count": 17,
   "metadata": {},
   "outputs": [],
   "source": [
    "X_train, X_test, y_train, y_test = train_test_split(sentenses, y, test_size=0.33, random_state=42)"
   ]
  },
  {
   "cell_type": "code",
   "execution_count": 18,
   "metadata": {},
   "outputs": [
    {
     "name": "stdout",
     "output_type": "stream",
     "text": [
      "(6183307, 4917196)\n"
     ]
    }
   ],
   "source": [
    "vectorizer = CountVectorizer()\n",
    "X_train_counts = vectorizer.fit_transform(X_train)\n",
    "print(X_train_counts.shape)\n",
    "tfidf_transformer = TfidfTransformer()\n",
    "X_train_tfidf = tfidf_transformer.fit_transform(X_train_counts)\n",
    "# Метод наивный Байес\n",
    "clf = MultinomialNB().fit(X_train_tfidf, y_train)"
   ]
  },
  {
   "cell_type": "code",
   "execution_count": 35,
   "metadata": {},
   "outputs": [
    {
     "name": "stdout",
     "output_type": "stream",
     "text": [
      "(3045510, 4917196)\n",
      "0.8741455454094716\n"
     ]
    }
   ],
   "source": [
    "X_test_new = vectorizer.transform(X_test)\n",
    "print(X_test_new.shape)\n",
    "X_new_tfidf = tfidf_transformer.transform(X_test_new)\n",
    "predicted = clf.predict(X_new_tfidf)\n",
    "k = 0\n",
    "for doc, category in zip(y_test, predicted):\n",
    "    #print('%r => %s' % (doc, category))\n",
    "    if doc == category: k +=1\n",
    "print(k/len(y_test))"
   ]
  },
  {
   "cell_type": "code",
   "execution_count": 36,
   "metadata": {},
   "outputs": [],
   "source": [
    "import pickle\n",
    "# сохраняем модель\n",
    "with open('model_FIO.pkl', 'wb') as f:\n",
    "    pickle.dump(clf, f )"
   ]
  },
  {
   "cell_type": "code",
   "execution_count": 38,
   "metadata": {},
   "outputs": [
    {
     "name": "stdout",
     "output_type": "stream",
     "text": [
      "<class 'numpy.ndarray'>\n",
      "0.8741455454094716\n"
     ]
    }
   ],
   "source": [
    "from sklearn.metrics import accuracy_score\n",
    "class_num = {'фамилия':1, 'имя':2, 'отчество':3, 'слово':4}\n",
    "y_ac = []\n",
    "x_ac = []\n",
    "for kk in y_test: y_ac.append(class_num[kk])\n",
    "for kk in predicted: x_ac.append(class_num[kk])\n",
    "print(accuracy_score(y_ac,x_ac))"
   ]
  },
  {
   "cell_type": "code",
   "execution_count": 44,
   "metadata": {},
   "outputs": [
    {
     "data": {
      "text/plain": [
       "Text(0.5, 1.0, 'Confusion matrix')"
      ]
     },
     "execution_count": 44,
     "metadata": {},
     "output_type": "execute_result"
    },
    {
     "data": {
      "image/png": "[encoded data removed]",
      "text/plain": [
       "<Figure size 432x288 with 2 Axes>"
      ]
     },
     "metadata": {
      "needs_background": "light"
     },
     "output_type": "display_data"
    }
   ],
   "source": [
    "# Построение ненормализованной матрицы неточностей\n",
    "%matplotlib inline\n",
    "import matplotlib.pyplot as plt\n",
    "from sklearn.metrics import plot_confusion_matrix\n",
    "title = \"Confusion matrix\"\n",
    "normalize = None\n",
    "\n",
    "disp = plot_confusion_matrix(clf, X_new_tfidf, y_test,\n",
    "                             cmap=plt.cm.Blues,\n",
    "                             normalize=normalize)\n",
    "disp.ax_.set_title(title)"
   ]
  },
  {
   "cell_type": "code",
   "execution_count": 23,
   "metadata": {},
   "outputs": [],
   "source": [
    "train_array = []\n",
    "train_y = [] \n",
    "train_array, train_y = get_sentenses([list('Гансиор'.lower())], train_y, 'фамилия', train_array)\n",
    "train_array, train_y = get_sentenses([list('Корнеев'.lower())], train_y, 'фамилия', train_array)\n",
    "train_array, train_y = get_sentenses([list('Сергею'.lower())], train_y, 'имя', train_array)\n",
    "train_array, train_y = get_sentenses([list('Александровичу'.lower())], train_y, 'отчество', train_array)\n",
    "train_array, train_y = get_sentenses([list('виамин'.lower())], train_y, 'имя', train_array)"
   ]
  },
  {
   "cell_type": "code",
   "execution_count": 24,
   "metadata": {},
   "outputs": [
    {
     "name": "stdout",
     "output_type": "stream",
     "text": [
      "'фамилия' => слово\n",
      "'фамилия' => фамилия\n",
      "True\n",
      "'имя' => имя\n",
      "True\n",
      "'отчество' => отчество\n",
      "True\n",
      "'имя' => имя\n",
      "True\n"
     ]
    }
   ],
   "source": [
    "X_train_new = vectorizer.transform(train_array)\n",
    "X_new_tfidf = tfidf_transformer.transform(X_train_new)\n",
    "predicted = clf.predict(X_new_tfidf)\n",
    "for doc, category in zip(train_y, predicted):\n",
    "    print('%r => %s' % (doc, category))\n",
    "    if doc == category: print('True')"
   ]
  },
  {
   "cell_type": "code",
   "execution_count": null,
   "metadata": {},
   "outputs": [],
   "source": []
  }
 ],
 "metadata": {
  "kernelspec": {
   "display_name": "Python 3",
   "language": "python",
   "name": "python3"
  },
  "language_info": {
   "codemirror_mode": {
    "name": "ipython",
    "version": 3
   },
   "file_extension": ".py",
   "mimetype": "text/x-python",
   "name": "python",
   "nbconvert_exporter": "python",
   "pygments_lexer": "ipython3",
   "version": "3.8.10"
  }
 },
 "nbformat": 4,
 "nbformat_minor": 4
}
